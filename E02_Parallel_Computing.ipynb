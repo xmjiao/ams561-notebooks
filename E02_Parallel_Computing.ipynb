{
 "cells": [
  {
   "cell_type": "markdown",
   "metadata": {},
   "source": [
    "# Brief introduction to parallel programming with Python\n",
    "\n",
    "You've had brief introduction to computer architecture and should already know that (once you've exhausted algorithmic improvements and using efficient libraries such as NumPy) the main path to increased performance is parallelism --- i.e., exploiting the ability of your computer to do multiple things at once.\n",
    "\n",
    "How many processors/cores/threads does your computer have?\n",
    "* my laptop has 1 processor with 2 physical cores and supports a total of 4 (hyper)threads\n",
    "* yours might have more cores\n",
    "We routinely use both cores when working on the computer --- e.g., doing homework in the word processor while watching Netflix in the browser.\n",
    "\n",
    "At SBU we have the SeaWulf supercomputer\n",
    "* It contains over 165 computers (also called nodes) --- actually now over 250 nodes --- now over 350\n",
    "* Each computer has 2 processors for a total of 28 cores and 56 threads per computer (which has 128 Gbyte memory)\n",
    "* In total there are 4620 cores and 21 Tbyte memory --- actually now over 10K cores --- now nearly 20K\n",
    "\n",
    "In addition to running faster we often need to use parallel computing to use more memory.\n",
    "* There is one computer in SeaWulf that has 72 cores (144 threads) and 3Tbyte memory.  A fantastic machine for big data analytics.\n",
    "\n",
    "Lots of standard packages can internally use parallelism.\n",
    "\n",
    "Here we explore how to use parallel programming as a general purpose tool using all of the cores within a single computer.\n",
    "\n",
    "There are two related concepts:\n",
    "* concurrency --- two or more actions that can occur in any order, including at the same time.\n",
    "  * `(a+b) + (c+d)` --- yes --- the operations in parenthesis are independent, but note the final (center) addition must be evaluated last.\n",
    "  * `a + b*c` --- no --- you must evaluate the multiplication before the addition\n",
    "* parallelism --- operations actually occur at the same time. This requires concurrency for correctness, and adds simultaneous execution for performance.\n",
    "  * In HPC (high-performance computing), performance is treated with nearly the same level of concern as correctness.\n",
    "\n",
    "Also, \n",
    "* asynchronous execution --- overlapped/interleaved execution of operations, e.g.,\n",
    "  1. start loading a web page\n",
    "  2. switch to another tab and start loading another web page\n",
    "  3. drink coffee while waiting for one of the pages to finish loading\n",
    "  4. read which ever page downloads first\n",
    "* useful when individual operations may take a long time but don't necessarily consume a lot of computer time (e.g., waiting for network services, a human, etc.)\n",
    "\n",
    "\n",
    "To begin, let's pick a problem to solve.\n",
    "\n",
    "Do you remember Tim?   We were interested in computing the probability of him falling into a canal on the way home.\n",
    "\n",
    "A simplified version of the problem is the following random process.  In 1D Tim is initially located at the origin.  I.e.,\n",
    "$$y(0)=0$$\n",
    "where $y(t)$ is his position as a function of time ($t$) or, equivalently, the number of steps.\n",
    "Each step he takes is chosen from a uniform random distribution between $-1$ and $1$.  I.e.,\n",
    "$$y(t+1) = y(t) + U[-1,1]$$\n",
    "where $U[-1,1]$ denotes the random number.  \n",
    "\n",
    "We want to answer the question:\n",
    "* When (i.e., at what time or with how many steps) does Tim first reach distance $Y$ from the origin, and how does this time depend upon $Y$?\n",
    "* This is called the first crossing time\n",
    "* It is important in many applications including chemistry, electronics, biology, etc.\n",
    "* It is interesting to also examine the time and/or probability of returning to the origin.\n",
    "* Also interesting is how first crossing time and return probability change with the number of dimensions\n",
    "  * Aside: In 1 and 2 dimensions, a random walker returns infinitely often, but in 3 and higher dimensions there are only a finite number of returns.  A rather mathy explanation is [here](http://math.uchicago.edu/~may/REU2018/REUPapers/Ombrellaro.pdf).\n",
    "\n",
    "To do this we will write a function to run a single random walk and return the time (number of steps) taken to reach $Y$."
   ]
  },
  {
   "cell_type": "code",
   "execution_count": 1,
   "metadata": {},
   "outputs": [],
   "source": [
    "import random\n",
    "def random_walk(Y):\n",
    "    ''' Execute a random walk and return the number of steps to reach +/- Y'''\n",
    "    y = 0.0\n",
    "    n = 0\n",
    "    while abs(y) < Y:\n",
    "        y += (random.random()-0.5)*2.0\n",
    "        n += 1\n",
    "    return n"
   ]
  },
  {
   "cell_type": "code",
   "execution_count": 2,
   "metadata": {},
   "outputs": [
    {
     "name": "stdout",
     "output_type": "stream",
     "text": [
      "119\n",
      "173\n",
      "236\n",
      "107\n"
     ]
    }
   ],
   "source": [
    "print(random_walk(10))\n",
    "print(random_walk(10))\n",
    "print(random_walk(10))\n",
    "print(random_walk(10))"
   ]
  },
  {
   "cell_type": "markdown",
   "metadata": {},
   "source": [
    "It's a random number!  Duh.  \n",
    "\n",
    "So instead we need to compute the average (or expectation value) over many walks.\n",
    "\n",
    "Write a function to average the number of steps needed over `Nsample` walks"
   ]
  },
  {
   "cell_type": "code",
   "execution_count": null,
   "metadata": {},
   "outputs": [],
   "source": []
  },
  {
   "cell_type": "markdown",
   "metadata": {},
   "source": []
  },
  {
   "cell_type": "code",
   "execution_count": 3,
   "metadata": {},
   "outputs": [],
   "source": [
    "import statistics\n",
    "def mean_length(Y,Nsample=300):\n",
    "    return statistics.mean([random_walk(Y) for i in range(Nsample)])"
   ]
  },
  {
   "cell_type": "markdown",
   "metadata": {},
   "source": [
    "Run it for Y=10,20,100"
   ]
  },
  {
   "cell_type": "code",
   "execution_count": 4,
   "metadata": {},
   "outputs": [
    {
     "data": {
      "text/plain": [
       "304.8433333333333"
      ]
     },
     "execution_count": 4,
     "metadata": {},
     "output_type": "execute_result"
    }
   ],
   "source": [
    "mean_length(10)"
   ]
  },
  {
   "cell_type": "code",
   "execution_count": 5,
   "metadata": {},
   "outputs": [
    {
     "data": {
      "text/plain": [
       "30530.076666666668"
      ]
     },
     "execution_count": 5,
     "metadata": {},
     "output_type": "execute_result"
    }
   ],
   "source": [
    "mean_length(100)"
   ]
  },
  {
   "cell_type": "code",
   "execution_count": 6,
   "metadata": {},
   "outputs": [
    {
     "data": {
      "text/plain": [
       "122751.69"
      ]
     },
     "execution_count": 6,
     "metadata": {},
     "output_type": "execute_result"
    }
   ],
   "source": [
    "mean_length(200)"
   ]
  },
  {
   "cell_type": "markdown",
   "metadata": {},
   "source": [
    "Wow ... as we increase Y it takes longer and longer.  It would be nice to make this calculation faster.\n",
    "\n",
    "Let's write a program that given a list of Ys runs each calculation (task) in parallel and returns the result to us.\n",
    "\n",
    "We will use the Python standard `multiprocessing` module.\n",
    "* https://docs.python.org/dev/library/multiprocessing.html \n",
    "\n",
    "Specifically, we will be using the process pool. Imagine a pool of workers waiting for a manager to give them tasks to execute.  The manager (or main process) \n",
    "* passes data to each worker describe the work that needs doing\n",
    "  * if there is a lot of data the overhead of passing data needs to be offset by the amount of work that needs doing\n",
    "* takes the result as each worker finishes a task and gives more work\n",
    "* once all the work is done sends the workers home (terminates the worker processes)\n",
    "\n",
    "The processes clearly needs to know not just some data (in our case the value of $Y$) but also what code to execute.  Thus, they need access to your Python program.\n",
    "\n",
    "[On Windows using slightly older versions of Python, parallelism did not work easily inside Jupyter notebook and some workarounds were necessary]"
   ]
  },
  {
   "cell_type": "markdown",
   "metadata": {},
   "source": [
    "Quick aside to look at **functional programming** in Python using `map`, `filter` and `reduce`\n",
    "* [builtin functions](https://docs.python.org/3/library/functions.html) for documentation on `map`, `filter` and `reduce`\n",
    "* [tutorial-1](https://book.pythontips.com/en/latest/map_filter.html)\n",
    "* [tutorial 2](https://realpython.com/python-map-function/)\n",
    "* Note they return an iterable, so they can efficiently handle large (even unbounded) inputs\n",
    "* It's really just `map` we need for now, but it's good to undersand all 3 tools.\n",
    "\n",
    "These 3 basic elements were the intial foundation of the big data revolution\n",
    "* How can you operate on (or even understand or reason about) data that needs hundreds of thousands of computers to store and manipulate?\n",
    "* How can you reliably compute using hundreds of thousands of computers when something is always broken (because there's so many parts)?\n",
    "* [Hadoop](https://hadoop.apache.org/)\n",
    "  * Fairly quickly Hadoop was superseded by more sophisticated approaches\n",
    "  * Basic map/reduce is very inefficient since it moves much more data than necessary (remember the H/W discussion --- moving data is the most expensive operation in money, time and energy)\n",
    "  * It (specifically the Hadoop file system) was a \"crude\" software solution to a fairly easily solved hardware problem (reliable fast storage)\n",
    "  * It did not address many data/computational needs"
   ]
  },
  {
   "cell_type": "code",
   "execution_count": 7,
   "metadata": {},
   "outputs": [
    {
     "name": "stdout",
     "output_type": "stream",
     "text": [
      "[-0.09395407076080287, -0.465654933240777, 0.06123153171135698, 0.37388161721917257, -0.30407057338810506, 0.3841963196315822, -0.045513312180639476, 0.17557275973823594, 0.15403095297082225, -0.02235685544023014]\n",
      "Filter 1\n",
      "0.06123153171135698\n",
      "0.37388161721917257\n",
      "0.3841963196315822\n",
      "0.17557275973823594\n",
      "0.15403095297082225\n",
      "\n",
      "Filter 2\n",
      "[0.06123153171135698, 0.37388161721917257, 0.3841963196315822, 0.17557275973823594, 0.15403095297082225]\n",
      "\n",
      "Filter 3\n",
      "[0.06123153171135698, 0.37388161721917257, 0.3841963196315822, 0.17557275973823594, 0.15403095297082225]\n",
      "\n",
      "Map 1\n",
      "[0.008827367412525952, 0.21683451685147248, 0.0037493004757189153, 0.13978746369442388, 0.09245891360057099, 0.14760681201845285, 0.0020714615856523458, 0.030825793962100324, 0.023725534473099656, 0.000499828985175348]\n",
      "\n",
      "Map 2\n",
      "[0.06382710480444147, 0.24192864711593332, 0.2152229324416873, 0.21013850219333124, 0.16410463684200408, 0.18937995750579523, 0.02649023552044681, 0.09857414936258024, 0.042466384646352474, 0.045763255777852924]\n",
      "\n",
      "Reduce 1\n",
      "0.21736343626061538 0.21736343626061538\n",
      "\n",
      "Reduce 2\n",
      "-3.2198151379800746e-09 -3.2198151379800746e-09\n"
     ]
    }
   ],
   "source": [
    "import random\n",
    "\n",
    "values = [random.random()-0.5 for i in range(10)]  # Doesn't have to be a list --- any iterable\n",
    "values2= [random.random()-0.5 for i in range(10)]\n",
    "print(values)\n",
    "\n",
    "# Filter\n",
    "print(\"Filter 1\")\n",
    "for value in filter(lambda x: x>=0, values):\n",
    "    print(value)\n",
    "\n",
    "print(\"\\nFilter 2\")\n",
    "positives = list(filter(lambda x: x>=0, values))\n",
    "print(positives)\n",
    "\n",
    "print(\"\\nFilter 3\")\n",
    "positives = [value for value in filter(lambda x: x>=0, values)]\n",
    "print(positives)\n",
    "\n",
    "# Map\n",
    "print(\"\\nMap 1\")\n",
    "squares = list(map(lambda x: x**2, values))\n",
    "print(squares)\n",
    "\n",
    "print(\"\\nMap 2\")\n",
    "sumsqs = list(map(lambda x, y: x**2 + y**2, values, values2))\n",
    "print(sumsqs)\n",
    "\n",
    "# Reduce\n",
    "from functools import reduce\n",
    "print(\"\\nReduce 1\")\n",
    "sum1 = sum(values)\n",
    "sum2 = reduce(lambda x, y: x+y, values)\n",
    "print(sum1, sum2)\n",
    "\n",
    "print(\"\\nReduce 2\")\n",
    "product1 = reduce(lambda x, y: x*y, values)\n",
    "product2 = 1\n",
    "for value in values:\n",
    "    product2 *= value\n",
    "print(product1, product2)"
   ]
  },
  {
   "cell_type": "code",
   "execution_count": null,
   "metadata": {},
   "outputs": [],
   "source": []
  },
  {
   "cell_type": "markdown",
   "metadata": {},
   "source": [
    "**First**, a simple example.  We will write a parallel program to compute the sine of each of a list of numbers --- we don't expect to see any speed up since there is so little work to do compared with the overhead of communication between manager and worker.\n"
   ]
  },
  {
   "cell_type": "code",
   "execution_count": 8,
   "metadata": {},
   "outputs": [
    {
     "name": "stdout",
     "output_type": "stream",
     "text": [
      "[0.09983341664682815, 0.19866933079506122, 0.29552020666133955, -0.7457052121767203, 0.9995201585807313]\n",
      "Time : 0.04405641555786133secs\n"
     ]
    }
   ],
   "source": [
    "import math\n",
    "import time\n",
    "import multiprocessing as mp\n",
    "\n",
    "# For use in a script\n",
    "#if __name__ == \"__main__\":\n",
    "#    mp.freeze_support() # usually only needed for older Pythons on windows\n",
    "# and indent everything below to be protected by the if\n",
    "\n",
    "NUM_WORKERS = 2\n",
    "\n",
    "start_time = time.time()\n",
    "\n",
    "with mp.Pool(processes=NUM_WORKERS) as pool:\n",
    "    results = pool.map(math.sin, [0.1,0.2,0.3,-2.3,77.0])\n",
    "\n",
    "end_time = time.time()   \n",
    "print(results)\n",
    "\n",
    "print(\"Time : %ssecs\" % (end_time - start_time))"
   ]
  },
  {
   "cell_type": "code",
   "execution_count": 9,
   "metadata": {},
   "outputs": [
    {
     "data": {
      "text/plain": [
       "[0.09983341664682815,\n",
       " 0.19866933079506122,\n",
       " 0.29552020666133955,\n",
       " -0.7457052121767203,\n",
       " 0.9995201585807313]"
      ]
     },
     "execution_count": 9,
     "metadata": {},
     "output_type": "execute_result"
    }
   ],
   "source": [
    "list(map(math.sin, [0.1,0.2,0.3,-2.3,77.0]))"
   ]
  },
  {
   "cell_type": "code",
   "execution_count": null,
   "metadata": {},
   "outputs": [],
   "source": []
  },
  {
   "cell_type": "markdown",
   "metadata": {},
   "source": [
    "**Global variables:** Remember again that each process has completely separate memory.  Therefore, any results must be returned by the tasks.  \n",
    "\n",
    "Also, depending on your operating system and its method to create the new processes \n",
    "* you *may* or *may not* have access to *copies* of global variables defined in the main program, and\n",
    "* even if you can access the global variables they may not have up-to-date values, and\n",
    "* any changes made to global data will not be visible to other processes.\n",
    "\n",
    "Best practices: \n",
    "* pass all necessary data in as arguments to the tasks, or\n",
    "* initialize all global data before you create the first sub-process and after that ensure that any global data you want accessible to sub-processes is read-only.\n",
    "\n",
    "**Global interpreter lock (GIL):**  Why are we using processes that do not (easily) share data?  Why not use threads?\n",
    "* The most widely-used implementation of Python (CPython) is internally not thread safe\n",
    "  - This means that critical data structures inside Python have not been designed to permit multiple threads to be accessing/modifying them simultaneously.\n",
    "  - This is in part historical (Python pre-dates the widespread use of threads) and in part because in the current implementation no-one has found a way to make Python thread safe without making it much slower.\n",
    "  - Work is in progress to address this, but it has already been going on for years.\n",
    "* Thus, everytime your code enters the Python kernel it there is a global lock that ensures that only one thread is inside. \n",
    "* Thus, you cannot use Python threads for parallelism --- you can only use them for concurrency (e.g., to express asynchronous operations) but only one thread will be executing Python code at any one moment.\n",
    "* You can call external routines (e.g., from NumPy or SciPy) that are implemented in a different language (e.g., C/C++) and they can use threads for parallelism as long as they do not call back into Python.\n"
   ]
  },
  {
   "cell_type": "code",
   "execution_count": null,
   "metadata": {},
   "outputs": [],
   "source": []
  },
  {
   "cell_type": "markdown",
   "metadata": {},
   "source": [
    "Python `with` statement\n",
    "* https://effbot.org/zone/python-with-statement.htm\n",
    "* https://www.geeksforgeeks.org/with-statement-in-python/\n",
    "* https://preshing.com/20110920/the-python-with-statement-by-example/\n",
    "* https://docs.python.org/3/reference/compound_stmts.html#the-with-statement\n",
    "* https://realpython.com/python-with-statement/\n"
   ]
  },
  {
   "cell_type": "code",
   "execution_count": 10,
   "metadata": {},
   "outputs": [
    {
     "name": "stdout",
     "output_type": "stream",
     "text": [
      "There are 303 lines in the file.\n",
      "Got ValueError\n",
      "False\n",
      "\n",
      "There are 303 lines in the file.\n",
      "Got ValueError\n",
      "True\n",
      "\n",
      "There are 303 lines in the file.\n",
      "Got ValueError\n",
      "True\n",
      "\n",
      "There are 303 lines in the file.\n",
      "\n",
      "There are 303 lines in the file.\n"
     ]
    }
   ],
   "source": [
    "try:\n",
    "    file = open(\"allswell.txt\")\n",
    "    print(\"There are %d lines in the file.\" % len(file.readlines()))\n",
    "    raise ValueError\n",
    "    file.close()\n",
    "except ValueError:\n",
    "    print(\"Got ValueError\")\n",
    "print(file.closed)\n",
    "\n",
    "print(\"\")\n",
    "\n",
    "try:\n",
    "    file = open(\"allswell.txt\")\n",
    "    print(\"There are %d lines in the file.\" % len(file.readlines()))\n",
    "    raise ValueError\n",
    "except ValueError:\n",
    "    print(\"Got ValueError\")\n",
    "finally:\n",
    "    file.close()\n",
    "print(file.closed)\n",
    "\n",
    "print(\"\")\n",
    "\n",
    "try:\n",
    "    with open(\"allswell.txt\") as file:\n",
    "        print(\"There are %d lines in the file.\" % len(file.readlines()))\n",
    "        raise ValueError\n",
    "except ValueError:\n",
    "    print(\"Got ValueError\")\n",
    "print(file.closed)\n",
    "\n",
    "print(\"\")\n",
    "\n",
    "with open(\"allswell.txt\") as file:\n",
    "        print(\"There are %d lines in the file.\" % len(file.readlines()))\n",
    "        \n",
    "print(\"\")\n",
    "print(\"There are %d lines in the file.\" % len(open(\"allswell.txt\").readlines()))"
   ]
  },
  {
   "cell_type": "code",
   "execution_count": null,
   "metadata": {},
   "outputs": [],
   "source": []
  },
  {
   "cell_type": "markdown",
   "metadata": {},
   "source": [
    "Some key ingredients if using a script rather than inline Jupyter notebook\n",
    "* One process (the manager) will be running the script as its main program --- but we don't want all of the worker processes to execute the full script otherwise they too will make pools of workers that in turn will make more workers ... \n",
    "* So we need to use the `if __name__ == \"__main__\":` technique to stop unnecessary code from being executed\n",
    "* For more details https://docs.python.org/dev/library/multiprocessing.html#multiprocessing-programming\n",
    "\n",
    "\n",
    "Also, it *used* to be essential on Windows to have `mp.freeze_support` --- if needed it *must* be the first line after `if __name__ == \"__main__\":`\n",
    "* `NUM_WORKERS` controls the number of processes we will create"
   ]
  },
  {
   "cell_type": "markdown",
   "metadata": {},
   "source": [
    "OK, let's do the real problem.  Instead of executing `math.sin(value)` we want to execute `mean_length(Y)`\n",
    "* modify the program to do this\n",
    "* run it\n",
    "* modify the number of workers --- how does the execution time vary?\n",
    "\n",
    "Our list of Y values will be."
   ]
  },
  {
   "cell_type": "code",
   "execution_count": 11,
   "metadata": {},
   "outputs": [
    {
     "name": "stdout",
     "output_type": "stream",
     "text": [
      "[10, 20, 30, 40, 50, 60, 70, 80, 90, 100, 110, 120, 130, 140, 150, 150, 150, 150, 150, 150, 150, 150]\n"
     ]
    }
   ],
   "source": [
    "Ylist = [10,20,30,40,50,60,70,80,90,100,110,120,130,140,150,150,150,150,150,150,150,150]\n",
    "print(Ylist)"
   ]
  },
  {
   "cell_type": "code",
   "execution_count": 12,
   "metadata": {},
   "outputs": [
    {
     "name": "stdout",
     "output_type": "stream",
     "text": [
      "<multiprocessing.pool.IMapIterator object at 0x7f5e1875d9d0>\n",
      "Time : 0.0377810001373291secs\n"
     ]
    }
   ],
   "source": [
    "NUM_WORKERS = 10\n",
    "\n",
    "start_time = time.time()\n",
    "\n",
    "with mp.Pool(processes=NUM_WORKERS) as pool:\n",
    "    results = pool.imap(mean_length, Ylist, 1) # 1 is the \"chunksize\"\n",
    "\n",
    "end_time = time.time()   \n",
    "print(results)\n",
    "\n",
    "print(\"Time : %ssecs\" % (end_time - start_time))"
   ]
  },
  {
   "cell_type": "code",
   "execution_count": 13,
   "metadata": {},
   "outputs": [
    {
     "name": "stdout",
     "output_type": "stream",
     "text": [
      "[150, 150, 150, 150, 150, 150, 150, 150, 140, 130, 120, 110, 100, 90, 80, 70, 60, 50, 40, 30, 20, 10]\n"
     ]
    }
   ],
   "source": [
    "Ylist.reverse()\n",
    "print(Ylist)"
   ]
  },
  {
   "cell_type": "markdown",
   "metadata": {},
   "source": [
    "\n",
    "\n",
    "This is what I get on my laptop (in a windows virtual machine with 2 cores)\n",
    "\n",
    "* 1 worker  --- 30.0s\n",
    "* 2 workers --- 18.5s\n",
    "* 4 workers --- 16.6s\n",
    "\n",
    "On my laptop under Linux\n",
    "* 1 worker  --- 23.7s\n",
    "* 2 workers --- 14.4s\n",
    "* 4 workers --- 14.4s\n",
    "\n",
    "On SeaWulf login node\n",
    "* 1 worker  --- 32.0s\n",
    "* 2 workers --- 15.7s\n",
    "* 4 workers --- 9.6s\n",
    "* 15 workers --- 5.9"
   ]
  },
  {
   "cell_type": "markdown",
   "metadata": {},
   "source": [
    "Plot the results from the simulation"
   ]
  },
  {
   "cell_type": "code",
   "execution_count": null,
   "metadata": {},
   "outputs": [],
   "source": []
  },
  {
   "cell_type": "code",
   "execution_count": null,
   "metadata": {},
   "outputs": [],
   "source": []
  },
  {
   "cell_type": "code",
   "execution_count": 14,
   "metadata": {},
   "outputs": [
    {
     "ename": "RuntimeError",
     "evalue": "matplotlib does not support generators as input",
     "output_type": "error",
     "traceback": [
      "\u001b[0;31m---------------------------------------------------------------------------\u001b[0m",
      "\u001b[0;31mRuntimeError\u001b[0m                              Traceback (most recent call last)",
      "\u001b[0;32m/tmp/ipykernel_1108627/3821982537.py\u001b[0m in \u001b[0;36m<module>\u001b[0;34m\u001b[0m\n\u001b[1;32m      1\u001b[0m \u001b[0mget_ipython\u001b[0m\u001b[0;34m(\u001b[0m\u001b[0;34m)\u001b[0m\u001b[0;34m.\u001b[0m\u001b[0mrun_line_magic\u001b[0m\u001b[0;34m(\u001b[0m\u001b[0;34m'matplotlib'\u001b[0m\u001b[0;34m,\u001b[0m \u001b[0;34m'inline'\u001b[0m\u001b[0;34m)\u001b[0m\u001b[0;34m\u001b[0m\u001b[0;34m\u001b[0m\u001b[0m\n\u001b[1;32m      2\u001b[0m \u001b[0;32mimport\u001b[0m \u001b[0mmatplotlib\u001b[0m\u001b[0;34m.\u001b[0m\u001b[0mpyplot\u001b[0m \u001b[0;32mas\u001b[0m \u001b[0mplt\u001b[0m\u001b[0;34m\u001b[0m\u001b[0;34m\u001b[0m\u001b[0m\n\u001b[0;32m----> 3\u001b[0;31m \u001b[0mplt\u001b[0m\u001b[0;34m.\u001b[0m\u001b[0mplot\u001b[0m\u001b[0;34m(\u001b[0m\u001b[0mYlist\u001b[0m\u001b[0;34m,\u001b[0m\u001b[0mresults\u001b[0m\u001b[0;34m)\u001b[0m\u001b[0;34m;\u001b[0m\u001b[0;34m\u001b[0m\u001b[0;34m\u001b[0m\u001b[0m\n\u001b[0m",
      "\u001b[0;32m~/anaconda3/lib/python3.9/site-packages/matplotlib/pyplot.py\u001b[0m in \u001b[0;36mplot\u001b[0;34m(scalex, scaley, data, *args, **kwargs)\u001b[0m\n\u001b[1;32m   2767\u001b[0m \u001b[0;34m@\u001b[0m\u001b[0m_copy_docstring_and_deprecators\u001b[0m\u001b[0;34m(\u001b[0m\u001b[0mAxes\u001b[0m\u001b[0;34m.\u001b[0m\u001b[0mplot\u001b[0m\u001b[0;34m)\u001b[0m\u001b[0;34m\u001b[0m\u001b[0;34m\u001b[0m\u001b[0m\n\u001b[1;32m   2768\u001b[0m \u001b[0;32mdef\u001b[0m \u001b[0mplot\u001b[0m\u001b[0;34m(\u001b[0m\u001b[0;34m*\u001b[0m\u001b[0margs\u001b[0m\u001b[0;34m,\u001b[0m \u001b[0mscalex\u001b[0m\u001b[0;34m=\u001b[0m\u001b[0;32mTrue\u001b[0m\u001b[0;34m,\u001b[0m \u001b[0mscaley\u001b[0m\u001b[0;34m=\u001b[0m\u001b[0;32mTrue\u001b[0m\u001b[0;34m,\u001b[0m \u001b[0mdata\u001b[0m\u001b[0;34m=\u001b[0m\u001b[0;32mNone\u001b[0m\u001b[0;34m,\u001b[0m \u001b[0;34m**\u001b[0m\u001b[0mkwargs\u001b[0m\u001b[0;34m)\u001b[0m\u001b[0;34m:\u001b[0m\u001b[0;34m\u001b[0m\u001b[0;34m\u001b[0m\u001b[0m\n\u001b[0;32m-> 2769\u001b[0;31m     return gca().plot(\n\u001b[0m\u001b[1;32m   2770\u001b[0m         \u001b[0;34m*\u001b[0m\u001b[0margs\u001b[0m\u001b[0;34m,\u001b[0m \u001b[0mscalex\u001b[0m\u001b[0;34m=\u001b[0m\u001b[0mscalex\u001b[0m\u001b[0;34m,\u001b[0m \u001b[0mscaley\u001b[0m\u001b[0;34m=\u001b[0m\u001b[0mscaley\u001b[0m\u001b[0;34m,\u001b[0m\u001b[0;34m\u001b[0m\u001b[0;34m\u001b[0m\u001b[0m\n\u001b[1;32m   2771\u001b[0m         **({\"data\": data} if data is not None else {}), **kwargs)\n",
      "\u001b[0;32m~/anaconda3/lib/python3.9/site-packages/matplotlib/axes/_axes.py\u001b[0m in \u001b[0;36mplot\u001b[0;34m(self, scalex, scaley, data, *args, **kwargs)\u001b[0m\n\u001b[1;32m   1630\u001b[0m         \"\"\"\n\u001b[1;32m   1631\u001b[0m         \u001b[0mkwargs\u001b[0m \u001b[0;34m=\u001b[0m \u001b[0mcbook\u001b[0m\u001b[0;34m.\u001b[0m\u001b[0mnormalize_kwargs\u001b[0m\u001b[0;34m(\u001b[0m\u001b[0mkwargs\u001b[0m\u001b[0;34m,\u001b[0m \u001b[0mmlines\u001b[0m\u001b[0;34m.\u001b[0m\u001b[0mLine2D\u001b[0m\u001b[0;34m)\u001b[0m\u001b[0;34m\u001b[0m\u001b[0;34m\u001b[0m\u001b[0m\n\u001b[0;32m-> 1632\u001b[0;31m         \u001b[0mlines\u001b[0m \u001b[0;34m=\u001b[0m \u001b[0;34m[\u001b[0m\u001b[0;34m*\u001b[0m\u001b[0mself\u001b[0m\u001b[0;34m.\u001b[0m\u001b[0m_get_lines\u001b[0m\u001b[0;34m(\u001b[0m\u001b[0;34m*\u001b[0m\u001b[0margs\u001b[0m\u001b[0;34m,\u001b[0m \u001b[0mdata\u001b[0m\u001b[0;34m=\u001b[0m\u001b[0mdata\u001b[0m\u001b[0;34m,\u001b[0m \u001b[0;34m**\u001b[0m\u001b[0mkwargs\u001b[0m\u001b[0;34m)\u001b[0m\u001b[0;34m]\u001b[0m\u001b[0;34m\u001b[0m\u001b[0;34m\u001b[0m\u001b[0m\n\u001b[0m\u001b[1;32m   1633\u001b[0m         \u001b[0;32mfor\u001b[0m \u001b[0mline\u001b[0m \u001b[0;32min\u001b[0m \u001b[0mlines\u001b[0m\u001b[0;34m:\u001b[0m\u001b[0;34m\u001b[0m\u001b[0;34m\u001b[0m\u001b[0m\n\u001b[1;32m   1634\u001b[0m             \u001b[0mself\u001b[0m\u001b[0;34m.\u001b[0m\u001b[0madd_line\u001b[0m\u001b[0;34m(\u001b[0m\u001b[0mline\u001b[0m\u001b[0;34m)\u001b[0m\u001b[0;34m\u001b[0m\u001b[0;34m\u001b[0m\u001b[0m\n",
      "\u001b[0;32m~/anaconda3/lib/python3.9/site-packages/matplotlib/axes/_base.py\u001b[0m in \u001b[0;36m__call__\u001b[0;34m(self, data, *args, **kwargs)\u001b[0m\n\u001b[1;32m    310\u001b[0m                 \u001b[0mthis\u001b[0m \u001b[0;34m+=\u001b[0m \u001b[0margs\u001b[0m\u001b[0;34m[\u001b[0m\u001b[0;36m0\u001b[0m\u001b[0;34m]\u001b[0m\u001b[0;34m,\u001b[0m\u001b[0;34m\u001b[0m\u001b[0;34m\u001b[0m\u001b[0m\n\u001b[1;32m    311\u001b[0m                 \u001b[0margs\u001b[0m \u001b[0;34m=\u001b[0m \u001b[0margs\u001b[0m\u001b[0;34m[\u001b[0m\u001b[0;36m1\u001b[0m\u001b[0;34m:\u001b[0m\u001b[0;34m]\u001b[0m\u001b[0;34m\u001b[0m\u001b[0;34m\u001b[0m\u001b[0m\n\u001b[0;32m--> 312\u001b[0;31m             \u001b[0;32myield\u001b[0m \u001b[0;32mfrom\u001b[0m \u001b[0mself\u001b[0m\u001b[0;34m.\u001b[0m\u001b[0m_plot_args\u001b[0m\u001b[0;34m(\u001b[0m\u001b[0mthis\u001b[0m\u001b[0;34m,\u001b[0m \u001b[0mkwargs\u001b[0m\u001b[0;34m)\u001b[0m\u001b[0;34m\u001b[0m\u001b[0;34m\u001b[0m\u001b[0m\n\u001b[0m\u001b[1;32m    313\u001b[0m \u001b[0;34m\u001b[0m\u001b[0m\n\u001b[1;32m    314\u001b[0m     \u001b[0;32mdef\u001b[0m \u001b[0mget_next_color\u001b[0m\u001b[0;34m(\u001b[0m\u001b[0mself\u001b[0m\u001b[0;34m)\u001b[0m\u001b[0;34m:\u001b[0m\u001b[0;34m\u001b[0m\u001b[0;34m\u001b[0m\u001b[0m\n",
      "\u001b[0;32m~/anaconda3/lib/python3.9/site-packages/matplotlib/axes/_base.py\u001b[0m in \u001b[0;36m_plot_args\u001b[0;34m(self, tup, kwargs, return_kwargs)\u001b[0m\n\u001b[1;32m    493\u001b[0m             \u001b[0mself\u001b[0m\u001b[0;34m.\u001b[0m\u001b[0maxes\u001b[0m\u001b[0;34m.\u001b[0m\u001b[0mxaxis\u001b[0m\u001b[0;34m.\u001b[0m\u001b[0mupdate_units\u001b[0m\u001b[0;34m(\u001b[0m\u001b[0mx\u001b[0m\u001b[0;34m)\u001b[0m\u001b[0;34m\u001b[0m\u001b[0;34m\u001b[0m\u001b[0m\n\u001b[1;32m    494\u001b[0m         \u001b[0;32mif\u001b[0m \u001b[0mself\u001b[0m\u001b[0;34m.\u001b[0m\u001b[0maxes\u001b[0m\u001b[0;34m.\u001b[0m\u001b[0myaxis\u001b[0m \u001b[0;32mis\u001b[0m \u001b[0;32mnot\u001b[0m \u001b[0;32mNone\u001b[0m\u001b[0;34m:\u001b[0m\u001b[0;34m\u001b[0m\u001b[0;34m\u001b[0m\u001b[0m\n\u001b[0;32m--> 495\u001b[0;31m             \u001b[0mself\u001b[0m\u001b[0;34m.\u001b[0m\u001b[0maxes\u001b[0m\u001b[0;34m.\u001b[0m\u001b[0myaxis\u001b[0m\u001b[0;34m.\u001b[0m\u001b[0mupdate_units\u001b[0m\u001b[0;34m(\u001b[0m\u001b[0my\u001b[0m\u001b[0;34m)\u001b[0m\u001b[0;34m\u001b[0m\u001b[0;34m\u001b[0m\u001b[0m\n\u001b[0m\u001b[1;32m    496\u001b[0m \u001b[0;34m\u001b[0m\u001b[0m\n\u001b[1;32m    497\u001b[0m         \u001b[0;32mif\u001b[0m \u001b[0mx\u001b[0m\u001b[0;34m.\u001b[0m\u001b[0mshape\u001b[0m\u001b[0;34m[\u001b[0m\u001b[0;36m0\u001b[0m\u001b[0;34m]\u001b[0m \u001b[0;34m!=\u001b[0m \u001b[0my\u001b[0m\u001b[0;34m.\u001b[0m\u001b[0mshape\u001b[0m\u001b[0;34m[\u001b[0m\u001b[0;36m0\u001b[0m\u001b[0;34m]\u001b[0m\u001b[0;34m:\u001b[0m\u001b[0;34m\u001b[0m\u001b[0;34m\u001b[0m\u001b[0m\n",
      "\u001b[0;32m~/anaconda3/lib/python3.9/site-packages/matplotlib/axis.py\u001b[0m in \u001b[0;36mupdate_units\u001b[0;34m(self, data)\u001b[0m\n\u001b[1;32m   1441\u001b[0m         \u001b[0;32mif\u001b[0m \u001b[0;34m*\u001b[0m\u001b[0mdata\u001b[0m\u001b[0;34m*\u001b[0m \u001b[0;32mis\u001b[0m \u001b[0mregistered\u001b[0m \u001b[0;32mfor\u001b[0m \u001b[0munit\u001b[0m \u001b[0mconversion\u001b[0m\u001b[0;34m.\u001b[0m\u001b[0;34m\u001b[0m\u001b[0;34m\u001b[0m\u001b[0m\n\u001b[1;32m   1442\u001b[0m         \"\"\"\n\u001b[0;32m-> 1443\u001b[0;31m         \u001b[0mconverter\u001b[0m \u001b[0;34m=\u001b[0m \u001b[0mmunits\u001b[0m\u001b[0;34m.\u001b[0m\u001b[0mregistry\u001b[0m\u001b[0;34m.\u001b[0m\u001b[0mget_converter\u001b[0m\u001b[0;34m(\u001b[0m\u001b[0mdata\u001b[0m\u001b[0;34m)\u001b[0m\u001b[0;34m\u001b[0m\u001b[0;34m\u001b[0m\u001b[0m\n\u001b[0m\u001b[1;32m   1444\u001b[0m         \u001b[0;32mif\u001b[0m \u001b[0mconverter\u001b[0m \u001b[0;32mis\u001b[0m \u001b[0;32mNone\u001b[0m\u001b[0;34m:\u001b[0m\u001b[0;34m\u001b[0m\u001b[0;34m\u001b[0m\u001b[0m\n\u001b[1;32m   1445\u001b[0m             \u001b[0;32mreturn\u001b[0m \u001b[0;32mFalse\u001b[0m\u001b[0;34m\u001b[0m\u001b[0;34m\u001b[0m\u001b[0m\n",
      "\u001b[0;32m~/anaconda3/lib/python3.9/site-packages/matplotlib/units.py\u001b[0m in \u001b[0;36mget_converter\u001b[0;34m(self, x)\u001b[0m\n\u001b[1;32m    205\u001b[0m             \u001b[0;31m# which indexing returns instances of the same iterable class.\u001b[0m\u001b[0;34m\u001b[0m\u001b[0;34m\u001b[0m\u001b[0m\n\u001b[1;32m    206\u001b[0m             \u001b[0;32mif\u001b[0m \u001b[0mtype\u001b[0m\u001b[0;34m(\u001b[0m\u001b[0mfirst\u001b[0m\u001b[0;34m)\u001b[0m \u001b[0;32mis\u001b[0m \u001b[0;32mnot\u001b[0m \u001b[0mtype\u001b[0m\u001b[0;34m(\u001b[0m\u001b[0mx\u001b[0m\u001b[0;34m)\u001b[0m\u001b[0;34m:\u001b[0m\u001b[0;34m\u001b[0m\u001b[0;34m\u001b[0m\u001b[0m\n\u001b[0;32m--> 207\u001b[0;31m                 \u001b[0;32mreturn\u001b[0m \u001b[0mself\u001b[0m\u001b[0;34m.\u001b[0m\u001b[0mget_converter\u001b[0m\u001b[0;34m(\u001b[0m\u001b[0mfirst\u001b[0m\u001b[0;34m)\u001b[0m\u001b[0;34m\u001b[0m\u001b[0;34m\u001b[0m\u001b[0m\n\u001b[0m\u001b[1;32m    208\u001b[0m         \u001b[0;32mreturn\u001b[0m \u001b[0;32mNone\u001b[0m\u001b[0;34m\u001b[0m\u001b[0;34m\u001b[0m\u001b[0m\n\u001b[1;32m    209\u001b[0m \u001b[0;34m\u001b[0m\u001b[0m\n",
      "\u001b[0;32m~/anaconda3/lib/python3.9/site-packages/matplotlib/units.py\u001b[0m in \u001b[0;36mget_converter\u001b[0;34m(self, x)\u001b[0m\n\u001b[1;32m    198\u001b[0m                 \u001b[0;32mpass\u001b[0m\u001b[0;34m\u001b[0m\u001b[0;34m\u001b[0m\u001b[0m\n\u001b[1;32m    199\u001b[0m         \u001b[0;32mtry\u001b[0m\u001b[0;34m:\u001b[0m  \u001b[0;31m# If cache lookup fails, look up based on first element...\u001b[0m\u001b[0;34m\u001b[0m\u001b[0;34m\u001b[0m\u001b[0m\n\u001b[0;32m--> 200\u001b[0;31m             \u001b[0mfirst\u001b[0m \u001b[0;34m=\u001b[0m \u001b[0mcbook\u001b[0m\u001b[0;34m.\u001b[0m\u001b[0msafe_first_element\u001b[0m\u001b[0;34m(\u001b[0m\u001b[0mx\u001b[0m\u001b[0;34m)\u001b[0m\u001b[0;34m\u001b[0m\u001b[0;34m\u001b[0m\u001b[0m\n\u001b[0m\u001b[1;32m    201\u001b[0m         \u001b[0;32mexcept\u001b[0m \u001b[0;34m(\u001b[0m\u001b[0mTypeError\u001b[0m\u001b[0;34m,\u001b[0m \u001b[0mStopIteration\u001b[0m\u001b[0;34m)\u001b[0m\u001b[0;34m:\u001b[0m\u001b[0;34m\u001b[0m\u001b[0;34m\u001b[0m\u001b[0m\n\u001b[1;32m    202\u001b[0m             \u001b[0;32mpass\u001b[0m\u001b[0;34m\u001b[0m\u001b[0;34m\u001b[0m\u001b[0m\n",
      "\u001b[0;32m~/anaconda3/lib/python3.9/site-packages/matplotlib/cbook/__init__.py\u001b[0m in \u001b[0;36msafe_first_element\u001b[0;34m(obj)\u001b[0m\n\u001b[1;32m   1638\u001b[0m         \u001b[0;32mexcept\u001b[0m \u001b[0mTypeError\u001b[0m\u001b[0;34m:\u001b[0m\u001b[0;34m\u001b[0m\u001b[0;34m\u001b[0m\u001b[0m\n\u001b[1;32m   1639\u001b[0m             \u001b[0;32mpass\u001b[0m\u001b[0;34m\u001b[0m\u001b[0;34m\u001b[0m\u001b[0m\n\u001b[0;32m-> 1640\u001b[0;31m         raise RuntimeError(\"matplotlib does not support generators \"\n\u001b[0m\u001b[1;32m   1641\u001b[0m                            \"as input\")\n\u001b[1;32m   1642\u001b[0m     \u001b[0;32mreturn\u001b[0m \u001b[0mnext\u001b[0m\u001b[0;34m(\u001b[0m\u001b[0miter\u001b[0m\u001b[0;34m(\u001b[0m\u001b[0mobj\u001b[0m\u001b[0;34m)\u001b[0m\u001b[0;34m)\u001b[0m\u001b[0;34m\u001b[0m\u001b[0;34m\u001b[0m\u001b[0m\n",
      "\u001b[0;31mRuntimeError\u001b[0m: matplotlib does not support generators as input"
     ]
    },
    {
     "data": {
      "image/png": "[encoded data removed]",
      "text/plain": [
       "<Figure size 640x480 with 1 Axes>"
      ]
     },
     "metadata": {},
     "output_type": "display_data"
    }
   ],
   "source": [
    "%matplotlib inline\n",
    "import matplotlib.pyplot as plt\n",
    "plt.plot(Ylist,results);"
   ]
  },
  {
   "cell_type": "code",
   "execution_count": null,
   "metadata": {},
   "outputs": [],
   "source": [
    "Texact = [3*Y*Y for Y in Ylist]\n",
    "plt.plot(Ylist,results,\"r-\", Ylist,Texact, \"b-\");"
   ]
  },
  {
   "cell_type": "markdown",
   "metadata": {},
   "source": [
    "Can we make the calculation run even faster?\n",
    "* order of evaluations\n",
    "* chunking\n",
    "* imap\n",
    "* imap_unordered\n",
    "* [map vs imap vs imap_unordered](https://stackoverflow.com/questions/26520781/multiprocessing-pool-whats-the-difference-between-map-async-and-imap)\n",
    "\n"
   ]
  },
  {
   "cell_type": "markdown",
   "metadata": {},
   "source": [
    " "
   ]
  },
  {
   "cell_type": "code",
   "execution_count": null,
   "metadata": {},
   "outputs": [],
   "source": []
  },
  {
   "cell_type": "markdown",
   "metadata": {},
   "source": [
    "What is the fastest we can run this calculation?\n",
    "* Concept of **critical path** --- the sequence of computational steps that limit execution time.\n",
    "\n",
    "Concept of performance model\n",
    "\n",
    "### Amdahl's law. \n",
    "\n",
    "Imagine that it takes you $S$ seconds to get ready for work (pencil sharpening, making coffee, etc.), and that you have lots of independent tasks which need doing that together take $P$ seconds. Your execution time with just one worker (you) is approximately\n",
    "$$ T(1) = S + P $$\n",
    "But if you had $w$ workers your execution time could be\n",
    "$$ T(w) = S + \\frac{P}{w} $$\n",
    "\n",
    "($P$ for parallel work; $S$ for sequential work)"
   ]
  },
  {
   "cell_type": "code",
   "execution_count": 15,
   "metadata": {},
   "outputs": [
    {
     "data": {
      "image/png": "[encoded data removed]",
      "text/plain": [
       "<Figure size 640x480 with 1 Axes>"
      ]
     },
     "metadata": {},
     "output_type": "display_data"
    }
   ],
   "source": [
    "import numpy as np\n",
    "S = 100\n",
    "P = 10000\n",
    "T = lambda w : S + P/w \n",
    "wlist = np.arange(1,201,1)\n",
    "plt.plot(wlist, T(wlist));\n"
   ]
  },
  {
   "cell_type": "markdown",
   "metadata": {},
   "source": [
    "How much faster can we make the calculation run?  I.e., if we had an infinite number of processors (I *want* that computer!!) how fast could it run? \n",
    "\n",
    "If we are using $w$ workers the speedup over using 1 worker is given by\n",
    "$$ \\text{speedup} = \\frac{T(1)}{T(w)} = \\frac{S+P}{S+P/w}  $$\n",
    "\n",
    "If we have an infinite number of processors, then $P/w \\rightarrow 0$ and\n",
    "$$ \\text{speedup} = \\frac{S+P}{S} = 1 + \\frac{P}{S} \\approx \\frac{P}{S}$$\n",
    "where we assumed that $P \\gg S$.\n",
    "\n",
    "I.e., the speedup is limited by the ratio of parallel and sequential work.  \n",
    "\n",
    "Amdahl's law is often said to be **cruel**.  If you want a 100-fold speedup, then only 1% of your work can be sequential.  If you want a 1,000,000-fold speedup, then only 0.0001% can be sequential.  Note that the largest computers in the world have $O(10^{18})$ parallelism!!!!!!!!!!\n",
    "\n",
    "In our example above, with $S=100$ and $P=10000$ only a speedup of 100 is possible no matter how hard you try."
   ]
  },
  {
   "cell_type": "code",
   "execution_count": 16,
   "metadata": {},
   "outputs": [
    {
     "data": {
      "image/png": "[encoded data removed]",
      "text/plain": [
       "<Figure size 640x480 with 1 Axes>"
      ]
     },
     "metadata": {},
     "output_type": "display_data"
    }
   ],
   "source": [
    "speedup = lambda w : (S+P)/(S+P/w)\n",
    "plt.plot(wlist, speedup(wlist));"
   ]
  },
  {
   "cell_type": "markdown",
   "metadata": {},
   "source": [
    "Ideal speedup is equal to the number of workers (processors) used.\n",
    "\n",
    "The concept of efficiency is also useful.  Efficiency is defined as the ratio between the possible speedup and the ideal speedup.\n",
    "$$\\text{efficiency}(w) = \\frac{\\text{speedup}(w)}{w} = \\frac{S+P}{wS+P}$$"
   ]
  },
  {
   "cell_type": "code",
   "execution_count": 17,
   "metadata": {},
   "outputs": [
    {
     "data": {
      "image/png": "[encoded data removed]",
      "text/plain": [
       "<Figure size 640x480 with 1 Axes>"
      ]
     },
     "metadata": {},
     "output_type": "display_data"
    }
   ],
   "source": [
    "eff = lambda w : (S+P)/(w*S+P)\n",
    "plt.plot(wlist,eff(wlist));"
   ]
  },
  {
   "cell_type": "markdown",
   "metadata": {},
   "source": [
    "**Efficiency is very important** --- it translates into time, money spent for cloud services, energy consumed, $CO_2$ produced, etc."
   ]
  },
  {
   "cell_type": "code",
   "execution_count": null,
   "metadata": {},
   "outputs": [],
   "source": []
  },
  {
   "cell_type": "code",
   "execution_count": null,
   "metadata": {},
   "outputs": [],
   "source": []
  },
  {
   "cell_type": "code",
   "execution_count": null,
   "metadata": {},
   "outputs": [],
   "source": []
  },
  {
   "cell_type": "code",
   "execution_count": null,
   "metadata": {},
   "outputs": [],
   "source": []
  },
  {
   "cell_type": "markdown",
   "metadata": {},
   "source": [
    "Use the multiprocessing module to parallelize this Monte Carlo algorithm to compute $\\pi$.\n",
    "(https://www.geeksforgeeks.org/estimating-value-pi-using-monte-carlo/)\n",
    "* It is basically computing the ratio of the area of a circle and a square\n",
    "* Randomly sample points in a square\n",
    "* Count if the point is inside the inscribed circle\n",
    "  * Probability of being inside is the ratio of the areas $\\pi r^2 / (4 r^2) = \\pi/4$\n"
   ]
  },
  {
   "cell_type": "code",
   "execution_count": 18,
   "metadata": {},
   "outputs": [
    {
     "data": {
      "image/png": "[encoded data removed]",
      "text/plain": [
       "<Figure size 640x480 with 1 Axes>"
      ]
     },
     "metadata": {},
     "output_type": "display_data"
    }
   ],
   "source": [
    "import matplotlib.pyplot as plt\n",
    "import matplotlib.patches as patches\n",
    "%matplotlib inline\n",
    "import numpy as np\n",
    "\n",
    "x, y = 2*(np.random.random(100)-0.5), 2*(np.random.random(100)-0.5)\n",
    "test = (x**2+y**2) < 1\n",
    "xin, yin = x[test], y[test]\n",
    "test = (x**2+y**2) >= 1\n",
    "xout, yout = x[test], y[test]\n",
    "fig = plt.figure()\n",
    "ax = fig.add_subplot()\n",
    "plt.plot(xin, yin, \".\")\n",
    "plt.plot(xout, yout, \"r.\")\n",
    "circle = patches.Circle((0,0),1,fill=False)\n",
    "ax.add_patch(circle)\n",
    "ax.set_xlim(-1,1)\n",
    "ax.set_ylim(-1,1)\n",
    "ax.set_aspect('equal', adjustable='box')\n"
   ]
  },
  {
   "cell_type": "code",
   "execution_count": null,
   "metadata": {},
   "outputs": [],
   "source": []
  },
  {
   "cell_type": "code",
   "execution_count": 19,
   "metadata": {},
   "outputs": [],
   "source": [
    "from random import random\n",
    "\n",
    "def sample_one_point():\n",
    "    x,y = random(),random()\n",
    "    rsq = x*x + y*y\n",
    "    if rsq <= 1:\n",
    "        return 1\n",
    "    else:\n",
    "        return 0\n",
    "    \n",
    "def sample_one_batch(Npoint = 10000):\n",
    "    sum = 0.0\n",
    "    for i in range(Npoint):\n",
    "        sum += sample_one_point()\n",
    "    return 4*sum/Npoint"
   ]
  },
  {
   "cell_type": "code",
   "execution_count": 20,
   "metadata": {},
   "outputs": [
    {
     "name": "stdout",
     "output_type": "stream",
     "text": [
      "used 2.48s\n",
      "3.14119±0.00036\n"
     ]
    }
   ],
   "source": [
    "import time\n",
    "import math\n",
    "start = time.time()\n",
    "sum = 0.0\n",
    "sumsq = 0.0\n",
    "Nbatch = 2000\n",
    "for i in range(Nbatch):\n",
    "    sample = sample_one_batch()\n",
    "    sum += sample\n",
    "    sumsq += sample**2\n",
    "print(\"used %.2fs\" % (time.time()-start))\n",
    "\n",
    "PM = \"\"\n",
    "mean = sum/Nbatch\n",
    "meansq = sumsq/Nbatch\n",
    "err = math.sqrt((meansq - mean**2)/Nbatch)\n",
    "print(\"%.5f\\u00B1%.5f\" % (mean, err))"
   ]
  },
  {
   "cell_type": "code",
   "execution_count": 21,
   "metadata": {},
   "outputs": [
    {
     "name": "stdout",
     "output_type": "stream",
     "text": [
      "3.14161±0.01640\n",
      "Time : 2.5947999954223633secs\n"
     ]
    }
   ],
   "source": [
    "# Implement parallel version here\n",
    "NUM_WORKERS = 1\n",
    "\n",
    "start_time = time.time()\n",
    "\n",
    "values = [10000]*Nbatch\n",
    "\n",
    "with mp.Pool(processes=NUM_WORKERS) as pool:\n",
    "    results = pool.map(sample_one_batch, values, 1) # 1 is the \"chunksize\"\n",
    "\n",
    "end_time = time.time()   \n",
    "#print(results)\n",
    "\n",
    "mean = statistics.mean(results)\n",
    "err = statistics.stdev(results)\n",
    "print(\"%.5f\\u00B1%.5f\" % (mean, err))\n",
    "print(\"Time : %ssecs\" % (end_time - start_time))\n"
   ]
  },
  {
   "cell_type": "code",
   "execution_count": 22,
   "metadata": {},
   "outputs": [
    {
     "data": {
      "text/plain": [
       "['Counter',\n",
       " 'Decimal',\n",
       " 'Fraction',\n",
       " 'NormalDist',\n",
       " 'StatisticsError',\n",
       " '__all__',\n",
       " '__builtins__',\n",
       " '__cached__',\n",
       " '__doc__',\n",
       " '__file__',\n",
       " '__loader__',\n",
       " '__name__',\n",
       " '__package__',\n",
       " '__spec__',\n",
       " '_coerce',\n",
       " '_convert',\n",
       " '_exact_ratio',\n",
       " '_fail_neg',\n",
       " '_find_lteq',\n",
       " '_find_rteq',\n",
       " '_isfinite',\n",
       " '_normal_dist_inv_cdf',\n",
       " '_ss',\n",
       " '_sum',\n",
       " 'bisect_left',\n",
       " 'bisect_right',\n",
       " 'erf',\n",
       " 'exp',\n",
       " 'fabs',\n",
       " 'fmean',\n",
       " 'fsum',\n",
       " 'geometric_mean',\n",
       " 'groupby',\n",
       " 'harmonic_mean',\n",
       " 'hypot',\n",
       " 'itemgetter',\n",
       " 'log',\n",
       " 'math',\n",
       " 'mean',\n",
       " 'median',\n",
       " 'median_grouped',\n",
       " 'median_high',\n",
       " 'median_low',\n",
       " 'mode',\n",
       " 'multimode',\n",
       " 'numbers',\n",
       " 'pstdev',\n",
       " 'pvariance',\n",
       " 'quantiles',\n",
       " 'random',\n",
       " 'sqrt',\n",
       " 'stdev',\n",
       " 'tau',\n",
       " 'variance']"
      ]
     },
     "execution_count": 22,
     "metadata": {},
     "output_type": "execute_result"
    }
   ],
   "source": [
    "dir(statistics)"
   ]
  },
  {
   "cell_type": "code",
   "execution_count": null,
   "metadata": {},
   "outputs": [],
   "source": []
  },
  {
   "cell_type": "markdown",
   "metadata": {},
   "source": [
    "Can you speedup up simulation of one random walk using parallelism or NumPy? \n",
    "\n",
    "No.  It is sequential and is not working on a vector of data.\n",
    "\n",
    "But multiple, **independent** walks?  Yes.  We already used this when parallelizing the code.\n",
    "\n",
    "To speed this up using NumPy requires moving the loop over *independent* samples inside the loop over steps and having a vector of samples.  \n",
    "\n",
    "* This technique of promotion of data structures (scalar to vector) and possibly exchanging loop order is common when optimizing code.\n",
    "\n",
    "E.g.,"
   ]
  },
  {
   "cell_type": "code",
   "execution_count": 23,
   "metadata": {},
   "outputs": [
    {
     "name": "stdout",
     "output_type": "stream",
     "text": [
      "used 0.21s\n",
      "3.14173±0.00036\n"
     ]
    }
   ],
   "source": [
    "def sample_one_batch(Npoint = 10000):\n",
    "    x = np.random.random(Npoint)\n",
    "    y = np.random.random(Npoint)\n",
    "    rsq = x*x + y*y\n",
    "    return 4*np.sum(rsq<=1)/Npoint\n",
    "\n",
    "# Below here is the same timing code we used above\n",
    "start = time.time()\n",
    "sum = 0.0\n",
    "sumsq = 0.0\n",
    "Nbatch = 2000\n",
    "for i in range(Nbatch):\n",
    "    sample = sample_one_batch()\n",
    "    sum += sample\n",
    "    sumsq += sample**2\n",
    "print(\"used %.2fs\" % (time.time()-start))\n",
    "\n",
    "PM = \"\"\n",
    "mean = sum/Nbatch\n",
    "meansq = sumsq/Nbatch\n",
    "err = math.sqrt((meansq - mean**2)/Nbatch)\n",
    "print(\"%.5f\\u00B1%.5f\" % (mean, err))"
   ]
  },
  {
   "cell_type": "markdown",
   "metadata": {},
   "source": [
    "I got about a 10x speedup switching from Python to NumPy ... what's the moral?  \n",
    "\n",
    "Start close to home for optimization\n",
    "1. Do less work by only computing what you need.\n",
    "1. Use the best algorithm.\n",
    "2. Efficient use of a single process (NumPy, external libraries, etc.) which translates to intra-process use of intra-processor parallelism.\n",
    "3. Multi-thread (intra-process) and/or multi-process (inter-process) parallelism"
   ]
  },
  {
   "cell_type": "markdown",
   "metadata": {},
   "source": []
  },
  {
   "cell_type": "markdown",
   "metadata": {},
   "source": [
    " "
   ]
  },
  {
   "cell_type": "markdown",
   "metadata": {},
   "source": [
    "## Comunicating processes\n",
    "\n",
    "This is an advanced topic --- for most purposes try to use `map` or `imap` or `imap_unordered`.\n",
    "\n",
    "For parallel programming, my rule-of-thumb is that for each factor of 10 speedup via parallelism there is about a factor of 2 increase in the programming cost\n",
    "* Fugaku, recently the fastest computer in the world, has about 150,000 processors each with 48 cores\n",
    "  * You will need 7.2 million threads to keep the entire machine busy!\n",
    "* Programs that can use Fugaku efficiently are about 32-64x more expensive to write than programs for just one core (e.g., 1 month of programming versus 2-5 years).  \n",
    "* Is your problem worth that effort?\n",
    "\n",
    "Sometimes processes need to coordinate with each other and exchange data in order to parallelize a calculation.  Examples include:\n",
    "* Client-server: A process is running in the background responding to requests --- e.g., database or web server\n",
    "* Domain decomposition: E.g., computational fluid dynamcs simulation of the atmosphere\n",
    "* Parallel linear algebra: operating on large matrices\n",
    "\n",
    "**Example**: Use `process` and `pipe` from `multiprocessing` to create a server process connected via a pipe. It should forever\n",
    "* receive a string, and \n",
    "* reply with the received value with \"X\" appended (e.g., if you received \"hello\" reply with \"helloX\")\n",
    "* if the value is \"stop\" close the connection and return\n",
    "\n",
    "Test the server by sending some test strings and then \"stop\".  The main process should also join the child process to clean up.\n"
   ]
  },
  {
   "cell_type": "code",
   "execution_count": 25,
   "metadata": {},
   "outputs": [
    {
     "name": "stdout",
     "output_type": "stream",
     "text": [
      "server __main__\n",
      "sent a received aX\n",
      "sent fred received fredX\n",
      "sent Who am I? received Who am I?X\n",
      "sent stop received stopX\n"
     ]
    }
   ],
   "source": [
    "import multiprocessing as mp\n",
    "\n",
    "def server(connection):\n",
    "    print(\"server\", __name__)\n",
    "    while True:\n",
    "        value = connection.recv()\n",
    "        connection.send(value + \"X\")\n",
    "        if value == \"stop\":\n",
    "            break\n",
    "    connection.close()\n",
    "\n",
    "parent_conn, child_conn = mp.Pipe()\n",
    "p = mp.Process(target=server, args=(child_conn,))\n",
    "p.start()\n",
    "for msg in [\"a\",\"fred\",\"Who am I?\", \"stop\"]:\n",
    "    parent_conn.send(msg)\n",
    "    print(\"sent\", msg, \"received\", parent_conn.recv())\n",
    "p.join()"
   ]
  },
  {
   "cell_type": "markdown",
   "metadata": {},
   "source": [
    "**Example:** Using `process` and `pipe` from `multiprocessing` write a program that \n",
    "* creates a \"server\" process connected to the main program with a pipe\n",
    "* the server process *forever* receives values from the pipe\n",
    "  * if the value is \"hello\" it replies \"yes\"\n",
    "  * if the value is \"bye\" it replies \"no\", closes the pipe, and returns\n",
    "* the main process \n",
    "  * sends \"hello\" 10 times to the server printing out the reply each time\n",
    "  * sends \"bye\", checks that the reply is no, and then joins the process and exits\n"
   ]
  },
  {
   "cell_type": "code",
   "execution_count": 26,
   "metadata": {},
   "outputs": [
    {
     "name": "stdout",
     "output_type": "stream",
     "text": [
      "sent hello received yes\n",
      "sent hello received yes\n",
      "sent hello received yes\n",
      "sent hello received yes\n",
      "sent hello received yes\n",
      "sent hello received yes\n",
      "sent hello received yes\n",
      "sent hello received yes\n",
      "sent hello received yes\n",
      "sent hello received yes\n",
      "sent bye received no\n"
     ]
    }
   ],
   "source": [
    "import multiprocessing as mp\n",
    "\n",
    "def server(connection):\n",
    "    while True:\n",
    "        value = connection.recv()\n",
    "        if value == \"hello\":\n",
    "            connection.send(\"yes\")\n",
    "        else:\n",
    "            connection.send(\"no\")\n",
    "            break\n",
    "    connection.close()\n",
    "\n",
    "parent_conn, child_conn = mp.Pipe()\n",
    "p = mp.Process(target=server, args=(child_conn,))\n",
    "p.start()\n",
    "for msg in [\"hello\"]*10 + [\"bye\"]:\n",
    "    parent_conn.send(msg)\n",
    "    reply = parent_conn.recv()\n",
    "    print(\"sent\", msg, \"received\", reply)\n",
    "    if msg == \"bye\":\n",
    "        if reply != \"no\":\n",
    "            raise ValueError\n",
    "p.join()"
   ]
  },
  {
   "cell_type": "code",
   "execution_count": null,
   "metadata": {},
   "outputs": [],
   "source": []
  },
  {
   "cell_type": "code",
   "execution_count": null,
   "metadata": {},
   "outputs": [],
   "source": []
  },
  {
   "cell_type": "markdown",
   "metadata": {},
   "source": [
    "## Solution of partial differential equation in parallel\n",
    "\n",
    "[Don't worry about the calculus --- it will vanish very soon.]\n",
    "\n",
    "We will employ domain decomposition to solve the differential equation (eigen problem)\n",
    "$$\n",
    " \\frac{\\partial^2 }{\\partial x^2} f(x) = - f(x)\n",
    "$$\n",
    "on the domain $[0,\\pi]$ with boundary conditions $f(0) = f(\\pi) = 0$.  \n",
    "* The solution is $f(x) = \\alpha \\sin(x)$ for any value of constant $\\alpha$.\n",
    "\n",
    "We will approximate the second derivative using the three-point stencil\n",
    "$$\n",
    " f^{\\prime \\prime}(x) = \\frac{\\partial^2 f(x)}{\\partial x^2} \\approx \\frac{1}{h^2} \\left(f(x-h) - 2 f(x) + f(x+h) \\right)\n",
    "$$\n",
    "where $h$ is the spacing between grid points in the $x$-dimension --- i.e., $x_i = i h$.  \n",
    "* Note that to compute the second derivative at point $x_i$ we need the function values at $x_{i-1}$, $x_i$, and $x_{i+1}$.\n",
    "* We also use the notation $f_i = f(x_i)$\n",
    "\n",
    "Finally, we will update using Euler's method\n",
    "$$\n",
    " f(x) \\leftarrow f(x) + dt \\frac{\\partial^2 }{\\partial x^2} f(x)\n",
    "$$\n",
    "for some small value $dt$ interpreted as a time step (in imaginary time if you are really interested).\n",
    "\n",
    "No more calculus below here!\n",
    "\n",
    "Thus, to solve the equation we \n",
    "1. Initialize $f_i = \\text{guess}(x_i)$ with $x_i = i h$ for $i=0,\\ldots,N-1$, and ensuring $f_0 = f_{N-1} = 0$.\n",
    "2. Repeat until converged \n",
    "$$f(x_i) \\leftarrow f(x_i) + dt \\left(f(x_{i+1}) - 2 f(x_i) + f(x_{i-1}) \\right) / h^2$$\n",
    "(for the interior points $i=1,\\ldots,N-2$ only, thus keeping $f_0 = f_{N-1} = 0$).\n"
   ]
  },
  {
   "cell_type": "code",
   "execution_count": null,
   "metadata": {},
   "outputs": [],
   "source": []
  },
  {
   "cell_type": "markdown",
   "metadata": {},
   "source": [
    "The next cell defines necessary parameters and functions"
   ]
  },
  {
   "cell_type": "code",
   "execution_count": 27,
   "metadata": {},
   "outputs": [
    {
     "name": "stdout",
     "output_type": "stream",
     "text": [
      "    N 51\n",
      "    h 0.0628\n",
      "   dt 0.0016\n",
      "nstep 3166\n"
     ]
    }
   ],
   "source": [
    "import math\n",
    "import numpy as np\n",
    "\n",
    "N = 51              # No. of points used --- need this to be odd\n",
    "h = math.pi/(N-1)   # Element size\n",
    "dt = 0.4*h**2       # Time step (must be less than (1/2)*h**2)\n",
    "nstep = int(5.0/dt) # No. of steps required to converge\n",
    "print(\"    N\", N)\n",
    "print(\"    h %.4f\" % h)\n",
    "print(\"   dt %.4f\" %dt)\n",
    "print(\"nstep\", nstep)\n",
    "\n",
    "# We'll solve for $f(x_i)$ at these points\n",
    "x = np.linspace(0.0,math.pi,N)\n",
    "\n",
    "def guess(x):\n",
    "    return x*(math.pi-x) / (0.25*math.pi**2)\n",
    "\n",
    "def diff2(f,h):\n",
    "    ''' Estimates d2f/dx2 using 3 point stencil '''\n",
    "    N = f.shape[0]\n",
    "    df2 = np.zeros(N)\n",
    "    df2[1:-1] = (f[2:]+f[:-2] - 2*f[1:-1])*h**-2\n",
    "    #for i in range(1,N-1):\n",
    "    #    df2[i] = (f[i+1] + f[i-1] - 2*f[i])/h**2\n",
    "    return df2\n",
    "\n",
    "def euler(f,dt,h):\n",
    "    ''' Advances one time step using f(t+dt) = f(t) + dt * d2f/dx2 '''\n",
    "    return f + dt * diff2(f,h)\n",
    "\n",
    "def doplot(f, x):\n",
    "    fac = math.sin(x[N//4])/f[N//4]\n",
    "    f = fac*f # rescale to make comparison to exact easier \n",
    "    fig, ax1 = plt.subplots()\n",
    "    ax2 = ax1.twinx()\n",
    "    ax1.plot(x, f, 'b-', x, np.sin(x), 'k-')\n",
    "    ax1.set_ylabel(\"f(x)\")\n",
    "    ax1.set_xlabel(\"x\")\n",
    "    ax2.plot(x, f-np.sin(x), 'r-')\n",
    "    ax2.set_ylabel(\"error\");\n"
   ]
  },
  {
   "cell_type": "markdown",
   "metadata": {},
   "source": [
    "**First,** solve across the entire domain $[0,\\pi]$"
   ]
  },
  {
   "cell_type": "code",
   "execution_count": 28,
   "metadata": {},
   "outputs": [
    {
     "data": {
      "image/png": "[encoded data removed]",
      "text/plain": [
       "<Figure size 640x480 with 2 Axes>"
      ]
     },
     "metadata": {},
     "output_type": "display_data"
    }
   ],
   "source": [
    "f = guess(x)\n",
    "for step in range(nstep):\n",
    "    f = euler(f,dt,h)\n",
    "    \n",
    "doplot(f, x)"
   ]
  },
  {
   "cell_type": "markdown",
   "metadata": {},
   "source": [
    "**Second,** solve by dividing the domain into two $[0,\\frac{\\pi}{2}] + [\\frac{\\pi}{2}, \\pi]$\n",
    "\n",
    "The domain will be split *between* points $x_m$ and $x_{m+1}$, with $m=\\frac{N-1}{2}$.  \n",
    "\n",
    "But the solutions are coupled.  \n",
    "* Using the formula for the second derivative\n",
    "$$\n",
    " f^{\\prime\\prime}_m \\approx \\frac{1}{h^2} \\left(f_{m-1} - 2 f_m + {\\bf f_{m+1}} \\right) \\\\\n",
    " f^{\\prime\\prime}_{m+1} \\approx \\frac{1}{h^2} \\left({\\bf f_{m}} - 2 f_{m+1} + f_{m+2} \\right)\n",
    "$$\n",
    "\n",
    "* On the left, to compute the second derivative at point $x_{m}$ will need the value at $x_{m+1}$ --- but $f_{m+1}$ is being updated in the right domain\n",
    "* On the right, to compute the second derivative at point $x_{m+1}$, we will need the value at $x_{m}$ --- but $f_m$ is being updated in the left domain\n",
    "* Therefore, these *interior boundary* values must be exchanged every time step\n",
    "* These values that must be exchanged are sometimes call \"ghost cells\" --- in the figure below they are greyed out\n",
    "\n",
    "This figure illustrates what is going on"
   ]
  },
  {
   "cell_type": "code",
   "execution_count": 29,
   "metadata": {},
   "outputs": [
    {
     "data": {
      "image/png": "[encoded data removed]",
      "text/plain": [
       "<Figure size 800x250 with 1 Axes>"
      ]
     },
     "metadata": {},
     "output_type": "display_data"
    }
   ],
   "source": [
    "import matplotlib.patches as patches\n",
    "import matplotlib.pyplot as plt\n",
    "%matplotlib inline\n",
    "import numpy as np\n",
    "fig1 = plt.figure()\n",
    "fig1.set_size_inches(8,2.5)\n",
    "ax1 = fig1.add_subplot()\n",
    "ax1.axis(\"off\")\n",
    "#ax1.text(-10, -2, \"Start\\n(0,0)\")\n",
    "#ax1.text(102, 28, \"Island\\n(X,Y)\")\n",
    "bar1 = patches.Rectangle((0,0), 100, 10, facecolor=\"lightblue\")\n",
    "ax1.add_patch(bar1)\n",
    "ax1.plot([0, 0, 100, 100, 0], [0, 10, 10, 0, 0], \"k-\")\n",
    "\n",
    "bar2 = patches.Rectangle((0,20), 60, 10, facecolor=\"yellow\")\n",
    "bar2a= patches.Rectangle((50,20), 10, 10, facecolor=\"lightgrey\")\n",
    "ax1.add_patch(bar2)\n",
    "ax1.add_patch(bar2a)\n",
    "ax1.plot([0, 0, 60, 60, 0], [20, 30, 30, 20, 20], \"k-\")\n",
    "ax1.text(20, 33, \"Left\")\n",
    "\n",
    "bar3 = patches.Rectangle((40,40), 60, 10, facecolor=\"lightgreen\")\n",
    "bar3a= patches.Rectangle((40,40), 10, 10, facecolor=\"lightgrey\")\n",
    "ax1.add_patch(bar3)\n",
    "ax1.add_patch(bar3a)\n",
    "ax1.plot([40, 40, 100, 100, 40], [40, 50, 50, 40, 40], \"k-\")\n",
    "ax1.text(75, 35, \"Right\")\n",
    "\n",
    "\n",
    "d = 100/10\n",
    "for p in range(1,10):\n",
    "    ax1.plot([p*d,p*d],[0,10], \"k-\")\n",
    "for p in range(0,10):\n",
    "    ax1.text((p+0.4)*d, 3.5, str(p))\n",
    "    \n",
    "for p in range(1,6):\n",
    "    ax1.plot([p*d,p*d],[20,30], \"k-\")\n",
    "    ax1.plot([p*d+40,p*d+40],[40,50], \"k-\")\n",
    "for p in range(0,6):\n",
    "    ax1.text((p+0.4)*d, 23.5, str(p))\n",
    "    ax1.text((p+0.4)*d+40, 43.5, str(p+4))\n",
    "    \n",
    "ax1.annotate(text='', xy=(55,40), xytext=(55,30), arrowprops=dict(arrowstyle='<-',linestyle=\"-\"))\n",
    "ax1.annotate(text='', xy=(45,40), xytext=(45,30), arrowprops=dict(arrowstyle='->',linestyle=\"-\"));\n"
   ]
  },
  {
   "cell_type": "markdown",
   "metadata": {},
   "source": [
    "**But now --- the left and right sides can be updated in parallel!** \n",
    "\n",
    "How do we know this?  \n",
    "* The updates of `fleft` and `fright` can be done in any order since they are operating on different arrays.\n",
    "\n",
    "Let's demonstrate this with a small modification of the sequential code."
   ]
  },
  {
   "cell_type": "code",
   "execution_count": 31,
   "metadata": {},
   "outputs": [
    {
     "data": {
      "image/png": "[encoded data removed]",
      "text/plain": [
       "<Figure size 640x480 with 2 Axes>"
      ]
     },
     "metadata": {},
     "output_type": "display_data"
    }
   ],
   "source": [
    "f = guess(x)\n",
    "m = N//2\n",
    "fleft = f[0:m+1]\n",
    "fright = f[m-1:]\n",
    "\n",
    "for iter in range(nstep):\n",
    "    fright = euler(fright, dt, h)\n",
    "    fleft = euler(fleft, dt, h)\n",
    "    fleft[-1] = fright[1]\n",
    "    fright[0] = fleft[-2]\n",
    "\n",
    "f = np.concatenate((fleft[:-1],fright[1:]))\n",
    "doplot(f, x)"
   ]
  },
  {
   "cell_type": "markdown",
   "metadata": {},
   "source": [
    "**Third,** make it run in parallel using just two processes.\n",
    "* We make a new process and number the two processes\n",
    "  * The original process is `id=0`\n",
    "  * The new process is `id=1`\n",
    "* Process `0` will simulate the left and process `1` the right\n",
    "* When we start the new process we pass `id,dt,h,fright`\n",
    "* Each process iterates, exchanging data each time step\n",
    "* When finished, process `1` sends the solution `fright` process `0`\n",
    "\n",
    "*N.B.:* When exchanging the data process 0 does send then receive but process 1 does receive then send.  Why?"
   ]
  },
  {
   "cell_type": "code",
   "execution_count": 32,
   "metadata": {},
   "outputs": [
    {
     "data": {
      "image/png": "[encoded data removed]",
      "text/plain": [
       "<Figure size 640x480 with 2 Axes>"
      ]
     },
     "metadata": {},
     "output_type": "display_data"
    }
   ],
   "source": [
    "def solve(conn, id, dt, h, nstep, f):\n",
    "    for step in range(nstep):\n",
    "        f = euler(f, dt, h)\n",
    "        if id == 0:\n",
    "            f[-1] = conn.recv()\n",
    "            conn.send(f[-2])\n",
    "        else:\n",
    "            conn.send(f[1])\n",
    "            f[0] = conn.recv()\n",
    "\n",
    "    if id == 0:\n",
    "        fright = conn.recv()\n",
    "        return np.concatenate((f[:-1],fright[1:]))\n",
    "    else:\n",
    "        conn.send(f)\n",
    "        conn.close()\n",
    "\n",
    "f = guess(x)\n",
    "m = N//2\n",
    "fleft = f[0:m+1]\n",
    "fright = f[m-1:]\n",
    "\n",
    "parent_conn, child_conn = mp.Pipe()\n",
    "p = mp.Process(target=solve, args=(child_conn, 1, dt, h, nstep, fright))\n",
    "p.start()\n",
    "f = solve(parent_conn, 0, dt, h, nstep, fleft) \n",
    "p.join()\n",
    "\n",
    "doplot(f, x)"
   ]
  },
  {
   "cell_type": "code",
   "execution_count": null,
   "metadata": {},
   "outputs": [],
   "source": []
  },
  {
   "cell_type": "code",
   "execution_count": null,
   "metadata": {},
   "outputs": [],
   "source": []
  }
 ],
 "metadata": {
  "kernelspec": {
   "display_name": "Python 3 (ipykernel)",
   "language": "python",
   "name": "python3"
  },
  "language_info": {
   "codemirror_mode": {
    "name": "ipython",
    "version": 3
   },
   "file_extension": ".py",
   "mimetype": "text/x-python",
   "name": "python",
   "nbconvert_exporter": "python",
   "pygments_lexer": "ipython3",
   "version": "3.11.5"
  }
 },
 "nbformat": 4,
 "nbformat_minor": 4
}
