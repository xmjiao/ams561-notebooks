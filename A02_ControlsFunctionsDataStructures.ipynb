{
 "cells": [
  {
   "cell_type": "markdown",
   "metadata": {},
   "source": [
    "# Control flows and data structures\n",
    "\n",
    "Go to https://docs.python.org/3/tutorial/\n",
    "\n",
    "Today we aim to cover sections 4 and 5 and will use the below to augment the presentation in the tutorial.\n",
    "\n",
    "Chapter 4\n"
   ]
  },
  {
   "cell_type": "markdown",
   "metadata": {},
   "source": [
    "### Conditionals --- if tests\n",
    "\n",
    "Compare values, make decisions, perform different operations depending on the value of data\n",
    "\n",
    "Examples:\n",
    "\n",
    "* check that `x` (a number) is less than or equal to 100.0\n",
    "  - if it is then print `\"good\"` otherwise print `\"bad\"`\n",
    "* check that x is greater than -10.0\n",
    "* check that x is in the range -10 < x <= 100\n",
    "* check that x is outside this range\n",
    "  - can you come up with at least two ways do to this?  which one is more readable to you?"
   ]
  },
  {
   "cell_type": "code",
   "execution_count": 33,
   "metadata": {},
   "outputs": [
    {
     "name": "stdout",
     "output_type": "stream",
     "text": [
      "good\n",
      "good\n",
      "good\n",
      "Got a type error: '<' not supported between instances of 'int' and 'str'\n",
      "bad\n"
     ]
    }
   ],
   "source": [
    "lst = [1, 2, 100, 'x', 1000000]\n",
    "\n",
    "for x in lst:\n",
    "    try:\n",
    "        if (-10 < x) and (x <= 100):\n",
    "            print(\"good\")\n",
    "        elif x < 1000.0:\n",
    "            print(\"big!\")\n",
    "        else:\n",
    "            print(\"bad\")\n",
    "    except TypeError as err:\n",
    "        print('Got a type error:', err)\n",
    "    except Exception:\n",
    "        print('Got another error')"
   ]
  },
  {
   "cell_type": "code",
   "execution_count": 35,
   "metadata": {},
   "outputs": [
    {
     "data": {
      "text/plain": [
       "True"
      ]
     },
     "execution_count": 35,
     "metadata": {},
     "output_type": "execute_result"
    }
   ],
   "source": [
    "-10 < x"
   ]
  },
  {
   "cell_type": "code",
   "execution_count": 37,
   "metadata": {},
   "outputs": [
    {
     "data": {
      "text/plain": [
       "False"
      ]
     },
     "execution_count": 37,
     "metadata": {},
     "output_type": "execute_result"
    }
   ],
   "source": [
    "x <= 100"
   ]
  },
  {
   "cell_type": "code",
   "execution_count": null,
   "metadata": {},
   "outputs": [],
   "source": [
    "True or False"
   ]
  },
  {
   "cell_type": "code",
   "execution_count": 41,
   "metadata": {},
   "outputs": [
    {
     "data": {
      "text/plain": [
       "bool"
      ]
     },
     "execution_count": 41,
     "metadata": {},
     "output_type": "execute_result"
    }
   ],
   "source": [
    "type(-10 < x)"
   ]
  },
  {
   "cell_type": "code",
   "execution_count": 45,
   "metadata": {},
   "outputs": [
    {
     "data": {
      "text/plain": [
       "True"
      ]
     },
     "execution_count": 45,
     "metadata": {},
     "output_type": "execute_result"
    }
   ],
   "source": [
    "x = 99999999999\n",
    "y = 99999999999\n",
    "x == y"
   ]
  },
  {
   "cell_type": "code",
   "execution_count": null,
   "metadata": {},
   "outputs": [],
   "source": []
  },
  {
   "cell_type": "code",
   "execution_count": 47,
   "metadata": {},
   "outputs": [],
   "source": [
    "x = False"
   ]
  },
  {
   "cell_type": "code",
   "execution_count": 49,
   "metadata": {},
   "outputs": [
    {
     "data": {
      "text/plain": [
       "True"
      ]
     },
     "execution_count": 49,
     "metadata": {},
     "output_type": "execute_result"
    }
   ],
   "source": [
    "not x"
   ]
  },
  {
   "cell_type": "code",
   "execution_count": 51,
   "metadata": {},
   "outputs": [
    {
     "data": {
      "text/plain": [
       "False"
      ]
     },
     "execution_count": 51,
     "metadata": {},
     "output_type": "execute_result"
    }
   ],
   "source": [
    "not ((-10 < x) and (x <= 100))"
   ]
  },
  {
   "cell_type": "code",
   "execution_count": null,
   "metadata": {},
   "outputs": [],
   "source": [
    "(-10 >= x or x > 100)"
   ]
  },
  {
   "cell_type": "markdown",
   "metadata": {},
   "source": [
    "What other comparison or relevant operations are there?  \n",
    "\n",
    "Go look in the language reference --- select 6.10 comparisons and 6.11 boolean operations\n",
    "\n",
    "Examples:\n",
    "* test if a string contains the letter `\"a\"`\n",
    "* test if a string does not contain the letter `\"a\"`\n"
   ]
  },
  {
   "cell_type": "code",
   "execution_count": null,
   "metadata": {},
   "outputs": [],
   "source": []
  },
  {
   "cell_type": "code",
   "execution_count": null,
   "metadata": {},
   "outputs": [],
   "source": []
  },
  {
   "cell_type": "code",
   "execution_count": null,
   "metadata": {},
   "outputs": [],
   "source": []
  },
  {
   "cell_type": "code",
   "execution_count": null,
   "metadata": {},
   "outputs": [],
   "source": []
  },
  {
   "cell_type": "markdown",
   "metadata": {},
   "source": [
    "### Iteration using a `for` loop\n",
    "\n",
    "Often the most intuitive, readable, and easiest mechanism to do something to/with a sequence (e.g., list or string) or other container of things.  Indeed, anything over which you can iterate --- an iterable.\n",
    "\n",
    "```\n",
    "   for item in <iterable>:\n",
    "      do something with item\n",
    "      do something else with item\n",
    "      etc.\n",
    "```\n",
    "\n",
    "Example: \n",
    "* use a for loop to print one-per-line each of the characters in the string `\"Howdy, stranger!\"`\n",
    "* use a for loop to find the largest element in the list `[-1,-2,10,1,20]`\n",
    "  * note the builtin function `max()` that does this for you\n",
    "* use a for loop to count the number of items in the same list\n",
    "  - note the builtin function `len()` that does this for you\n",
    "  - modify your loop to print out each item along with its index, i.e., print\n",
    "```\n",
    "0 -1\n",
    "1 -2\n",
    "2 10\n",
    "3 1\n",
    "4 20\n",
    "```\n",
    "  - note the builtin function `enumerate()` that will make this much easier\n",
    "* count the number of values `>= 10` in the same list\n",
    "* concatenate into one string all of the words in the list `['My','fave','color','is','blue']`\n",
    "  - next, do the same but with a space between each word\n"
   ]
  },
  {
   "cell_type": "code",
   "execution_count": null,
   "metadata": {},
   "outputs": [],
   "source": [
    "x = [-9,-2,10,1,20]\n",
    "n = 0\n",
    "for value in x:\n",
    "    print(n,value)\n",
    "    n = n + 1"
   ]
  },
  {
   "cell_type": "code",
   "execution_count": null,
   "metadata": {},
   "outputs": [],
   "source": [
    "for n, value in enumerate(x):\n",
    "    print(n,value)"
   ]
  },
  {
   "cell_type": "code",
   "execution_count": 53,
   "metadata": {},
   "outputs": [
    {
     "name": "stdout",
     "output_type": "stream",
     "text": [
      "H\n",
      "o\n",
      "w\n",
      "d\n",
      "y\n",
      ",\n",
      " \n",
      "s\n",
      "t\n",
      "r\n",
      "a\n",
      "n\n",
      "g\n",
      "e\n",
      "r\n",
      "!\n"
     ]
    }
   ],
   "source": [
    "s = \"Howdy, stranger!\"\n",
    "for c in s:\n",
    "    print(c)\n",
    "    "
   ]
  },
  {
   "cell_type": "code",
   "execution_count": 63,
   "metadata": {},
   "outputs": [
    {
     "name": "stdout",
     "output_type": "stream",
     "text": [
      "20\n"
     ]
    }
   ],
   "source": [
    "import math\n",
    "\n",
    "max_val = -math.inf\n",
    "v = [-1,-2,10,1,20]\n",
    "for x in v:\n",
    "    if x > max_val:\n",
    "        max_val = x\n",
    "print(max_val)"
   ]
  },
  {
   "cell_type": "code",
   "execution_count": 65,
   "metadata": {},
   "outputs": [
    {
     "data": {
      "text/plain": [
       "0.9320390859672263"
      ]
     },
     "execution_count": 65,
     "metadata": {},
     "output_type": "execute_result"
    }
   ],
   "source": [
    "import math\n",
    "math.sin(1.2)"
   ]
  },
  {
   "cell_type": "code",
   "execution_count": null,
   "metadata": {},
   "outputs": [],
   "source": []
  },
  {
   "cell_type": "markdown",
   "metadata": {},
   "source": [
    "### range - powerful tool for constructing sequences of integers\n",
    "\n",
    "\n",
    "Can you find its documentation?  [hint: follow the link in the tutorial]\n",
    "\n",
    "A range is an iterable that produces the specified sequence of values - it does not literally create the list which means you can compute efficiently with truly huge ranges without running out of memory.\n",
    "\n",
    "Examples: \n",
    "* print numbers `0,1,...,10`\n",
    "* what is the sum of the numbers `0,1,...,10`\n",
    "  - first use a for loop\n",
    "  - then use the builtin function `sum()` --- look here for all of the builtins\n",
    "    https://docs.python.org/3/library/functions.html)\n",
    "* what about summing the sequence `1000000,999997,999994,...,-1001` inclusive\n",
    "  - hint: my answer is `166666999166`\n",
    "* example: nested loop --- print all pairs of integers `(i,j)` such that `0<=i<8` and `0<=j<i`\n",
    "  - what if we wanted `j<=i` ?"
   ]
  },
  {
   "cell_type": "code",
   "execution_count": 81,
   "metadata": {},
   "outputs": [
    {
     "name": "stdout",
     "output_type": "stream",
     "text": [
      "3\n",
      "5\n",
      "7\n",
      "9\n",
      "11\n"
     ]
    }
   ],
   "source": [
    "for i in range(3,12,2):\n",
    "    print(i)"
   ]
  },
  {
   "cell_type": "code",
   "execution_count": 79,
   "metadata": {},
   "outputs": [
    {
     "data": {
      "text/plain": [
       "[0, 2, 4, 6, 8, 10]"
      ]
     },
     "execution_count": 79,
     "metadata": {},
     "output_type": "execute_result"
    }
   ],
   "source": [
    "list(range(0, 11, 2))"
   ]
  },
  {
   "cell_type": "code",
   "execution_count": null,
   "metadata": {},
   "outputs": [],
   "source": [
    "x = []\n",
    "for value in range(11):\n",
    "    x.append(value)\n",
    "print(x)"
   ]
  },
  {
   "cell_type": "code",
   "execution_count": null,
   "metadata": {},
   "outputs": [],
   "source": [
    "for i in range(1000):\n",
    "    print(i)\n",
    "    if i == 10:\n",
    "        break"
   ]
  },
  {
   "cell_type": "markdown",
   "metadata": {},
   "source": [
    "Given the list [1,99,-1,0,88,100] find the index of the first entry with value x = 88"
   ]
  },
  {
   "cell_type": "code",
   "execution_count": null,
   "metadata": {},
   "outputs": [],
   "source": [
    "x = 99999\n",
    "mylist = [1,99,-1,0,88,100]\n",
    "\n",
    "index = 0\n",
    "for value in mylist:\n",
    "    if value == x:\n",
    "        break\n",
    "    index = index + 1\n",
    "else:\n",
    "    raise ValueError(\"Value not found\")\n",
    "print(index)"
   ]
  },
  {
   "cell_type": "code",
   "execution_count": null,
   "metadata": {},
   "outputs": [],
   "source": [
    "mylist.index(88888)"
   ]
  },
  {
   "cell_type": "markdown",
   "metadata": {},
   "source": [
    "**Cover break here**"
   ]
  },
  {
   "cell_type": "markdown",
   "metadata": {},
   "source": [
    "### At this point brifly switch into Turtle graphics notebook"
   ]
  },
  {
   "cell_type": "code",
   "execution_count": null,
   "metadata": {},
   "outputs": [],
   "source": []
  },
  {
   "cell_type": "markdown",
   "metadata": {},
   "source": [
    "### Break, continue and else on loops\n",
    "\n",
    "Break - exits the loop skipping any remaining code in the loop just as if you had jumped to statement immediately following the loop\n",
    "*  Use cases: perhaps you found what you were looking for, or some algorithm has converged (or failed), etc\n",
    "\n",
    "Continue - starts the next iteration of the loop (or finishes if no work is left) skipping any remaining code in the loop just as if you had jumped back to the top of the loop.\n",
    "*  Use cases: some data dependent computation should not happen\n",
    "\n",
    "The full specification of a `for` loop includes an optional `else` clause that is always executed unless you break out of the loop \n",
    "\n",
    "Example: \n",
    "* Given some value `x` and a list of values, write a function to return the index of the first occurence of `x` in the list, and raise a `ValueError` if it is not found.\n",
    "  - hint --- start from the example above that printed out each element along with its index\n",
    "* Note that there is a list method that already does this --- using existing (especially builtin) functionality is a **very good** thing to do\n",
    "  - less code for you to write\n",
    "  - less errors for you to make\n",
    "  - extensively tested on all sorts of possible inputs\n",
    "  - probably much faster\n",
    " \n",
    "Test with \n",
    "```\n",
    " values = [-1,99,44.0,3.14,'hello',99.03]\n",
    "```\n",
    "and with both `x = 'hello'` and `x = 47`\n",
    " \n",
    "Now set `values` to a string (make something up!) and test with several `x`'s in the string and also not in the string. "
   ]
  },
  {
   "cell_type": "code",
   "execution_count": 13,
   "metadata": {},
   "outputs": [
    {
     "name": "stdout",
     "output_type": "stream",
     "text": [
      "0\n",
      "1\n",
      "2\n",
      "3\n",
      "4\n",
      "5\n",
      "6\n",
      "7\n",
      "8\n",
      "9\n",
      "10\n"
     ]
    }
   ],
   "source": [
    "for i in range(100):\n",
    "    if i > 10:\n",
    "        break\n",
    "    else:\n",
    "        print(i)\n",
    "# else:\n",
    "#     print('End of loop')\n",
    "    "
   ]
  },
  {
   "cell_type": "code",
   "execution_count": null,
   "metadata": {},
   "outputs": [],
   "source": []
  },
  {
   "cell_type": "code",
   "execution_count": null,
   "metadata": {},
   "outputs": [],
   "source": []
  },
  {
   "cell_type": "code",
   "execution_count": null,
   "metadata": {},
   "outputs": [],
   "source": []
  },
  {
   "cell_type": "code",
   "execution_count": null,
   "metadata": {},
   "outputs": [],
   "source": []
  },
  {
   "cell_type": "code",
   "execution_count": null,
   "metadata": {},
   "outputs": [],
   "source": []
  },
  {
   "cell_type": "code",
   "execution_count": null,
   "metadata": {},
   "outputs": [],
   "source": []
  },
  {
   "cell_type": "markdown",
   "metadata": {
    "collapsed": true,
    "jupyter": {
     "outputs_hidden": true
    }
   },
   "source": [
    "The best way to do this is to use the method Python provides for all sequence types\n",
    "\n",
    "Can you find the documentation for sequences (hint: look in the library reference)\n",
    "\n",
    "Can you find the method you need?\n",
    "\n",
    "Can you write code to show how to use it?"
   ]
  },
  {
   "cell_type": "code",
   "execution_count": null,
   "metadata": {},
   "outputs": [],
   "source": []
  },
  {
   "cell_type": "markdown",
   "metadata": {},
   "source": [
    "### Pass - does nothing!"
   ]
  },
  {
   "cell_type": "code",
   "execution_count": null,
   "metadata": {},
   "outputs": [],
   "source": []
  },
  {
   "cell_type": "code",
   "execution_count": 17,
   "metadata": {},
   "outputs": [],
   "source": [
    "pass"
   ]
  },
  {
   "cell_type": "code",
   "execution_count": null,
   "metadata": {},
   "outputs": [],
   "source": []
  },
  {
   "cell_type": "markdown",
   "metadata": {},
   "source": [
    "### Match - selects between choices based upon the value/pattern of its argument with powerful matching\n",
    "\n",
    "* Tutorial section 4.6\n",
    "* Dedicated tutorial -- https://peps.python.org/pep-0636/\n",
    "  \n",
    "In simple use, it is sometimes more readable than the equivalent `if/elif/else` code block.  E.g., \n"
   ]
  },
  {
   "cell_type": "code",
   "execution_count": 19,
   "metadata": {},
   "outputs": [
    {
     "name": "stdout",
     "output_type": "stream",
     "text": [
      "apple\n"
     ]
    }
   ],
   "source": [
    "request = \"fruit\"\n",
    "if request == \"meat\":\n",
    "    result = \"chicken\"\n",
    "elif request == \"vegetable\":\n",
    "    result = \"broccoli\"\n",
    "elif request == \"fruit\":\n",
    "    result = \"apple\"\n",
    "else:\n",
    "    result = \"natto\" # careful what you ask for!\n",
    "print(result)"
   ]
  },
  {
   "cell_type": "code",
   "execution_count": 21,
   "metadata": {},
   "outputs": [
    {
     "name": "stdout",
     "output_type": "stream",
     "text": [
      "natto\n"
     ]
    }
   ],
   "source": [
    "request = \"Suprise me!\"\n",
    "match request:\n",
    "    case \"meat\": \n",
    "        result = \"chicken\"\n",
    "    case \"vegetable\":\n",
    "        result = \"broccoli\"\n",
    "    case \"fruit\":\n",
    "        result = \"apple\"\n",
    "    case _:\n",
    "        result = \"natto\"\n",
    "print(result)"
   ]
  },
  {
   "cell_type": "markdown",
   "metadata": {},
   "source": [
    "But, match is much more powerful than this.  Just scratching the surface, here we match not just a value guiding the decision but also a quantity we use to tailor the result."
   ]
  },
  {
   "cell_type": "code",
   "execution_count": 23,
   "metadata": {},
   "outputs": [
    {
     "name": "stdout",
     "output_type": "stream",
     "text": [
      "['porridge']\n"
     ]
    }
   ],
   "source": [
    "request = [\"jdslkfjaslk\", 3]\n",
    "match request:\n",
    "    case \"meat\", n:\n",
    "        result = [\"chicken\"]*n\n",
    "    case \"fruit\", n:\n",
    "        result = [\"apple\"]*n\n",
    "    case _:\n",
    "        result = [\"porridge\"]\n",
    "print(result)"
   ]
  },
  {
   "cell_type": "markdown",
   "metadata": {},
   "source": [
    "### Functions - used to  group reusable blocks of code parameterized by arguments\n",
    "\n",
    "You have used lots already `min()`, `max()`, `print()`, `str.index(x)`, `sum()`, ...\n",
    "\n",
    "Find the full documentation in the language reference - but, sigh, it is not very useful since there is a lot of detail 99% of people will never use.\n",
    "* also refer to \n",
    "  - https://python.swaroopch.com/functions.html\n",
    "  - http://www.openbookproject.net/books/bpp4awd/ch05.html\n",
    "\n",
    "Let's write and then modify a function to compute the sum of two numbers in order to explore the basic concepts for simple functions\n",
    "* declaration of a function\n",
    "* parameters\n",
    "* indenting\n",
    "* returning a value - zero, one, and multiple return statements\n",
    "* calling a function and passing actual values (arguments)\n",
    "  - you might google 'arguments vs. parameters'\n"
   ]
  },
  {
   "cell_type": "code",
   "execution_count": 25,
   "metadata": {},
   "outputs": [
    {
     "data": {
      "text/plain": [
       "108.9"
      ]
     },
     "execution_count": 25,
     "metadata": {},
     "output_type": "execute_result"
    }
   ],
   "source": [
    "x = 9\n",
    "y = 99.9\n",
    "\n",
    "x + y"
   ]
  },
  {
   "cell_type": "code",
   "execution_count": 81,
   "metadata": {},
   "outputs": [
    {
     "name": "stdout",
     "output_type": "stream",
     "text": [
      "4315554688\n",
      "100\n",
      "in add 100 99.9\n",
      "4886626224\n",
      "199.9\n",
      "100\n"
     ]
    }
   ],
   "source": [
    "x = 100\n",
    "print(id(x))\n",
    "\n",
    "def add(a, b):\n",
    "    print(\"in add\", a, b)\n",
    "    # global x\n",
    "    x = 999999\n",
    "    print(id(x))\n",
    "    return a + b\n",
    "\n",
    "print(x)\n",
    "print(add(x, y))\n",
    "print(x)"
   ]
  },
  {
   "cell_type": "code",
   "execution_count": 43,
   "metadata": {},
   "outputs": [
    {
     "data": {
      "text/plain": [
       "1100"
      ]
     },
     "execution_count": 43,
     "metadata": {},
     "output_type": "execute_result"
    }
   ],
   "source": [
    "def increment(a, b=1, c=99):\n",
    "    return (a+b)*c\n",
    "\n",
    "increment(10, c=100)"
   ]
  },
  {
   "cell_type": "code",
   "execution_count": null,
   "metadata": {},
   "outputs": [],
   "source": [
    "print(x, y)"
   ]
  },
  {
   "cell_type": "code",
   "execution_count": 51,
   "metadata": {},
   "outputs": [
    {
     "data": {
      "text/plain": [
       "3"
      ]
     },
     "execution_count": 51,
     "metadata": {},
     "output_type": "execute_result"
    }
   ],
   "source": [
    "def max3(a, b, c):\n",
    "    x = max(max(a, b), c)\n",
    "    return x\n",
    "max3(1, 2, 3)"
   ]
  },
  {
   "cell_type": "code",
   "execution_count": 61,
   "metadata": {},
   "outputs": [
    {
     "data": {
      "text/plain": [
       "50"
      ]
     },
     "execution_count": 61,
     "metadata": {},
     "output_type": "execute_result"
    }
   ],
   "source": [
    "def max_n(a, *args):\n",
    "    x = a\n",
    "    for t in args:\n",
    "        if t > x:\n",
    "            x = t\n",
    "    return x\n",
    "max_n(1, 2, 3, 4, 50)"
   ]
  },
  {
   "cell_type": "markdown",
   "metadata": {},
   "source": [
    "Write a function to compute the maximum of three numbers"
   ]
  },
  {
   "cell_type": "code",
   "execution_count": null,
   "metadata": {},
   "outputs": [],
   "source": [
    "def max3(a,b,c):\n",
    "    if a>=b and a>=c:\n",
    "        return a\n",
    "    elif b>=a and b>=c:\n",
    "        return b\n",
    "    else:\n",
    "        return c\n",
    "\n",
    "max3(1,99,-1)"
   ]
  },
  {
   "cell_type": "code",
   "execution_count": 67,
   "metadata": {},
   "outputs": [
    {
     "name": "stdout",
     "output_type": "stream",
     "text": [
      "None\n"
     ]
    }
   ],
   "source": [
    "def doesnothing():\n",
    "    pass\n",
    "\n",
    "print(doesnothing())"
   ]
  },
  {
   "cell_type": "code",
   "execution_count": null,
   "metadata": {},
   "outputs": [],
   "source": []
  },
  {
   "cell_type": "code",
   "execution_count": null,
   "metadata": {},
   "outputs": [],
   "source": []
  },
  {
   "cell_type": "markdown",
   "metadata": {},
   "source": [
    "More examples for functions:\n",
    "* write a function to compute the sum i for i=0,...n-1 for any n\n",
    "* write a function to return true if |n|<10 and n**3 < 700 and sum i for (i=0..n-1) is < 77\n",
    "* find the smallest integer that violates this condition using no more than 3 lines of new code\n",
    "* compute the distance between two points ($(x_0,y_0)$ and $(x_1, y_1)$) in 2D Cartesian coordinates\n",
    "\\begin{equation}\n",
    "  r = \\sqrt{(x_0 - x_1)^2 + (y_0 - y_1)^2}\n",
    "\\end{equation}"
   ]
  },
  {
   "cell_type": "code",
   "execution_count": 69,
   "metadata": {},
   "outputs": [
    {
     "name": "stdout",
     "output_type": "stream",
     "text": [
      "4950\n"
     ]
    }
   ],
   "source": [
    "def sum_to_n(n):\n",
    "    s = 0\n",
    "    for i in range(n):\n",
    "        s += i\n",
    "    return s\n",
    "print(sum_to_n(100))\n"
   ]
  },
  {
   "cell_type": "markdown",
   "metadata": {},
   "source": [
    "More on functions\n",
    "\n",
    "Discuss the following:\n",
    "* scope --- local, global, builtin\n",
    "* default values\n",
    "* passing by position or by name\n",
    "* save variadic for later or never\n",
    "\n",
    "Discuss in more detail\n",
    "* changing the value of arguments (mutables v.s. immutables)\n",
    "  - Arguments are names of variables that exist in the local scope\n",
    "  - So inside a function, assigning a new value to one of the function arguments does not change the corresponding value in the calling scope\n",
    "  - `global` keyword\n",
    "  - `id()` builtin function (lists, parameters/arguments, pass by reference, mutable/immutable, etc.)\n"
   ]
  },
  {
   "cell_type": "code",
   "execution_count": null,
   "metadata": {},
   "outputs": [],
   "source": [
    "x = 999999\n",
    "\n",
    "def fred(a):\n",
    "    print(a)\n",
    "    a = 99\n",
    "    print(a)\n",
    "    return 1\n",
    "\n",
    "fred(x)\n",
    "print(x)"
   ]
  },
  {
   "cell_type": "code",
   "execution_count": 97,
   "metadata": {},
   "outputs": [
    {
     "name": "stdout",
     "output_type": "stream",
     "text": [
      "[1, 2, 3, 4]\n",
      "[99, 2, 3, 4]\n"
     ]
    }
   ],
   "source": [
    "x = [1,2,3,4,['x', 'y']]\n",
    "def modify(x):\n",
    "    x_copy = x.deepcopy()\n",
    "    x[0] = 99\n",
    "\n",
    "print(x)\n",
    "modify(x)\n",
    "print(x)"
   ]
  },
  {
   "cell_type": "code",
   "execution_count": 103,
   "metadata": {},
   "outputs": [
    {
     "name": "stdout",
     "output_type": "stream",
     "text": [
      "4315551520 4315551520\n",
      "True\n"
     ]
    }
   ],
   "source": [
    "a = 1\n",
    "b = a\n",
    "print(id(a), id(b))\n",
    "print(a is b)"
   ]
  },
  {
   "cell_type": "code",
   "execution_count": 105,
   "metadata": {},
   "outputs": [
    {
     "name": "stdout",
     "output_type": "stream",
     "text": [
      "4315551552 4315551520\n",
      "False\n"
     ]
    }
   ],
   "source": [
    "a += 1\n",
    "print(id(a), id(b))\n",
    "print(a is b)"
   ]
  },
  {
   "cell_type": "code",
   "execution_count": null,
   "metadata": {},
   "outputs": [],
   "source": []
  },
  {
   "cell_type": "code",
   "execution_count": null,
   "metadata": {},
   "outputs": [],
   "source": []
  },
  {
   "cell_type": "code",
   "execution_count": null,
   "metadata": {},
   "outputs": [],
   "source": []
  },
  {
   "cell_type": "markdown",
   "metadata": {},
   "source": [
    "But if an argument is a list (or dictionary, or any mutable) changing a value **within** the list is visble to the calling routine \n",
    "*  Why is this?  Why do we have mutable data? \n",
    "  - imagine you need to make lots of small changes to a really long list - if you had to take a complete copy (like you have to do with strings which are immutable) everytime you need to make a change this would be very slow and also waste memory.   \n",
    "  - Thus, being able to change the list **inplace** is a big optimization and can also simplify coding\n",
    "* Since we want to use functions to reuse code and to have readable programs, we need to have functions able to modify list arguments inplace.  \n",
    "  - Technically this is called **shallow** copy (as opposed to a **deep** or complete copy) or pass by reference.\n",
    "  - In order to be be consistent, lists (and other mutables) have shallow copy in other contexts.\n",
    "* Try to predict what the following code will do then run it"
   ]
  },
  {
   "cell_type": "code",
   "execution_count": 115,
   "metadata": {},
   "outputs": [
    {
     "name": "stdout",
     "output_type": "stream",
     "text": [
      "['a']\n",
      "['a', 'b']\n",
      "['a', 'b', 'c']\n"
     ]
    }
   ],
   "source": [
    "def appender(value,a=None):\n",
    "    if a is None:\n",
    "        a = []\n",
    "    a.append(value)\n",
    "    return a\n",
    "\n",
    "print(appender('a'))\n",
    "print(appender('b'))\n",
    "print(appender('c'))"
   ]
  },
  {
   "cell_type": "code",
   "execution_count": 107,
   "metadata": {},
   "outputs": [
    {
     "name": "stdout",
     "output_type": "stream",
     "text": [
      "[0, 5, 10, 15, 20]\n",
      "[0, 5, 99, 10, 15, 20]\n",
      "[0, 5, 99, 10, -1, 15, 20]\n"
     ]
    }
   ],
   "source": [
    "def inserter(a,n,value):\n",
    "    a[n:n+1] = [a[n],value]  # Inserts value after element n\n",
    "\n",
    "x = [0,5,10,15,20]\n",
    "print(x)\n",
    "inserter(x,1,99)\n",
    "print(x)\n",
    "inserter(x,3,-1)\n",
    "print(x)"
   ]
  },
  {
   "cell_type": "code",
   "execution_count": null,
   "metadata": {},
   "outputs": [],
   "source": []
  },
  {
   "cell_type": "code",
   "execution_count": null,
   "metadata": {},
   "outputs": [],
   "source": []
  },
  {
   "cell_type": "code",
   "execution_count": 118,
   "metadata": {},
   "outputs": [
    {
     "name": "stdout",
     "output_type": "stream",
     "text": [
      "4315554656\n",
      "99 4315554656\n"
     ]
    }
   ],
   "source": [
    "x = 99\n",
    "def fred(a):\n",
    "    \"\"\"\\\n",
    "    Print ID of a variable\n",
    "\n",
    "    Parameters\n",
    "    ----------\n",
    "    a:\n",
    "        A varilable of arbitrary type \n",
    "\n",
    "    Returns\n",
    "    -------\n",
    "    The ID of the variable\n",
    "    \"\"\"\n",
    "    print(a,id(a))\n",
    "    return id(a)\n",
    "\n",
    "print(id(x))\n",
    "fred(x)"
   ]
  },
  {
   "cell_type": "code",
   "execution_count": 124,
   "metadata": {},
   "outputs": [
    {
     "name": "stdout",
     "output_type": "stream",
     "text": [
      "Help on function fred in module __main__:\n",
      "\n",
      "fred(a)\n",
      "    Print ID of a variable\n",
      "\n",
      "    Parameters\n",
      "    ----------\n",
      "\n",
      "    a:\n",
      "        A varilable of arbitrary type\n",
      "\n"
     ]
    }
   ],
   "source": [
    "help(fred)"
   ]
  },
  {
   "cell_type": "code",
   "execution_count": null,
   "metadata": {},
   "outputs": [],
   "source": []
  },
  {
   "cell_type": "markdown",
   "metadata": {},
   "source": [
    "### A bit more detail about variables, values and arguments\n",
    "\n",
    "A slightly more detailed picture of what is going on will make the behavior of all data types completely consistent with each other, as well as the behavior of assigning to a variable with that of passing an argument to a function.\n",
    "\n",
    "When you assign a value to a variable what you are doing is making the name of the variable refer to the location in memory where the value is stored.  \n",
    "\n",
    "Thus, when you do \n",
    "```\n",
    "  x = 1\n",
    "  y = x\n",
    "```\n",
    "both `x` and `y` are refering to the same location in memory where the number `1` is stored (if you want you can check this by using the builtin function `id(variable)` that in the standard implementation of Python gives you the actual location in memory where the value is stored).\n",
    "\n",
    "When you assign another value to one of the variables you are making that variable refer to a different location in memory.  E.g.,\n",
    "```\n",
    "  y = 2\n",
    "```\n",
    "The variable `y` now refers to the location in memory where the value `2` is stored.  All other variables and values are completely unaffected by doing this.  I.e., if you print out `x` it will still show as having the value `1`.  \n",
    "\n",
    "The same is true if you are passing a value as the argument of a function, since an argument to function is just another variable that exists within the function's local scope.  For instance,\n",
    "```\n",
    "  def f(a):\n",
    "     a = a+1\n",
    "     print(a)\n",
    "     \n",
    "  x = 99\n",
    "  f(x)\n",
    "  print(x)\n",
    "```\n",
    "The program \n",
    "1. defines the function `f`, \n",
    "2. assigns to the variable `x` the value `99` (i.e., makes `x` refer to the location in memory where the value `99` is stored), \n",
    "3. calls the function `f` passing `x` as its argument so that within the scope of the function the variable `a` also refers to the location in memory where `99` is stored.  \n",
    "4. The function then computes a new value (`a+1` which evaluates to 100) and assigns that value to the variable `a` (so that now `a` refers to the location in memory where `100` is stored). \n",
    "5. The function will print that `a` has the value `100` but when we print out `x` it will still be `1`.\n",
    "\n",
    "\n",
    "The same is behavior holds for all data types, even if they are lists.  Doing \n",
    "```\n",
    " x = [1,2,3]\n",
    " y = x\n",
    "```\n",
    "again causes both `x` and `y` to refer to the same location in memory where the list `[1,2,3]` is stored - i.e., the two variables are referring to the **same actual list**.  Again, assigning to `y`, e.g., with \n",
    "```\n",
    "  y = 2\n",
    "```\n",
    "will only change the variable `y` (to refer to the value `2`) and not affect `x`, or the list, or anything else.\n",
    "\n",
    "But, again looking at this example\n",
    "```\n",
    " x = [1,2,3]\n",
    " y = x\n",
    "```\n",
    "since both `x` and `y` refer to the **same** list, it should be apparent that we can change the contents **inside** the list using either variable.  E.g.,\n",
    "```\n",
    " x[1]=99\n",
    " print(y[1]) # will print 99\n",
    " y[1]=27\n",
    " print(x[1]) # will print 27\n",
    "```\n",
    "Here we are not changing the variables `x` or `y` - they are always referring to the same list.  What we are doing is changing the list itself, clearly illustrating that it is the list that is mutable.\n",
    "\n",
    "### Be aware but be zen\n",
    "\n",
    "If you are having trouble wrapping your mind around this, don't sweat it for now.   99% of the time Python is doing exactly what you want to have happen so soon you will blissfully forget this detail.  \n",
    "\n",
    "**However**, every now and again you may need to modify a list (or some other mutable) while also keeping the original unchanged.  To do this you need to take a **deep** copy of the original list.  There are a couple of simple ways of doing this for lists:\n",
    "```\n",
    "a=['fred','mary']\n",
    "b=a[:]    # takes a copy of all of the contents of a and makes a new list\n",
    "b=list(a) # ditto\n",
    "b[1]=77   # a is unaffected by this since b refers to an independent list\n",
    "```\n",
    "It gets a bit more complicated if your list contains other lists, etc., in which case you may need to use `deepcopy()` from the copy module.  But that is getting way more advanced that is appropriate for this course.\n",
    "\n",
    "Example:\n",
    "* Before you run each of the below samples, figure out what do you expect this code to print and why?\n"
   ]
  },
  {
   "cell_type": "code",
   "execution_count": null,
   "metadata": {},
   "outputs": [],
   "source": [
    "a=1\n",
    "b=a\n",
    "a=99\n",
    "print('a =', a, '  b =',b) # predict output\n",
    "b=77\n",
    "print('a =', a, '  b =',b) # predict output"
   ]
  },
  {
   "cell_type": "code",
   "execution_count": null,
   "metadata": {},
   "outputs": [],
   "source": [
    "a=[1,2,3]\n",
    "b=a\n",
    "a=[4,5,6]\n",
    "print('a =', a, '  b =',b) # predict output\n",
    "b=77\n",
    "print('a =', a, '  b =',b) # predict output"
   ]
  },
  {
   "cell_type": "code",
   "execution_count": null,
   "metadata": {},
   "outputs": [],
   "source": [
    "a=[1,2,3]\n",
    "b=a\n",
    "a[1]=99\n",
    "print('a =', a, '  b =',b) # predict output\n",
    "b[2]=-1\n",
    "print('a =', a, '  b =',b) # predict output"
   ]
  },
  {
   "cell_type": "code",
   "execution_count": null,
   "metadata": {},
   "outputs": [],
   "source": [
    "a=[1,2,3]\n",
    "b=list(a)\n",
    "a[1]=99\n",
    "print('a =', a, '  b =',b) # predict output\n",
    "b[2]=-1\n",
    "print('a =', a, '  b =',b) # predict output"
   ]
  },
  {
   "cell_type": "markdown",
   "metadata": {},
   "source": [
    "Even more on functions\n",
    "\n",
    "* default values\n",
    "* passing by position or by name\n",
    "* variable number of arguments will be convered later or never\n",
    "\n",
    "Example:\n",
    "* Write a function called `test`  that takes three arguments (`x`, `y`, `z`) with default values 99, 88, and 1, respectively.  It should return the sum of the three numbers. Do you understand the values printed?\n",
    "* Write a function that takes two arguments --- `index` that has the default value 0 and `name` that does not have a default.  Assuming that `name` is a string, the function should return the character in name at position `index`. Use the function to return the first letter in 'Fred' and the last letter in 'Mary'."
   ]
  },
  {
   "cell_type": "code",
   "execution_count": null,
   "metadata": {},
   "outputs": [],
   "source": []
  },
  {
   "cell_type": "code",
   "execution_count": null,
   "metadata": {},
   "outputs": [],
   "source": []
  },
  {
   "cell_type": "code",
   "execution_count": null,
   "metadata": {},
   "outputs": [],
   "source": [
    "help(print)"
   ]
  },
  {
   "cell_type": "code",
   "execution_count": null,
   "metadata": {},
   "outputs": [],
   "source": []
  },
  {
   "cell_type": "code",
   "execution_count": null,
   "metadata": {},
   "outputs": [],
   "source": []
  },
  {
   "cell_type": "code",
   "execution_count": null,
   "metadata": {},
   "outputs": [],
   "source": [
    "# Please define the test function here\n",
    "\n",
    "print(test(99,2,99))\n",
    "\n",
    "print(test(99,2))\n",
    "\n",
    "print(test(y=1, z=77, x=10101))\n",
    "\n",
    "print(test(z=-10101010101010))"
   ]
  },
  {
   "cell_type": "markdown",
   "metadata": {},
   "source": [
    "### Docstrings - are cool and useful - use them!\n",
    "\n",
    "You've used `help()` and `?` already inside jupyter on builtin and library functions - you can make it work for your functions too.\n",
    "\n",
    "Run the following\n"
   ]
  },
  {
   "cell_type": "code",
   "execution_count": null,
   "metadata": {},
   "outputs": [],
   "source": [
    "def buy_pizza(store_url, max_price, delivery_adress):\n",
    "    '''\n",
    "    Orders pizza from the specified store up to the maximum price and arranges for delivery to the given address.\n",
    "\n",
    "    Returns the actual price and raises ValueError if the maximum price was exceeded.\n",
    "    \n",
    "    Implementation deferred.\n",
    "    '''\n",
    "    pass\n",
    "\n",
    "help(buy_pizza)\n",
    "?buy_pizza\n",
    "buy_pizza('http://pizzaonline.com',20,'1 Circle Drive, Stony Brook, NY 11794')"
   ]
  },
  {
   "cell_type": "code",
   "execution_count": null,
   "metadata": {},
   "outputs": [],
   "source": [
    "dir(buy_pizza)"
   ]
  },
  {
   "cell_type": "code",
   "execution_count": null,
   "metadata": {},
   "outputs": [],
   "source": []
  },
  {
   "cell_type": "markdown",
   "metadata": {},
   "source": [
    "### Coding style - clean, consistent, readable code makes you and others more productive\n",
    "\n",
    "There is no one best style (so don't get too dogmatic about your favorite), but some are definitely worse than others.\n"
   ]
  },
  {
   "cell_type": "code",
   "execution_count": null,
   "metadata": {},
   "outputs": [],
   "source": []
  },
  {
   "cell_type": "markdown",
   "metadata": {},
   "source": [
    "### Chapter 5 of the tutorial\n",
    "\n",
    "Data structures in more detail, starting with lists\n",
    "\n",
    "List comprehensions --- terse but powerful\n",
    "* The example of nested comprehensions is incomprehensible!\n",
    "  - We will be using the numpy module to do matrix operations so ignore that for now\n",
    "\n"
   ]
  },
  {
   "cell_type": "markdown",
   "metadata": {},
   "source": [
    "List comprehension example"
   ]
  },
  {
   "cell_type": "code",
   "execution_count": 126,
   "metadata": {},
   "outputs": [
    {
     "name": "stdout",
     "output_type": "stream",
     "text": [
      "[9801, 1, 0, 841, 4, 8100]\n"
     ]
    }
   ],
   "source": [
    "x = [99,1,0,29,2,90]\n",
    "y = []\n",
    "for value in x:\n",
    "    y.append(value**2)\n",
    "print(y)\n",
    "# Write the equivalent list comprension here\n",
    "# y = ???\n",
    "#print(y)"
   ]
  },
  {
   "cell_type": "code",
   "execution_count": 130,
   "metadata": {},
   "outputs": [
    {
     "name": "stdout",
     "output_type": "stream",
     "text": [
      "[1, 0, 4]\n"
     ]
    }
   ],
   "source": [
    "y = [value**2 for value in x if value < 10]\n",
    "print(y)"
   ]
  },
  {
   "cell_type": "code",
   "execution_count": 134,
   "metadata": {},
   "outputs": [
    {
     "name": "stdout",
     "output_type": "stream",
     "text": [
      "[0, 0, 0, 0, 0, 0, 0, 0, 0, 0, 0, 1, 2, 3, 4, 5, 6, 7, 8, 9, 0, 2, 4, 6, 8, 10, 12, 14, 16, 18, 0, 3, 6, 9, 12, 15, 18, 21, 24, 27, 0, 4, 8, 12, 16, 20, 24, 28, 32, 36, 0, 5, 10, 15, 20, 25, 30, 35, 40, 45, 0, 6, 12, 18, 24, 30, 36, 42, 48, 54, 0, 7, 14, 21, 28, 35, 42, 49, 56, 63, 0, 8, 16, 24, 32, 40, 48, 56, 64, 72, 0, 9, 18, 27, 36, 45, 54, 63, 72, 81]\n"
     ]
    }
   ],
   "source": [
    "arr = [x * y for x in range(10) for y in range(10)]\n",
    "print(arr)"
   ]
  },
  {
   "cell_type": "code",
   "execution_count": null,
   "metadata": {},
   "outputs": [],
   "source": []
  },
  {
   "cell_type": "code",
   "execution_count": 144,
   "metadata": {},
   "outputs": [
    {
     "data": {
      "text/plain": [
       "4"
      ]
     },
     "execution_count": 144,
     "metadata": {},
     "output_type": "execute_result"
    }
   ],
   "source": [
    "y = [1,2,4,5,6,6,6,6]\n",
    "y.count(6)"
   ]
  },
  {
   "cell_type": "code",
   "execution_count": 138,
   "metadata": {},
   "outputs": [
    {
     "data": {
      "text/plain": [
       "17"
      ]
     },
     "execution_count": 138,
     "metadata": {},
     "output_type": "execute_result"
    }
   ],
   "source": [
    "fred = \"lkdsajflkajsfklas\"\n",
    "len(fred)"
   ]
  },
  {
   "cell_type": "code",
   "execution_count": 140,
   "metadata": {},
   "outputs": [
    {
     "data": {
      "text/plain": [
       "4"
      ]
     },
     "execution_count": 140,
     "metadata": {},
     "output_type": "execute_result"
    }
   ],
   "source": [
    "fred = [1,2,2,99]\n",
    "len(fred)"
   ]
  },
  {
   "cell_type": "code",
   "execution_count": null,
   "metadata": {},
   "outputs": [],
   "source": []
  },
  {
   "cell_type": "code",
   "execution_count": null,
   "metadata": {},
   "outputs": [],
   "source": []
  },
  {
   "cell_type": "code",
   "execution_count": null,
   "metadata": {},
   "outputs": [],
   "source": []
  },
  {
   "cell_type": "code",
   "execution_count": 160,
   "metadata": {},
   "outputs": [
    {
     "name": "stdout",
     "output_type": "stream",
     "text": [
      "200 100\n"
     ]
    }
   ],
   "source": [
    "x = 100\n",
    "y = 200\n",
    "x,y = y,x\n",
    "print(x, y)"
   ]
  },
  {
   "cell_type": "code",
   "execution_count": 166,
   "metadata": {},
   "outputs": [
    {
     "name": "stdout",
     "output_type": "stream",
     "text": [
      "x 9801\n",
      "y 1\n"
     ]
    }
   ],
   "source": [
    "def pair(a,b):\n",
    "    return a**2,b**2\n",
    "\n",
    "t = pair(99,-1)\n",
    "x = t[0]\n",
    "y = t[1]\n",
    "print(\"x\",x)\n",
    "print(\"y\", y)"
   ]
  },
  {
   "cell_type": "code",
   "execution_count": 168,
   "metadata": {},
   "outputs": [
    {
     "name": "stdout",
     "output_type": "stream",
     "text": [
      "0 j\n",
      "1 d\n",
      "2 s\n",
      "3 k\n",
      "4 l\n",
      "5 f\n",
      "6 j\n",
      "7 a\n",
      "8 s\n",
      "9 k\n",
      "10 d\n",
      "11 l\n",
      "12 j\n",
      "13 f\n",
      "14 k\n",
      "15 s\n",
      "16 a\n"
     ]
    }
   ],
   "source": [
    "x = \"jdsklfjaskdljfksa\"\n",
    "for i,value in enumerate(x):\n",
    "    print(i,value)\n"
   ]
  },
  {
   "cell_type": "markdown",
   "metadata": {},
   "source": [
    "**Tuples**\n",
    "* Like lists but immutable\n",
    "* Since tuples are immutable they can be used as keys into a dictionary\n",
    "* Already encountered in functions that return multiple values or in multiple assignments\n",
    "  - example of swapping numbers, returning multiple values, iterating using enumerate\n",
    "  \n",
    "Example:\n",
    "* Make a tuple holding an integer, a floating point number, and a string\n",
    "* How do you access each element?\n",
    "* How do you unpack the tuple into variables?\n",
    "* What happens if you try to change (assign to) an element in the tuple?\n",
    "* Write a function that takes two arguments and returns both the minimum and the maximum of them\n",
    "* How would you use that function?"
   ]
  },
  {
   "cell_type": "code",
   "execution_count": null,
   "metadata": {},
   "outputs": [],
   "source": []
  },
  {
   "cell_type": "code",
   "execution_count": null,
   "metadata": {},
   "outputs": [],
   "source": []
  },
  {
   "cell_type": "code",
   "execution_count": null,
   "metadata": {},
   "outputs": [],
   "source": []
  },
  {
   "cell_type": "code",
   "execution_count": 174,
   "metadata": {},
   "outputs": [
    {
     "name": "stdout",
     "output_type": "stream",
     "text": [
      "<class 'dict'>\n"
     ]
    }
   ],
   "source": [
    "d = {}\n",
    "print(type(d))"
   ]
  },
  {
   "cell_type": "code",
   "execution_count": 176,
   "metadata": {},
   "outputs": [
    {
     "name": "stdout",
     "output_type": "stream",
     "text": [
      "{}\n"
     ]
    }
   ],
   "source": [
    "d = dict()\n",
    "print(d)"
   ]
  },
  {
   "cell_type": "code",
   "execution_count": 182,
   "metadata": {},
   "outputs": [
    {
     "name": "stdout",
     "output_type": "stream",
     "text": [
      "{'New York': 'Albany', 'P': 'H', 'F': 'T'}\n"
     ]
    }
   ],
   "source": [
    "d = {\"New York\":\"Albany\", \"P\":\"H\", \"F\":\"T\"}\n",
    "print(d)"
   ]
  },
  {
   "cell_type": "code",
   "execution_count": 184,
   "metadata": {},
   "outputs": [
    {
     "name": "stdout",
     "output_type": "stream",
     "text": [
      "{'New York': 'A', 'P': 'H', 'F': 'T'}\n"
     ]
    }
   ],
   "source": [
    "d[\"New York\"] = \"A\"\n",
    "d[\"F\"] = \"T\"\n",
    "print(d)"
   ]
  },
  {
   "cell_type": "code",
   "execution_count": 186,
   "metadata": {},
   "outputs": [],
   "source": [
    "d[\"P\"] = 3.14159"
   ]
  },
  {
   "cell_type": "code",
   "execution_count": 188,
   "metadata": {},
   "outputs": [
    {
     "name": "stdout",
     "output_type": "stream",
     "text": [
      "New York A\n",
      "P 3.14159\n",
      "F T\n"
     ]
    }
   ],
   "source": [
    "for key,value in d.items():\n",
    "    print(key, value)"
   ]
  },
  {
   "cell_type": "code",
   "execution_count": 192,
   "metadata": {},
   "outputs": [
    {
     "name": "stdout",
     "output_type": "stream",
     "text": [
      "A\n",
      "3.14159\n",
      "T\n"
     ]
    }
   ],
   "source": [
    "for val in d.values():\n",
    "    print(val)"
   ]
  },
  {
   "cell_type": "markdown",
   "metadata": {},
   "source": [
    "**Sets** - skip for now\n",
    "\n",
    "**Dictionaries** --- a very powerful and flexible container\n",
    "* Also called an \"associative array\", a \"key-value store\", a map, etc.\n",
    "* Examples of how to iterate over keys, values, key-value pairs, etc.?\n",
    "* Example of how to invert a dictionary (e.g., person to address, address to person)\n",
    "  - what happens if two people have the same address?\n",
    "  \n",
    "```\n",
    "for key in d:\n",
    "    do something with key or the associated value in d[key]\n",
    "    \n",
    "# This form is preferred if you plan to use the value since it is both more readable and more efficient\n",
    "for key,value in d.items():\n",
    "    do something with key and value (which is the same value as d[key])\n",
    "```\n",
    "\n",
    "Example:\n",
    "* Make a dictionary that you can use to loop up the capitol cities of these states:\n",
    "  - New York (Albany)\n",
    "  - Pennsylvania (Harrisburg)\n",
    "  - Florida (Tallahassee)\n",
    "* Use another method to make the same dictionary\n",
    "* How would you use this dictionary to look up the capitol of New York?\n",
    "* What happens if you try to look up the capitol of California?\n",
    "* Add the capitol of California (Sacramento) to the dictionary and try again"
   ]
  },
  {
   "cell_type": "code",
   "execution_count": 196,
   "metadata": {},
   "outputs": [
    {
     "data": {
      "text/plain": [
       "'Albany'"
      ]
     },
     "execution_count": 196,
     "metadata": {},
     "output_type": "execute_result"
    }
   ],
   "source": [
    "capitals = {'New York': 'Albany'}\n",
    "\n",
    "capitals['New York']"
   ]
  },
  {
   "cell_type": "code",
   "execution_count": 198,
   "metadata": {},
   "outputs": [],
   "source": [
    "capitals['Pennsylvania'] = 'Harrisburg'"
   ]
  },
  {
   "cell_type": "code",
   "execution_count": 206,
   "metadata": {},
   "outputs": [
    {
     "data": {
      "text/plain": [
       "False"
      ]
     },
     "execution_count": 206,
     "metadata": {},
     "output_type": "execute_result"
    }
   ],
   "source": [
    "'Florida' in capitals"
   ]
  },
  {
   "cell_type": "code",
   "execution_count": null,
   "metadata": {},
   "outputs": [],
   "source": [
    "# 1. from constructor and literals\n",
    "# 2. inserting item by item\n",
    "# 3. from constructor and list of key,value pairs\n",
    "# 4. similar -- by zipping lists of states and corresponding capitals"
   ]
  },
  {
   "cell_type": "code",
   "execution_count": 69,
   "metadata": {},
   "outputs": [],
   "source": [
    "data = ((\"New York\",\"Albany\"), (\"Pennsylvania\",\"Harrisburg\"), (\"Florida\",\"Tallahasse\"))"
   ]
  },
  {
   "cell_type": "code",
   "execution_count": null,
   "metadata": {},
   "outputs": [],
   "source": [
    "d = dict(data)\n",
    "print(d)"
   ]
  },
  {
   "cell_type": "code",
   "execution_count": 77,
   "metadata": {},
   "outputs": [],
   "source": [
    "keys = [1,2,3]\n",
    "values = [1.0,2.0,3.0,4.0]"
   ]
  },
  {
   "cell_type": "code",
   "execution_count": null,
   "metadata": {},
   "outputs": [],
   "source": [
    "d = {}\n",
    "for i in range(len(values)):\n",
    "    d[keys[i]] = values[i]\n",
    "print(d)"
   ]
  },
  {
   "cell_type": "code",
   "execution_count": null,
   "metadata": {},
   "outputs": [],
   "source": [
    "for value in zip(keys,values):\n",
    "    print(value)"
   ]
  },
  {
   "cell_type": "code",
   "execution_count": null,
   "metadata": {},
   "outputs": [],
   "source": [
    "d = dict(zip(keys,values))\n",
    "print(d)"
   ]
  },
  {
   "cell_type": "code",
   "execution_count": null,
   "metadata": {},
   "outputs": [],
   "source": [
    "s = \"dsajlkjflkdsajfsalkd\"\n",
    "str(sorted(s))"
   ]
  },
  {
   "cell_type": "markdown",
   "metadata": {},
   "source": [
    "Advanced looping --- enumerate, zip, reversed, sorted\n",
    "* Very useful for correctness and speed\n",
    "* More on `if` conditions --- seen some of this already"
   ]
  },
  {
   "cell_type": "markdown",
   "metadata": {},
   "source": [
    "### Reading and practice before next class\n",
    "\n",
    "* review sections 4 and 5 (we just did these)\n",
    "* actually read sections 6 (modules) and 7 (files; except 7.2.2)\n",
    "* actually read markdown basics --- follow link from Jupyter or go to\n",
    "  https://help.github.com/articles/basic-writing-and-formatting-syntax/\n"
   ]
  },
  {
   "cell_type": "code",
   "execution_count": null,
   "metadata": {},
   "outputs": [],
   "source": []
  }
 ],
 "metadata": {
  "anaconda-cloud": {},
  "kernelspec": {
   "display_name": "Python [conda env:base] *",
   "language": "python",
   "name": "conda-base-py"
  },
  "language_info": {
   "codemirror_mode": {
    "name": "ipython",
    "version": 3
   },
   "file_extension": ".py",
   "mimetype": "text/x-python",
   "name": "python",
   "nbconvert_exporter": "python",
   "pygments_lexer": "ipython3",
   "version": "3.12.2"
  }
 },
 "nbformat": 4,
 "nbformat_minor": 4
}
