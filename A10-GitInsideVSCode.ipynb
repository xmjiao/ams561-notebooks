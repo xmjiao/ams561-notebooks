{
 "cells": [
  {
   "cell_type": "markdown",
   "metadata": {},
   "source": [
    "# Getting started with `git` inside VSCode\n",
    "\n",
    "* [Recommended text and video tutorial](https://code.visualstudio.com/docs/sourcecontrol/overview)\n",
    "\n",
    "Install the git extension and while you are at it the github copilot, and github copilot chat extensions\n",
    "\n",
    "Clone an existing GitHub repo into a new VSCode project\n",
    "   - In the copilot chat type \"how do I clone a github repo into a new vscode project?\"\n",
    "   - Follow (cautiously) the instructions provided by the copilot\n",
    "   - Use the Github repo that you created on Monday\n",
    "   - I had select to open a new window for the new project workspace \n",
    "\n",
    "      - Open Visual Studio Code.\n",
    "      - Press Ctrl+Shift+P to open the command palette.\n",
    "      - Type Git: Clone and hit Enter.\n",
    "      - Paste the URL of the GitHub repository you want to clone.\n",
    "      - Choose the directory where you want to place the cloned repository. A new workspace will be created with the cloned repository.\n",
    "\n",
    "\n",
    "* Modify a couple of existing files, remembering to save the changes (Ctl-S)\n",
    "* Make a new file, and stage it\n",
    "* Commit all of the changes and sync\n",
    "\n",
    "Does it get any easier?\n"
   ]
  },
  {
   "cell_type": "markdown",
   "metadata": {},
   "source": []
  }
 ],
 "metadata": {
  "kernelspec": {
   "display_name": "Python [conda env:base] *",
   "language": "python",
   "name": "conda-base-py"
  },
  "language_info": {
   "codemirror_mode": {
    "name": "ipython",
    "version": 3
   },
   "file_extension": ".py",
   "mimetype": "text/x-python",
   "name": "python",
   "nbconvert_exporter": "python",
   "pygments_lexer": "ipython3",
   "version": "3.12.2"
  }
 },
 "nbformat": 4,
 "nbformat_minor": 4
}
