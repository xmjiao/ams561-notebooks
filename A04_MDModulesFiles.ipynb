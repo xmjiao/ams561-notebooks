{
 "cells": [
  {
   "cell_type": "markdown",
   "metadata": {},
   "source": [
    "# Markdown, modules, files\n",
    "\n",
    "### Markdown\n",
    "\n",
    "* Explore the documentation\n",
    "* You will need it to complete the next assignment\n",
    "\n",
    "### Modules\n",
    "* Section 6 of the Python tutorial\n",
    "  - We are not yet concerned about making modules of our own, but in using existing modules\n",
    "* Importing and using a module\n",
    "  - E.g. math\n",
    "  - How to see what's in a module without looking at the web page\n",
    "    - \"help\" or \"?\"\n",
    "    - \"dir\"\n",
    "* Section 10 and 11 of the Python tutorial\n",
    "* The Python Standard Library\n",
    "  - You should be able to find this by now\n",
    "  - Useful modules to be aware at this point\n",
    "    - math\n",
    "    - string\n",
    "    - collections\n",
    "    - random\n",
    "    - statistics\n",
    "    - pathlib, os.path\n",
    "    - [pickle]\n",
    "    - csv (also html, xml, ...)\n",
    "    - os, sys\n",
    "    \n",
    "  \n",
    "* The python packge index is a vast treasure trove\n",
    "  - https://pypi.python.org/pypi\n",
    "\n",
    "What's installed in Anaconda?\n",
    "* https://docs.continuum.io/anaconda/\n",
    "* https://conda.io/docs/using/pkgs.html\n",
    "\n",
    "### Fancy string formatting\n",
    "\n",
    "* Tutorial 7.1\n",
    "  - You've already covered that as part of the first homework\n",
    " "
   ]
  },
  {
   "cell_type": "code",
   "execution_count": null,
   "metadata": {},
   "outputs": [],
   "source": [
    "import math as m\n",
    "m.sin(1.4)"
   ]
  },
  {
   "cell_type": "code",
   "execution_count": null,
   "metadata": {},
   "outputs": [],
   "source": [
    "from math import (sin, cos)\n",
    "\n",
    "sin(1.4)"
   ]
  },
  {
   "cell_type": "markdown",
   "metadata": {},
   "source": [
    "### Files\n",
    "\n",
    "* Tutorial 7.2 - basic file I/O\n",
    "  - opening a file\n",
    "    - file name, path, directory/folder, ...\n",
    "    - file mode\n",
    "    - text and binary files (Windows vs. the rest of the world)\n",
    "\n",
    "OK.  Let's compute some simple statistics on Act 1 Scene 1 from Shakespeare's \"All's Well That Ends Well\" (text obtained from http://shakespeare.mit.edu/allswell/allswell.1.1.html).\n",
    "\n",
    "Download `allswell.txt` from Brightspace.\n",
    "* Make sure it is in the same folder/directory as your jupyter notebooks\n",
    "  - You can use if it is in another folder - you just need to know the path\n",
    "  \n",
    "Open the file in a text editor to see what's in it.\n",
    "  \n",
    "Use Python to open the file for reading in text mode."
   ]
  },
  {
   "cell_type": "code",
   "execution_count": null,
   "metadata": {},
   "outputs": [],
   "source": [
    "f = open(\"allswell.txt\", \"r\")"
   ]
  },
  {
   "cell_type": "markdown",
   "metadata": {},
   "source": [
    "Read in the first line --- what's in it?"
   ]
  },
  {
   "cell_type": "code",
   "execution_count": null,
   "metadata": {},
   "outputs": [],
   "source": [
    "line = f.readline()"
   ]
  },
  {
   "cell_type": "code",
   "execution_count": null,
   "metadata": {},
   "outputs": [],
   "source": [
    "line"
   ]
  },
  {
   "cell_type": "code",
   "execution_count": null,
   "metadata": {},
   "outputs": [],
   "source": [
    "line.split()"
   ]
  },
  {
   "cell_type": "markdown",
   "metadata": {},
   "source": [
    "Notice the newline (`\"\\n\"`) character at the end of the line which literally printed as a new line.\n",
    "\n",
    "Review the methods of a string (can you find the documentation?)\n",
    "\n",
    "How many characters are in this first line?\n",
    "\n",
    "How many words?"
   ]
  },
  {
   "cell_type": "code",
   "execution_count": null,
   "metadata": {},
   "outputs": [],
   "source": [
    "len(line.split())"
   ]
  },
  {
   "cell_type": "code",
   "execution_count": null,
   "metadata": {},
   "outputs": [],
   "source": [
    "f.close()"
   ]
  },
  {
   "cell_type": "markdown",
   "metadata": {},
   "source": [
    "Re-open the file.  How many lines, characters and words are there in the entire file?\n",
    "When you read past the end of a text file you get an empty string.\n",
    "\n",
    "* When you read past the end of a text file you get an empty string.\n",
    "* Read file using while loop\n",
    "* Read file using for loop\n",
    "* Read file using readlines"
   ]
  },
  {
   "cell_type": "code",
   "execution_count": null,
   "metadata": {},
   "outputs": [],
   "source": [
    "f = open(\"allswell.txt\",\"r\")\n",
    "counter = 0\n",
    "while True:\n",
    "    line = f.readline()\n",
    "    if line == \"\":\n",
    "        break\n",
    "    counter += len(line)\n",
    "    # print(line,end=\"\")\n",
    "print(f'Number of chars is {counter}')\n",
    "f.close()"
   ]
  },
  {
   "cell_type": "code",
   "execution_count": null,
   "metadata": {},
   "outputs": [],
   "source": [
    "print('a', end=' ')\n",
    "print('b')"
   ]
  },
  {
   "cell_type": "code",
   "execution_count": null,
   "metadata": {},
   "outputs": [],
   "source": [
    "f = open(\"allswell.txt\",\"r\")\n",
    "lines = f.readlines()\n",
    "len(lines)"
   ]
  },
  {
   "cell_type": "code",
   "execution_count": null,
   "metadata": {},
   "outputs": [],
   "source": [
    "for line in lines:\n",
    "    print(line, end=\"\")"
   ]
  },
  {
   "cell_type": "code",
   "execution_count": null,
   "metadata": {},
   "outputs": [],
   "source": [
    "f = open(\"allswell.txt\",\"r\")\n",
    "nchar = 0\n",
    "nword = 0\n",
    "nline = 0\n",
    "for line in f:\n",
    "    nline += 1\n",
    "    nchar += len(line)\n",
    "    nword += len(line.split())\n",
    "print(nline,nchar,nword)\n",
    "f.close()"
   ]
  },
  {
   "cell_type": "code",
   "execution_count": null,
   "metadata": {},
   "outputs": [],
   "source": [
    "nchar = 0\n",
    "nword = 0\n",
    "nline = 0\n",
    "\n",
    "with open(\"allswell.txt\", \"r\") as f:\n",
    "    for line in f:\n",
    "        nline += 1\n",
    "        nchar += len(line)\n",
    "        nword += len(line.split())\n",
    "print(nline,nchar,nword)"
   ]
  },
  {
   "cell_type": "code",
   "execution_count": null,
   "metadata": {},
   "outputs": [],
   "source": [
    "filename = \"junk.text\"\n",
    "try:\n",
    "    f = open(filename, \"r\")\n",
    "    f.readline()\n",
    "except Exception as e:\n",
    "    print(e)\n",
    "    "
   ]
  },
  {
   "cell_type": "markdown",
   "metadata": {},
   "source": [
    "What happens when you open a non-existant file for reading?"
   ]
  },
  {
   "cell_type": "code",
   "execution_count": null,
   "metadata": {},
   "outputs": [],
   "source": [
    "f = open(\"allswell_new.txt\", \"w\")\n",
    "# f.write('This is the first line\\n')\n",
    "# f.write('This is the second line\\n')\n",
    "print('This is the first line', file=f)\n",
    "print('This is the second line', file=f)\n",
    "f.close()\n"
   ]
  },
  {
   "cell_type": "markdown",
   "metadata": {},
   "source": [
    "So far we have been reading from files --- completely safe!\n",
    "\n",
    "But ...\n",
    "\n",
    "When you open a file for writing it is *truncated* to zero length --- any existing content is *deleted forever*.\n",
    "\n",
    "*Gone for good*\n",
    "\n",
    "***Irreversibly erased from your computer***\n",
    "\n",
    "In Python open `allswell.txt` for writing, then close it, then look at it using a text editor.\n",
    "* How would you feel if this were, for example, the only copy of some data you had taken a year to collect?\n",
    "\n",
    "The morals should be clear. ***KEEP A COPY OF ANYTHING VALUABLE*** (i.e., backup) and be especially careful when opening files for writing.\n",
    "* Plug for IACS students to use free CrashPlan support\n",
    "\n",
    "**Also, instead of \"w\" flag use the \"x\" flag.**"
   ]
  },
  {
   "cell_type": "markdown",
   "metadata": {},
   "source": [
    "Also, it is nice to be able to check if a file exists and print out an error\n",
    "* Let's figure out how to do that (`os.path` module)"
   ]
  },
  {
   "cell_type": "code",
   "execution_count": null,
   "metadata": {},
   "outputs": [],
   "source": []
  },
  {
   "cell_type": "markdown",
   "metadata": {},
   "source": [
    "Download another copy of `allswell.txt` and open it read only.\n",
    "\n",
    "Let's write it out another copy of the file (called `allswell-numbered.txt`) with line numbers prepended (and if you are being professional, the line numbers will be formatted to line up nicely).\n",
    "\n",
    "Need to close (or flush) the file for all of your output to appear.\n",
    "\n",
    "Use a text editor to check it is OK."
   ]
  },
  {
   "cell_type": "code",
   "execution_count": null,
   "metadata": {},
   "outputs": [],
   "source": [
    "import os.path\n",
    "print(os.path.exists(\"allswell.txt\"))"
   ]
  },
  {
   "cell_type": "code",
   "execution_count": null,
   "metadata": {},
   "outputs": [],
   "source": [
    "f = open(\"fred.txt\",\"x\")\n",
    "f.write(\"line1 sjkdsalfjlkdsajflksa\\n\")\n",
    "f.write(\"line2\\nline3\\n\")\n",
    "f.close()"
   ]
  },
  {
   "cell_type": "code",
   "execution_count": null,
   "metadata": {},
   "outputs": [],
   "source": [
    "f = open(\"allswell.txt\",\"r\")\n",
    "newf = open(\"allswell-numbered.txt\",\"w\")\n",
    "nline = 0\n",
    "for line in f:\n",
    "    newline = f\"{nline:4} {line}\"\n",
    "    # newline = (\"%4d\" % nline) + \" \" + line\n",
    "    newf.write(newline)\n",
    "    nline += 1\n",
    "newf.close()"
   ]
  },
  {
   "cell_type": "code",
   "execution_count": null,
   "metadata": {},
   "outputs": [],
   "source": [
    "f = open(\"allswell-numbered.txt\",\"r\")\n",
    "for line in f:\n",
    "    print(line)"
   ]
  },
  {
   "cell_type": "code",
   "execution_count": null,
   "metadata": {},
   "outputs": [],
   "source": []
  },
  {
   "cell_type": "code",
   "execution_count": null,
   "metadata": {},
   "outputs": [],
   "source": [
    "type(nline)"
   ]
  },
  {
   "cell_type": "code",
   "execution_count": null,
   "metadata": {},
   "outputs": [],
   "source": [
    "\"%4d\" % nline"
   ]
  },
  {
   "cell_type": "markdown",
   "metadata": {},
   "source": [
    "f.flush()"
   ]
  },
  {
   "cell_type": "code",
   "execution_count": null,
   "metadata": {},
   "outputs": [],
   "source": [
    "\""
   ]
  },
  {
   "cell_type": "code",
   "execution_count": null,
   "metadata": {},
   "outputs": [],
   "source": []
  },
  {
   "cell_type": "code",
   "execution_count": null,
   "metadata": {},
   "outputs": [],
   "source": []
  },
  {
   "cell_type": "markdown",
   "metadata": {},
   "source": [
    "Introduce `try`, `except`, `finally`\n",
    "- examples for catchall, zero division, value, name errors, single and multiple errors\n",
    "- capturing the actual exception for more information, use of `Exception` for catchall\n",
    "- specific use for files, reworking example above"
   ]
  },
  {
   "cell_type": "code",
   "execution_count": null,
   "metadata": {},
   "outputs": [],
   "source": [
    "x = 1\n",
    "try:\n",
    "    1/x\n",
    "    math.sqrt(-1)\n",
    "    print(\"jdskfjsadlf\")\n",
    "except ZeroDivisionError:\n",
    "    print(\"you divided by zero\")\n",
    "except ValueError:\n",
    "    print(\"there was a value error\")\n",
    "except Exception:\n",
    "    print(\"got an error\")\n",
    "finally:\n",
    "    print(\"this is always executed\")\n",
    "print(\"continuing\")"
   ]
  },
  {
   "cell_type": "code",
   "execution_count": null,
   "metadata": {},
   "outputs": [],
   "source": [
    "1/0"
   ]
  },
  {
   "cell_type": "code",
   "execution_count": null,
   "metadata": {},
   "outputs": [],
   "source": [
    "with open(\"allswell.txt\") as myf:    \n",
    "    with open(\"allswell2.txt\", \"x\") as newf:\n",
    "        for line in myf:\n",
    "            print(line, file=newf)\n",
    "            "
   ]
  },
  {
   "cell_type": "code",
   "execution_count": null,
   "metadata": {},
   "outputs": [],
   "source": [
    "import os"
   ]
  },
  {
   "cell_type": "code",
   "execution_count": null,
   "metadata": {},
   "outputs": [],
   "source": [
    "os.remove('allswell2.txt')"
   ]
  },
  {
   "cell_type": "markdown",
   "metadata": {},
   "source": [
    "Introduce `with` and rework example again"
   ]
  },
  {
   "cell_type": "code",
   "execution_count": null,
   "metadata": {},
   "outputs": [],
   "source": [
    "1/0"
   ]
  },
  {
   "cell_type": "code",
   "execution_count": null,
   "metadata": {},
   "outputs": [],
   "source": [
    "os.remove('allswell2.txt')"
   ]
  },
  {
   "cell_type": "markdown",
   "metadata": {},
   "source": []
  },
  {
   "cell_type": "markdown",
   "metadata": {},
   "source": [
    "Exercise: write a function that \n",
    "* returns the number of lines, words, and characters (not counting new line characters) in a file\n",
    "* if the file is not found raises `ValueError` (instead of the usual `FileNotFoundError`) with a helpful message that includes the file name\n",
    "* test on `allswell.txt`"
   ]
  }
 ],
 "metadata": {
  "kernelspec": {
   "display_name": "Python [conda env:base] *",
   "language": "python",
   "name": "conda-base-py"
  },
  "language_info": {
   "codemirror_mode": {
    "name": "ipython",
    "version": 3
   },
   "file_extension": ".py",
   "mimetype": "text/x-python",
   "name": "python",
   "nbconvert_exporter": "python",
   "pygments_lexer": "ipython3",
   "version": "3.12.2"
  }
 },
 "nbformat": 4,
 "nbformat_minor": 4
}
