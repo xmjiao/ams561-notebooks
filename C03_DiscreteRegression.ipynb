{
 "cells": [
  {
   "cell_type": "markdown",
   "metadata": {},
   "source": [
    "# Discrete Regression\n",
    "\n",
    "Here we consider _discrete_ dependent variables: binary outcomes, variables taking positive integer values. For details and examples read [here](https://statisticsbyjim.com/regression/choosing-regression-analysis/) and [here](https://careerfoundry.com/en/blog/data-analytics/what-is-logistic-regression/) and [here in Python](https://towardsdatascience.com/building-a-logistic-regression-in-python-step-by-step-becd4d56c9c8).\n",
    "\n",
    "Linear regression requires that the dependent(response) variable is a normally-distributed _continuous_ variable and thus cannot be used directly for discrete dependent variables.\n",
    "\n",
    "However, it is possible to map a linear predictor to an interval that can be considered as a _probability_ of discrete outcome.\n",
    "\n",
    "In a bit more detail:\n",
    "\n",
    "- We want to estimate the probability ($p$) of observing $y$ given the value of the independent variable $x$.\n",
    "- Simply fitting a linear model will in general fail since probabilities must be positive and sum to one.\n",
    "- So we need a non-linear model, but we already know this can be hard.\n",
    "- However, instead of fitting the probability directly, we use a linear model to fit a known non-linear function of the probability. Once this function is fitted, we can then compute the probability.\n",
    "\n",
    "The `statsmodels` library has several classes for handling discrete regression:\n",
    "\n",
    "- `Logit` : binary choice logit model (we'll use this below)\n",
    "- `Probit`: binary choice Probit model uses a cumulative distribution function of the normal distribution (the error function or `erf`) instead of the logistic function, but is in spirit very similar to `Logit`\n",
    "- `MNLogit`: multinomial logistic regression (for more than 2 categories)\n",
    "- `Poisson`: Poisson regression (for count data)\n",
    "\n",
    "For more detail, see http://www.statsmodels.org/dev/discretemod.html and https://www.statsmodels.org/stable/index.html\n"
   ]
  },
  {
   "cell_type": "code",
   "execution_count": 1,
   "metadata": {},
   "outputs": [],
   "source": [
    "import statsmodels.api as sm\n",
    "import statsmodels.formula.api as smf\n",
    "import statsmodels.graphics.api as smg\n",
    "import patsy\n",
    "import matplotlib.pyplot as plt\n",
    "%matplotlib inline\n",
    "import numpy as np\n",
    "import pandas as pd\n",
    "from scipy import stats"
   ]
  },
  {
   "cell_type": "markdown",
   "metadata": {},
   "source": [
    "For binary outcomes, a popular map is the logistic function\n",
    "\n",
    "$$\n",
    "\\log \\frac{p}{1-p}\n",
    "$$\n",
    "\n",
    "where $p$ is the probability of an outcome.\n",
    "\n",
    "We will fit this function of the probability to a linear model, i.e.,\n",
    "\n",
    "$$\n",
    "f(x) = \\log \\frac{p}{1-p}  = \\beta_0 + \\beta_1 x\n",
    "$$\n",
    "\n",
    "where $\\beta_0$ and $\\beta_1$ are the model parameters, and $x$ is the independent variable(s).\n",
    "\n",
    "_Note_ that the right hand side is _linear_ in the parameters $\\beta_0$ and $\\beta_1$ so we can use linear regression to fit $f(x)$. Once we have fitted this, we can rearrange to compute the probability with\n",
    "\n",
    "$$\n",
    "     p(x) = \\frac{1}{1+\\exp(-f(x))} = \\frac{1}{1+\\exp(-\\beta_0 - \\beta_1 x)}.\n",
    "$$\n",
    "\n",
    "- This is called the logistic (or sigmoid) function.\n",
    "- It maps $x \\in [-\\infty, \\infty]$ to $ p \\in [0,1] $.\n",
    "- It takes the value $p=0.5$ at $x=-\\frac{\\beta_0}{\\beta_1}$.\n",
    "- The rate of switching (sharpness of classification) is controlled by $\\beta_1$.\n",
    "\n",
    "To make a binary classifier that selects between $y = 0,1$\n",
    "\n",
    "- If $p<0.5$, we predict that $y=0$, and\n",
    "- If $p\\geq 0.5$, we predict that $y=1$.\n",
    "\n",
    "Play with $\\beta_0$ and $\\beta_1$ below to get some intuition about what is going in.\n",
    "\n",
    "- Smaller beta1 means slower switching and hence less sharp classification\n",
    "- Large beta1 means faster switching and hence sharper classification\n"
   ]
  },
  {
   "cell_type": "code",
   "execution_count": null,
   "metadata": {},
   "outputs": [
    {
     "data": {
      "image/png": "[encoded data removed]",
      "text/plain": [
       "<Figure size 640x480 with 1 Axes>"
      ]
     },
     "metadata": {},
     "output_type": "display_data"
    }
   ],
   "source": [
    "# Given beta0 and beta1 plot the logistic function\n",
    "\n",
    "beta1 = 0.50  # Try adjusting the rate of switching from 0.1 to 10\n",
    "beta0 = -10.0 * beta1\n",
    "xhalf = -beta0 / beta1\n",
    "x = np.linspace(-20, 20, 300)\n",
    "p = 1.0 / (1.0 + np.exp(-beta0 - beta1 * x))\n",
    "# Plot the logistic function along with lines to mark the transition point\n",
    "plt.plot(x, p, \"b-\", [xhalf, xhalf], [0, 1], \"k\", [-20, 20], [0.5, 0.5], \"k--\")\n",
    "plt.xlabel(\"x\")\n",
    "plt.ylabel(\"p(x)\")\n",
    "plt.show()"
   ]
  },
  {
   "cell_type": "code",
   "execution_count": null,
   "metadata": {},
   "outputs": [
    {
     "name": "stdout",
     "output_type": "stream",
     "text": [
      "\n",
      "INSTALLED VERSIONS\n",
      "------------------\n",
      "Python: 3.12.7.final.0\n",
      "OS: Darwin 24.4.0 Darwin Kernel Version 24.4.0: Wed Mar 19 21:16:34 PDT 2025; root:xnu-11417.101.15~1/RELEASE_ARM64_T6000 arm64\n",
      "byteorder: little\n",
      "LC_ALL: None\n",
      "LANG: None\n",
      "\n",
      "statsmodels\n",
      "===========\n",
      "\n",
      "Installed: 0.14.2 (/opt/anaconda3/lib/python3.12/site-packages/statsmodels)\n",
      "\n",
      "Required Dependencies\n",
      "=====================\n",
      "\n",
      "cython: Not installed\n",
      "numpy: 1.26.4 (/opt/anaconda3/lib/python3.12/site-packages/numpy)\n",
      "scipy: 1.13.1 (/opt/anaconda3/lib/python3.12/site-packages/scipy)\n",
      "pandas: 2.2.2 (/opt/anaconda3/lib/python3.12/site-packages/pandas)\n",
      "    dateutil: 2.9.0.post0 (/opt/anaconda3/lib/python3.12/site-packages/dateutil)\n",
      "patsy: 0.5.6 (/opt/anaconda3/lib/python3.12/site-packages/patsy)\n",
      "\n",
      "Optional Dependencies\n",
      "=====================\n",
      "\n",
      "matplotlib: 3.9.2 (/opt/anaconda3/lib/python3.12/site-packages/matplotlib)\n",
      "    backend: inline \n",
      "cvxopt: Not installed\n",
      "joblib: 1.4.2 (/opt/anaconda3/lib/python3.12/site-packages/joblib)\n",
      "\n",
      "Developer Tools\n",
      "================\n",
      "\n",
      "IPython: 8.27.0 (/opt/anaconda3/lib/python3.12/site-packages/IPython)\n",
      "    jinja2: 3.1.4 (/opt/anaconda3/lib/python3.12/site-packages/jinja2)\n",
      "sphinx: 7.3.7 (/opt/anaconda3/lib/python3.12/site-packages/sphinx)\n",
      "    pygments: 2.15.1 (/opt/anaconda3/lib/python3.12/site-packages/pygments)\n",
      "pytest: 7.4.4 (/opt/anaconda3/lib/python3.12/site-packages/pytest)\n",
      "virtualenv: Not installed\n",
      "\n",
      "\n"
     ]
    }
   ],
   "source": [
    "# to check version of Statmodels\n",
    "sm.show_versions()"
   ]
  },
  {
   "cell_type": "markdown",
   "metadata": {},
   "source": [
    "## Logistic Regression\n",
    "\n",
    "[Logistic regression](https://en.wikipedia.org/wiki/Logistic_regression) is an important _machine-learning_ technique estimates the parameters for a binary classification model that assigns a probability score to select between two possible outcomes.\n",
    "\n",
    "Briefly review Wikipedia page (above link).\n",
    "\n",
    "Advantages:\n",
    "\n",
    "- doesn’t require high computational power\n",
    "- easily interpretable\n",
    "- widely used\n",
    "- easy to implement\n",
    "- doesn’t require scaling of features\n",
    "- provides a probability score for observations.\n",
    "\n",
    "Disadvantages:\n",
    "\n",
    "- cannot handle a large number of categorical features/variables\n",
    "- vulnerable to overfitting\n",
    "- cannot solve a non-linear problem with the logistic regression model (must first transform them)\n",
    "- will not perform well with independent (X) variables that are not correlated to the target(Y) variable.\n"
   ]
  },
  {
   "cell_type": "markdown",
   "metadata": {},
   "source": [
    "**Example:** We will load a dataset which contains sepal and petal lengths and widths for a sample of [Iris flowers](https://scikit-learn.org/stable/auto_examples/datasets/plot_iris_dataset.html) and a classification of the species of the flower.\n",
    "\n",
    "![iris](iris.png \"Iris\")\n"
   ]
  },
  {
   "cell_type": "code",
   "execution_count": null,
   "metadata": {},
   "outputs": [],
   "source": [
    "# load the \"iris\" dataset\n",
    "df = sm.datasets.get_rdataset(\"iris\").data"
   ]
  },
  {
   "cell_type": "code",
   "execution_count": 5,
   "metadata": {},
   "outputs": [
    {
     "name": "stdout",
     "output_type": "stream",
     "text": [
      "<class 'pandas.core.frame.DataFrame'>\n",
      "RangeIndex: 150 entries, 0 to 149\n",
      "Data columns (total 5 columns):\n",
      " #   Column        Non-Null Count  Dtype  \n",
      "---  ------        --------------  -----  \n",
      " 0   Sepal.Length  150 non-null    float64\n",
      " 1   Sepal.Width   150 non-null    float64\n",
      " 2   Petal.Length  150 non-null    float64\n",
      " 3   Petal.Width   150 non-null    float64\n",
      " 4   Species       150 non-null    object \n",
      "dtypes: float64(4), object(1)\n",
      "memory usage: 6.0+ KB\n"
     ]
    }
   ],
   "source": [
    "# look at the info\n",
    "df.info()"
   ]
  },
  {
   "cell_type": "code",
   "execution_count": 6,
   "metadata": {},
   "outputs": [
    {
     "data": {
      "application/vnd.microsoft.datawrangler.viewer.v0+json": {
       "columns": [
        {
         "name": "index",
         "rawType": "int64",
         "type": "integer"
        },
        {
         "name": "Sepal.Length",
         "rawType": "float64",
         "type": "float"
        },
        {
         "name": "Sepal.Width",
         "rawType": "float64",
         "type": "float"
        },
        {
         "name": "Petal.Length",
         "rawType": "float64",
         "type": "float"
        },
        {
         "name": "Petal.Width",
         "rawType": "float64",
         "type": "float"
        },
        {
         "name": "Species",
         "rawType": "object",
         "type": "string"
        }
       ],
       "conversionMethod": "pd.DataFrame",
       "ref": "859586ab-a9b7-402a-8292-75a380d69308",
       "rows": [
        [
         "0",
         "5.1",
         "3.5",
         "1.4",
         "0.2",
         "setosa"
        ],
        [
         "1",
         "4.9",
         "3.0",
         "1.4",
         "0.2",
         "setosa"
        ],
        [
         "2",
         "4.7",
         "3.2",
         "1.3",
         "0.2",
         "setosa"
        ],
        [
         "3",
         "4.6",
         "3.1",
         "1.5",
         "0.2",
         "setosa"
        ],
        [
         "4",
         "5.0",
         "3.6",
         "1.4",
         "0.2",
         "setosa"
        ],
        [
         "5",
         "5.4",
         "3.9",
         "1.7",
         "0.4",
         "setosa"
        ],
        [
         "6",
         "4.6",
         "3.4",
         "1.4",
         "0.3",
         "setosa"
        ],
        [
         "7",
         "5.0",
         "3.4",
         "1.5",
         "0.2",
         "setosa"
        ],
        [
         "8",
         "4.4",
         "2.9",
         "1.4",
         "0.2",
         "setosa"
        ],
        [
         "9",
         "4.9",
         "3.1",
         "1.5",
         "0.1",
         "setosa"
        ],
        [
         "10",
         "5.4",
         "3.7",
         "1.5",
         "0.2",
         "setosa"
        ],
        [
         "11",
         "4.8",
         "3.4",
         "1.6",
         "0.2",
         "setosa"
        ],
        [
         "12",
         "4.8",
         "3.0",
         "1.4",
         "0.1",
         "setosa"
        ],
        [
         "13",
         "4.3",
         "3.0",
         "1.1",
         "0.1",
         "setosa"
        ],
        [
         "14",
         "5.8",
         "4.0",
         "1.2",
         "0.2",
         "setosa"
        ],
        [
         "15",
         "5.7",
         "4.4",
         "1.5",
         "0.4",
         "setosa"
        ],
        [
         "16",
         "5.4",
         "3.9",
         "1.3",
         "0.4",
         "setosa"
        ],
        [
         "17",
         "5.1",
         "3.5",
         "1.4",
         "0.3",
         "setosa"
        ],
        [
         "18",
         "5.7",
         "3.8",
         "1.7",
         "0.3",
         "setosa"
        ],
        [
         "19",
         "5.1",
         "3.8",
         "1.5",
         "0.3",
         "setosa"
        ],
        [
         "20",
         "5.4",
         "3.4",
         "1.7",
         "0.2",
         "setosa"
        ],
        [
         "21",
         "5.1",
         "3.7",
         "1.5",
         "0.4",
         "setosa"
        ],
        [
         "22",
         "4.6",
         "3.6",
         "1.0",
         "0.2",
         "setosa"
        ],
        [
         "23",
         "5.1",
         "3.3",
         "1.7",
         "0.5",
         "setosa"
        ],
        [
         "24",
         "4.8",
         "3.4",
         "1.9",
         "0.2",
         "setosa"
        ],
        [
         "25",
         "5.0",
         "3.0",
         "1.6",
         "0.2",
         "setosa"
        ],
        [
         "26",
         "5.0",
         "3.4",
         "1.6",
         "0.4",
         "setosa"
        ],
        [
         "27",
         "5.2",
         "3.5",
         "1.5",
         "0.2",
         "setosa"
        ],
        [
         "28",
         "5.2",
         "3.4",
         "1.4",
         "0.2",
         "setosa"
        ],
        [
         "29",
         "4.7",
         "3.2",
         "1.6",
         "0.2",
         "setosa"
        ],
        [
         "30",
         "4.8",
         "3.1",
         "1.6",
         "0.2",
         "setosa"
        ],
        [
         "31",
         "5.4",
         "3.4",
         "1.5",
         "0.4",
         "setosa"
        ],
        [
         "32",
         "5.2",
         "4.1",
         "1.5",
         "0.1",
         "setosa"
        ],
        [
         "33",
         "5.5",
         "4.2",
         "1.4",
         "0.2",
         "setosa"
        ],
        [
         "34",
         "4.9",
         "3.1",
         "1.5",
         "0.2",
         "setosa"
        ],
        [
         "35",
         "5.0",
         "3.2",
         "1.2",
         "0.2",
         "setosa"
        ],
        [
         "36",
         "5.5",
         "3.5",
         "1.3",
         "0.2",
         "setosa"
        ],
        [
         "37",
         "4.9",
         "3.6",
         "1.4",
         "0.1",
         "setosa"
        ],
        [
         "38",
         "4.4",
         "3.0",
         "1.3",
         "0.2",
         "setosa"
        ],
        [
         "39",
         "5.1",
         "3.4",
         "1.5",
         "0.2",
         "setosa"
        ],
        [
         "40",
         "5.0",
         "3.5",
         "1.3",
         "0.3",
         "setosa"
        ],
        [
         "41",
         "4.5",
         "2.3",
         "1.3",
         "0.3",
         "setosa"
        ],
        [
         "42",
         "4.4",
         "3.2",
         "1.3",
         "0.2",
         "setosa"
        ],
        [
         "43",
         "5.0",
         "3.5",
         "1.6",
         "0.6",
         "setosa"
        ],
        [
         "44",
         "5.1",
         "3.8",
         "1.9",
         "0.4",
         "setosa"
        ],
        [
         "45",
         "4.8",
         "3.0",
         "1.4",
         "0.3",
         "setosa"
        ],
        [
         "46",
         "5.1",
         "3.8",
         "1.6",
         "0.2",
         "setosa"
        ],
        [
         "47",
         "4.6",
         "3.2",
         "1.4",
         "0.2",
         "setosa"
        ],
        [
         "48",
         "5.3",
         "3.7",
         "1.5",
         "0.2",
         "setosa"
        ],
        [
         "49",
         "5.0",
         "3.3",
         "1.4",
         "0.2",
         "setosa"
        ]
       ],
       "shape": {
        "columns": 5,
        "rows": 150
       }
      },
      "text/html": [
       "<div>\n",
       "<style scoped>\n",
       "    .dataframe tbody tr th:only-of-type {\n",
       "        vertical-align: middle;\n",
       "    }\n",
       "\n",
       "    .dataframe tbody tr th {\n",
       "        vertical-align: top;\n",
       "    }\n",
       "\n",
       "    .dataframe thead th {\n",
       "        text-align: right;\n",
       "    }\n",
       "</style>\n",
       "<table border=\"1\" class=\"dataframe\">\n",
       "  <thead>\n",
       "    <tr style=\"text-align: right;\">\n",
       "      <th></th>\n",
       "      <th>Sepal.Length</th>\n",
       "      <th>Sepal.Width</th>\n",
       "      <th>Petal.Length</th>\n",
       "      <th>Petal.Width</th>\n",
       "      <th>Species</th>\n",
       "    </tr>\n",
       "  </thead>\n",
       "  <tbody>\n",
       "    <tr>\n",
       "      <th>0</th>\n",
       "      <td>5.1</td>\n",
       "      <td>3.5</td>\n",
       "      <td>1.4</td>\n",
       "      <td>0.2</td>\n",
       "      <td>setosa</td>\n",
       "    </tr>\n",
       "    <tr>\n",
       "      <th>1</th>\n",
       "      <td>4.9</td>\n",
       "      <td>3.0</td>\n",
       "      <td>1.4</td>\n",
       "      <td>0.2</td>\n",
       "      <td>setosa</td>\n",
       "    </tr>\n",
       "    <tr>\n",
       "      <th>2</th>\n",
       "      <td>4.7</td>\n",
       "      <td>3.2</td>\n",
       "      <td>1.3</td>\n",
       "      <td>0.2</td>\n",
       "      <td>setosa</td>\n",
       "    </tr>\n",
       "    <tr>\n",
       "      <th>3</th>\n",
       "      <td>4.6</td>\n",
       "      <td>3.1</td>\n",
       "      <td>1.5</td>\n",
       "      <td>0.2</td>\n",
       "      <td>setosa</td>\n",
       "    </tr>\n",
       "    <tr>\n",
       "      <th>4</th>\n",
       "      <td>5.0</td>\n",
       "      <td>3.6</td>\n",
       "      <td>1.4</td>\n",
       "      <td>0.2</td>\n",
       "      <td>setosa</td>\n",
       "    </tr>\n",
       "    <tr>\n",
       "      <th>...</th>\n",
       "      <td>...</td>\n",
       "      <td>...</td>\n",
       "      <td>...</td>\n",
       "      <td>...</td>\n",
       "      <td>...</td>\n",
       "    </tr>\n",
       "    <tr>\n",
       "      <th>145</th>\n",
       "      <td>6.7</td>\n",
       "      <td>3.0</td>\n",
       "      <td>5.2</td>\n",
       "      <td>2.3</td>\n",
       "      <td>virginica</td>\n",
       "    </tr>\n",
       "    <tr>\n",
       "      <th>146</th>\n",
       "      <td>6.3</td>\n",
       "      <td>2.5</td>\n",
       "      <td>5.0</td>\n",
       "      <td>1.9</td>\n",
       "      <td>virginica</td>\n",
       "    </tr>\n",
       "    <tr>\n",
       "      <th>147</th>\n",
       "      <td>6.5</td>\n",
       "      <td>3.0</td>\n",
       "      <td>5.2</td>\n",
       "      <td>2.0</td>\n",
       "      <td>virginica</td>\n",
       "    </tr>\n",
       "    <tr>\n",
       "      <th>148</th>\n",
       "      <td>6.2</td>\n",
       "      <td>3.4</td>\n",
       "      <td>5.4</td>\n",
       "      <td>2.3</td>\n",
       "      <td>virginica</td>\n",
       "    </tr>\n",
       "    <tr>\n",
       "      <th>149</th>\n",
       "      <td>5.9</td>\n",
       "      <td>3.0</td>\n",
       "      <td>5.1</td>\n",
       "      <td>1.8</td>\n",
       "      <td>virginica</td>\n",
       "    </tr>\n",
       "  </tbody>\n",
       "</table>\n",
       "<p>150 rows × 5 columns</p>\n",
       "</div>"
      ],
      "text/plain": [
       "     Sepal.Length  Sepal.Width  Petal.Length  Petal.Width    Species\n",
       "0             5.1          3.5           1.4          0.2     setosa\n",
       "1             4.9          3.0           1.4          0.2     setosa\n",
       "2             4.7          3.2           1.3          0.2     setosa\n",
       "3             4.6          3.1           1.5          0.2     setosa\n",
       "4             5.0          3.6           1.4          0.2     setosa\n",
       "..            ...          ...           ...          ...        ...\n",
       "145           6.7          3.0           5.2          2.3  virginica\n",
       "146           6.3          2.5           5.0          1.9  virginica\n",
       "147           6.5          3.0           5.2          2.0  virginica\n",
       "148           6.2          3.4           5.4          2.3  virginica\n",
       "149           5.9          3.0           5.1          1.8  virginica\n",
       "\n",
       "[150 rows x 5 columns]"
      ]
     },
     "execution_count": 6,
     "metadata": {},
     "output_type": "execute_result"
    }
   ],
   "source": [
    "# look at the data\n",
    "df"
   ]
  },
  {
   "cell_type": "code",
   "execution_count": 7,
   "metadata": {},
   "outputs": [
    {
     "data": {
      "text/plain": [
       "array(['setosa', 'versicolor', 'virginica'], dtype=object)"
      ]
     },
     "execution_count": 7,
     "metadata": {},
     "output_type": "execute_result"
    }
   ],
   "source": [
    "# How many unique types of species in the Species column\n",
    "df.Species.unique()"
   ]
  },
  {
   "cell_type": "markdown",
   "metadata": {},
   "source": [
    "There are 3 species.\n",
    "\n",
    "To get a binary variable, we will choose 2 species: 'versicolor', 'virginica'\n"
   ]
  },
  {
   "cell_type": "code",
   "execution_count": null,
   "metadata": {},
   "outputs": [],
   "source": [
    "# extract subset\n",
    "df_subset = df[(df.Species == \"versicolor\") | (df.Species == \"virginica\")].copy()"
   ]
  },
  {
   "cell_type": "code",
   "execution_count": 9,
   "metadata": {},
   "outputs": [
    {
     "name": "stdout",
     "output_type": "stream",
     "text": [
      "<class 'pandas.core.frame.DataFrame'>\n",
      "Index: 100 entries, 50 to 149\n",
      "Data columns (total 5 columns):\n",
      " #   Column        Non-Null Count  Dtype  \n",
      "---  ------        --------------  -----  \n",
      " 0   Sepal.Length  100 non-null    float64\n",
      " 1   Sepal.Width   100 non-null    float64\n",
      " 2   Petal.Length  100 non-null    float64\n",
      " 3   Petal.Width   100 non-null    float64\n",
      " 4   Species       100 non-null    object \n",
      "dtypes: float64(4), object(1)\n",
      "memory usage: 4.7+ KB\n"
     ]
    }
   ],
   "source": [
    "# look at info\n",
    "df_subset.info()"
   ]
  },
  {
   "cell_type": "code",
   "execution_count": 10,
   "metadata": {},
   "outputs": [
    {
     "data": {
      "application/vnd.microsoft.datawrangler.viewer.v0+json": {
       "columns": [
        {
         "name": "index",
         "rawType": "int64",
         "type": "integer"
        },
        {
         "name": "Sepal.Length",
         "rawType": "float64",
         "type": "float"
        },
        {
         "name": "Sepal.Width",
         "rawType": "float64",
         "type": "float"
        },
        {
         "name": "Petal.Length",
         "rawType": "float64",
         "type": "float"
        },
        {
         "name": "Petal.Width",
         "rawType": "float64",
         "type": "float"
        },
        {
         "name": "Species",
         "rawType": "object",
         "type": "string"
        }
       ],
       "conversionMethod": "pd.DataFrame",
       "ref": "d665f854-583a-4834-b9ba-fd15d9d7ed5a",
       "rows": [
        [
         "50",
         "7.0",
         "3.2",
         "4.7",
         "1.4",
         "versicolor"
        ],
        [
         "51",
         "6.4",
         "3.2",
         "4.5",
         "1.5",
         "versicolor"
        ],
        [
         "52",
         "6.9",
         "3.1",
         "4.9",
         "1.5",
         "versicolor"
        ],
        [
         "53",
         "5.5",
         "2.3",
         "4.0",
         "1.3",
         "versicolor"
        ],
        [
         "54",
         "6.5",
         "2.8",
         "4.6",
         "1.5",
         "versicolor"
        ],
        [
         "55",
         "5.7",
         "2.8",
         "4.5",
         "1.3",
         "versicolor"
        ],
        [
         "56",
         "6.3",
         "3.3",
         "4.7",
         "1.6",
         "versicolor"
        ],
        [
         "57",
         "4.9",
         "2.4",
         "3.3",
         "1.0",
         "versicolor"
        ],
        [
         "58",
         "6.6",
         "2.9",
         "4.6",
         "1.3",
         "versicolor"
        ],
        [
         "59",
         "5.2",
         "2.7",
         "3.9",
         "1.4",
         "versicolor"
        ],
        [
         "60",
         "5.0",
         "2.0",
         "3.5",
         "1.0",
         "versicolor"
        ],
        [
         "61",
         "5.9",
         "3.0",
         "4.2",
         "1.5",
         "versicolor"
        ],
        [
         "62",
         "6.0",
         "2.2",
         "4.0",
         "1.0",
         "versicolor"
        ],
        [
         "63",
         "6.1",
         "2.9",
         "4.7",
         "1.4",
         "versicolor"
        ],
        [
         "64",
         "5.6",
         "2.9",
         "3.6",
         "1.3",
         "versicolor"
        ],
        [
         "65",
         "6.7",
         "3.1",
         "4.4",
         "1.4",
         "versicolor"
        ],
        [
         "66",
         "5.6",
         "3.0",
         "4.5",
         "1.5",
         "versicolor"
        ],
        [
         "67",
         "5.8",
         "2.7",
         "4.1",
         "1.0",
         "versicolor"
        ],
        [
         "68",
         "6.2",
         "2.2",
         "4.5",
         "1.5",
         "versicolor"
        ],
        [
         "69",
         "5.6",
         "2.5",
         "3.9",
         "1.1",
         "versicolor"
        ],
        [
         "70",
         "5.9",
         "3.2",
         "4.8",
         "1.8",
         "versicolor"
        ],
        [
         "71",
         "6.1",
         "2.8",
         "4.0",
         "1.3",
         "versicolor"
        ],
        [
         "72",
         "6.3",
         "2.5",
         "4.9",
         "1.5",
         "versicolor"
        ],
        [
         "73",
         "6.1",
         "2.8",
         "4.7",
         "1.2",
         "versicolor"
        ],
        [
         "74",
         "6.4",
         "2.9",
         "4.3",
         "1.3",
         "versicolor"
        ],
        [
         "75",
         "6.6",
         "3.0",
         "4.4",
         "1.4",
         "versicolor"
        ],
        [
         "76",
         "6.8",
         "2.8",
         "4.8",
         "1.4",
         "versicolor"
        ],
        [
         "77",
         "6.7",
         "3.0",
         "5.0",
         "1.7",
         "versicolor"
        ],
        [
         "78",
         "6.0",
         "2.9",
         "4.5",
         "1.5",
         "versicolor"
        ],
        [
         "79",
         "5.7",
         "2.6",
         "3.5",
         "1.0",
         "versicolor"
        ],
        [
         "80",
         "5.5",
         "2.4",
         "3.8",
         "1.1",
         "versicolor"
        ],
        [
         "81",
         "5.5",
         "2.4",
         "3.7",
         "1.0",
         "versicolor"
        ],
        [
         "82",
         "5.8",
         "2.7",
         "3.9",
         "1.2",
         "versicolor"
        ],
        [
         "83",
         "6.0",
         "2.7",
         "5.1",
         "1.6",
         "versicolor"
        ],
        [
         "84",
         "5.4",
         "3.0",
         "4.5",
         "1.5",
         "versicolor"
        ],
        [
         "85",
         "6.0",
         "3.4",
         "4.5",
         "1.6",
         "versicolor"
        ],
        [
         "86",
         "6.7",
         "3.1",
         "4.7",
         "1.5",
         "versicolor"
        ],
        [
         "87",
         "6.3",
         "2.3",
         "4.4",
         "1.3",
         "versicolor"
        ],
        [
         "88",
         "5.6",
         "3.0",
         "4.1",
         "1.3",
         "versicolor"
        ],
        [
         "89",
         "5.5",
         "2.5",
         "4.0",
         "1.3",
         "versicolor"
        ],
        [
         "90",
         "5.5",
         "2.6",
         "4.4",
         "1.2",
         "versicolor"
        ],
        [
         "91",
         "6.1",
         "3.0",
         "4.6",
         "1.4",
         "versicolor"
        ],
        [
         "92",
         "5.8",
         "2.6",
         "4.0",
         "1.2",
         "versicolor"
        ],
        [
         "93",
         "5.0",
         "2.3",
         "3.3",
         "1.0",
         "versicolor"
        ],
        [
         "94",
         "5.6",
         "2.7",
         "4.2",
         "1.3",
         "versicolor"
        ],
        [
         "95",
         "5.7",
         "3.0",
         "4.2",
         "1.2",
         "versicolor"
        ],
        [
         "96",
         "5.7",
         "2.9",
         "4.2",
         "1.3",
         "versicolor"
        ],
        [
         "97",
         "6.2",
         "2.9",
         "4.3",
         "1.3",
         "versicolor"
        ],
        [
         "98",
         "5.1",
         "2.5",
         "3.0",
         "1.1",
         "versicolor"
        ],
        [
         "99",
         "5.7",
         "2.8",
         "4.1",
         "1.3",
         "versicolor"
        ]
       ],
       "shape": {
        "columns": 5,
        "rows": 100
       }
      },
      "text/html": [
       "<div>\n",
       "<style scoped>\n",
       "    .dataframe tbody tr th:only-of-type {\n",
       "        vertical-align: middle;\n",
       "    }\n",
       "\n",
       "    .dataframe tbody tr th {\n",
       "        vertical-align: top;\n",
       "    }\n",
       "\n",
       "    .dataframe thead th {\n",
       "        text-align: right;\n",
       "    }\n",
       "</style>\n",
       "<table border=\"1\" class=\"dataframe\">\n",
       "  <thead>\n",
       "    <tr style=\"text-align: right;\">\n",
       "      <th></th>\n",
       "      <th>Sepal.Length</th>\n",
       "      <th>Sepal.Width</th>\n",
       "      <th>Petal.Length</th>\n",
       "      <th>Petal.Width</th>\n",
       "      <th>Species</th>\n",
       "    </tr>\n",
       "  </thead>\n",
       "  <tbody>\n",
       "    <tr>\n",
       "      <th>50</th>\n",
       "      <td>7.0</td>\n",
       "      <td>3.2</td>\n",
       "      <td>4.7</td>\n",
       "      <td>1.4</td>\n",
       "      <td>versicolor</td>\n",
       "    </tr>\n",
       "    <tr>\n",
       "      <th>51</th>\n",
       "      <td>6.4</td>\n",
       "      <td>3.2</td>\n",
       "      <td>4.5</td>\n",
       "      <td>1.5</td>\n",
       "      <td>versicolor</td>\n",
       "    </tr>\n",
       "    <tr>\n",
       "      <th>52</th>\n",
       "      <td>6.9</td>\n",
       "      <td>3.1</td>\n",
       "      <td>4.9</td>\n",
       "      <td>1.5</td>\n",
       "      <td>versicolor</td>\n",
       "    </tr>\n",
       "    <tr>\n",
       "      <th>53</th>\n",
       "      <td>5.5</td>\n",
       "      <td>2.3</td>\n",
       "      <td>4.0</td>\n",
       "      <td>1.3</td>\n",
       "      <td>versicolor</td>\n",
       "    </tr>\n",
       "    <tr>\n",
       "      <th>54</th>\n",
       "      <td>6.5</td>\n",
       "      <td>2.8</td>\n",
       "      <td>4.6</td>\n",
       "      <td>1.5</td>\n",
       "      <td>versicolor</td>\n",
       "    </tr>\n",
       "    <tr>\n",
       "      <th>...</th>\n",
       "      <td>...</td>\n",
       "      <td>...</td>\n",
       "      <td>...</td>\n",
       "      <td>...</td>\n",
       "      <td>...</td>\n",
       "    </tr>\n",
       "    <tr>\n",
       "      <th>145</th>\n",
       "      <td>6.7</td>\n",
       "      <td>3.0</td>\n",
       "      <td>5.2</td>\n",
       "      <td>2.3</td>\n",
       "      <td>virginica</td>\n",
       "    </tr>\n",
       "    <tr>\n",
       "      <th>146</th>\n",
       "      <td>6.3</td>\n",
       "      <td>2.5</td>\n",
       "      <td>5.0</td>\n",
       "      <td>1.9</td>\n",
       "      <td>virginica</td>\n",
       "    </tr>\n",
       "    <tr>\n",
       "      <th>147</th>\n",
       "      <td>6.5</td>\n",
       "      <td>3.0</td>\n",
       "      <td>5.2</td>\n",
       "      <td>2.0</td>\n",
       "      <td>virginica</td>\n",
       "    </tr>\n",
       "    <tr>\n",
       "      <th>148</th>\n",
       "      <td>6.2</td>\n",
       "      <td>3.4</td>\n",
       "      <td>5.4</td>\n",
       "      <td>2.3</td>\n",
       "      <td>virginica</td>\n",
       "    </tr>\n",
       "    <tr>\n",
       "      <th>149</th>\n",
       "      <td>5.9</td>\n",
       "      <td>3.0</td>\n",
       "      <td>5.1</td>\n",
       "      <td>1.8</td>\n",
       "      <td>virginica</td>\n",
       "    </tr>\n",
       "  </tbody>\n",
       "</table>\n",
       "<p>100 rows × 5 columns</p>\n",
       "</div>"
      ],
      "text/plain": [
       "     Sepal.Length  Sepal.Width  Petal.Length  Petal.Width     Species\n",
       "50            7.0          3.2           4.7          1.4  versicolor\n",
       "51            6.4          3.2           4.5          1.5  versicolor\n",
       "52            6.9          3.1           4.9          1.5  versicolor\n",
       "53            5.5          2.3           4.0          1.3  versicolor\n",
       "54            6.5          2.8           4.6          1.5  versicolor\n",
       "..            ...          ...           ...          ...         ...\n",
       "145           6.7          3.0           5.2          2.3   virginica\n",
       "146           6.3          2.5           5.0          1.9   virginica\n",
       "147           6.5          3.0           5.2          2.0   virginica\n",
       "148           6.2          3.4           5.4          2.3   virginica\n",
       "149           5.9          3.0           5.1          1.8   virginica\n",
       "\n",
       "[100 rows x 5 columns]"
      ]
     },
     "execution_count": 10,
     "metadata": {},
     "output_type": "execute_result"
    }
   ],
   "source": [
    "# look at data\n",
    "df_subset"
   ]
  },
  {
   "cell_type": "code",
   "execution_count": 11,
   "metadata": {},
   "outputs": [
    {
     "data": {
      "text/plain": [
       "array(['versicolor', 'virginica'], dtype=object)"
      ]
     },
     "execution_count": 11,
     "metadata": {},
     "output_type": "execute_result"
    }
   ],
   "source": [
    "df_subset.Species.unique()"
   ]
  },
  {
   "cell_type": "markdown",
   "metadata": {},
   "source": [
    "We are doing binary classification so we must choose one species to be 0 and the other to be 1\n",
    "\n",
    "- Versicolor --- 1\n",
    "- Virginica --- 0\n",
    "\n",
    "Replace the text species label with the integer label\n"
   ]
  },
  {
   "cell_type": "code",
   "execution_count": 12,
   "metadata": {},
   "outputs": [
    {
     "data": {
      "text/plain": [
       "50     7.0\n",
       "51     6.4\n",
       "52     6.9\n",
       "53     5.5\n",
       "54     6.5\n",
       "      ... \n",
       "145    6.7\n",
       "146    6.3\n",
       "147    6.5\n",
       "148    6.2\n",
       "149    5.9\n",
       "Name: Sepal.Length, Length: 100, dtype: float64"
      ]
     },
     "execution_count": 12,
     "metadata": {},
     "output_type": "execute_result"
    }
   ],
   "source": [
    "df_subset[\"Sepal.Length\"]"
   ]
  },
  {
   "cell_type": "code",
   "execution_count": null,
   "metadata": {},
   "outputs": [
    {
     "data": {
      "application/vnd.microsoft.datawrangler.viewer.v0+json": {
       "columns": [
        {
         "name": "index",
         "rawType": "int64",
         "type": "integer"
        },
        {
         "name": "Sepal.Length",
         "rawType": "float64",
         "type": "float"
        },
        {
         "name": "Sepal.Width",
         "rawType": "float64",
         "type": "float"
        },
        {
         "name": "Petal.Length",
         "rawType": "float64",
         "type": "float"
        },
        {
         "name": "Petal.Width",
         "rawType": "float64",
         "type": "float"
        },
        {
         "name": "Species",
         "rawType": "int64",
         "type": "integer"
        }
       ],
       "conversionMethod": "pd.DataFrame",
       "ref": "5a7839c4-1d6d-4f98-8c09-d6ba33b4a471",
       "rows": [
        [
         "50",
         "7.0",
         "3.2",
         "4.7",
         "1.4",
         "1"
        ],
        [
         "51",
         "6.4",
         "3.2",
         "4.5",
         "1.5",
         "1"
        ],
        [
         "52",
         "6.9",
         "3.1",
         "4.9",
         "1.5",
         "1"
        ],
        [
         "53",
         "5.5",
         "2.3",
         "4.0",
         "1.3",
         "1"
        ],
        [
         "54",
         "6.5",
         "2.8",
         "4.6",
         "1.5",
         "1"
        ],
        [
         "55",
         "5.7",
         "2.8",
         "4.5",
         "1.3",
         "1"
        ],
        [
         "56",
         "6.3",
         "3.3",
         "4.7",
         "1.6",
         "1"
        ],
        [
         "57",
         "4.9",
         "2.4",
         "3.3",
         "1.0",
         "1"
        ],
        [
         "58",
         "6.6",
         "2.9",
         "4.6",
         "1.3",
         "1"
        ],
        [
         "59",
         "5.2",
         "2.7",
         "3.9",
         "1.4",
         "1"
        ],
        [
         "60",
         "5.0",
         "2.0",
         "3.5",
         "1.0",
         "1"
        ],
        [
         "61",
         "5.9",
         "3.0",
         "4.2",
         "1.5",
         "1"
        ],
        [
         "62",
         "6.0",
         "2.2",
         "4.0",
         "1.0",
         "1"
        ],
        [
         "63",
         "6.1",
         "2.9",
         "4.7",
         "1.4",
         "1"
        ],
        [
         "64",
         "5.6",
         "2.9",
         "3.6",
         "1.3",
         "1"
        ],
        [
         "65",
         "6.7",
         "3.1",
         "4.4",
         "1.4",
         "1"
        ],
        [
         "66",
         "5.6",
         "3.0",
         "4.5",
         "1.5",
         "1"
        ],
        [
         "67",
         "5.8",
         "2.7",
         "4.1",
         "1.0",
         "1"
        ],
        [
         "68",
         "6.2",
         "2.2",
         "4.5",
         "1.5",
         "1"
        ],
        [
         "69",
         "5.6",
         "2.5",
         "3.9",
         "1.1",
         "1"
        ],
        [
         "70",
         "5.9",
         "3.2",
         "4.8",
         "1.8",
         "1"
        ],
        [
         "71",
         "6.1",
         "2.8",
         "4.0",
         "1.3",
         "1"
        ],
        [
         "72",
         "6.3",
         "2.5",
         "4.9",
         "1.5",
         "1"
        ],
        [
         "73",
         "6.1",
         "2.8",
         "4.7",
         "1.2",
         "1"
        ],
        [
         "74",
         "6.4",
         "2.9",
         "4.3",
         "1.3",
         "1"
        ],
        [
         "75",
         "6.6",
         "3.0",
         "4.4",
         "1.4",
         "1"
        ],
        [
         "76",
         "6.8",
         "2.8",
         "4.8",
         "1.4",
         "1"
        ],
        [
         "77",
         "6.7",
         "3.0",
         "5.0",
         "1.7",
         "1"
        ],
        [
         "78",
         "6.0",
         "2.9",
         "4.5",
         "1.5",
         "1"
        ],
        [
         "79",
         "5.7",
         "2.6",
         "3.5",
         "1.0",
         "1"
        ],
        [
         "80",
         "5.5",
         "2.4",
         "3.8",
         "1.1",
         "1"
        ],
        [
         "81",
         "5.5",
         "2.4",
         "3.7",
         "1.0",
         "1"
        ],
        [
         "82",
         "5.8",
         "2.7",
         "3.9",
         "1.2",
         "1"
        ],
        [
         "83",
         "6.0",
         "2.7",
         "5.1",
         "1.6",
         "1"
        ],
        [
         "84",
         "5.4",
         "3.0",
         "4.5",
         "1.5",
         "1"
        ],
        [
         "85",
         "6.0",
         "3.4",
         "4.5",
         "1.6",
         "1"
        ],
        [
         "86",
         "6.7",
         "3.1",
         "4.7",
         "1.5",
         "1"
        ],
        [
         "87",
         "6.3",
         "2.3",
         "4.4",
         "1.3",
         "1"
        ],
        [
         "88",
         "5.6",
         "3.0",
         "4.1",
         "1.3",
         "1"
        ],
        [
         "89",
         "5.5",
         "2.5",
         "4.0",
         "1.3",
         "1"
        ],
        [
         "90",
         "5.5",
         "2.6",
         "4.4",
         "1.2",
         "1"
        ],
        [
         "91",
         "6.1",
         "3.0",
         "4.6",
         "1.4",
         "1"
        ],
        [
         "92",
         "5.8",
         "2.6",
         "4.0",
         "1.2",
         "1"
        ],
        [
         "93",
         "5.0",
         "2.3",
         "3.3",
         "1.0",
         "1"
        ],
        [
         "94",
         "5.6",
         "2.7",
         "4.2",
         "1.3",
         "1"
        ],
        [
         "95",
         "5.7",
         "3.0",
         "4.2",
         "1.2",
         "1"
        ],
        [
         "96",
         "5.7",
         "2.9",
         "4.2",
         "1.3",
         "1"
        ],
        [
         "97",
         "6.2",
         "2.9",
         "4.3",
         "1.3",
         "1"
        ],
        [
         "98",
         "5.1",
         "2.5",
         "3.0",
         "1.1",
         "1"
        ],
        [
         "99",
         "5.7",
         "2.8",
         "4.1",
         "1.3",
         "1"
        ]
       ],
       "shape": {
        "columns": 5,
        "rows": 100
       }
      },
      "text/html": [
       "<div>\n",
       "<style scoped>\n",
       "    .dataframe tbody tr th:only-of-type {\n",
       "        vertical-align: middle;\n",
       "    }\n",
       "\n",
       "    .dataframe tbody tr th {\n",
       "        vertical-align: top;\n",
       "    }\n",
       "\n",
       "    .dataframe thead th {\n",
       "        text-align: right;\n",
       "    }\n",
       "</style>\n",
       "<table border=\"1\" class=\"dataframe\">\n",
       "  <thead>\n",
       "    <tr style=\"text-align: right;\">\n",
       "      <th></th>\n",
       "      <th>Sepal.Length</th>\n",
       "      <th>Sepal.Width</th>\n",
       "      <th>Petal.Length</th>\n",
       "      <th>Petal.Width</th>\n",
       "      <th>Species</th>\n",
       "    </tr>\n",
       "  </thead>\n",
       "  <tbody>\n",
       "    <tr>\n",
       "      <th>50</th>\n",
       "      <td>7.0</td>\n",
       "      <td>3.2</td>\n",
       "      <td>4.7</td>\n",
       "      <td>1.4</td>\n",
       "      <td>1</td>\n",
       "    </tr>\n",
       "    <tr>\n",
       "      <th>51</th>\n",
       "      <td>6.4</td>\n",
       "      <td>3.2</td>\n",
       "      <td>4.5</td>\n",
       "      <td>1.5</td>\n",
       "      <td>1</td>\n",
       "    </tr>\n",
       "    <tr>\n",
       "      <th>52</th>\n",
       "      <td>6.9</td>\n",
       "      <td>3.1</td>\n",
       "      <td>4.9</td>\n",
       "      <td>1.5</td>\n",
       "      <td>1</td>\n",
       "    </tr>\n",
       "    <tr>\n",
       "      <th>53</th>\n",
       "      <td>5.5</td>\n",
       "      <td>2.3</td>\n",
       "      <td>4.0</td>\n",
       "      <td>1.3</td>\n",
       "      <td>1</td>\n",
       "    </tr>\n",
       "    <tr>\n",
       "      <th>54</th>\n",
       "      <td>6.5</td>\n",
       "      <td>2.8</td>\n",
       "      <td>4.6</td>\n",
       "      <td>1.5</td>\n",
       "      <td>1</td>\n",
       "    </tr>\n",
       "    <tr>\n",
       "      <th>...</th>\n",
       "      <td>...</td>\n",
       "      <td>...</td>\n",
       "      <td>...</td>\n",
       "      <td>...</td>\n",
       "      <td>...</td>\n",
       "    </tr>\n",
       "    <tr>\n",
       "      <th>145</th>\n",
       "      <td>6.7</td>\n",
       "      <td>3.0</td>\n",
       "      <td>5.2</td>\n",
       "      <td>2.3</td>\n",
       "      <td>0</td>\n",
       "    </tr>\n",
       "    <tr>\n",
       "      <th>146</th>\n",
       "      <td>6.3</td>\n",
       "      <td>2.5</td>\n",
       "      <td>5.0</td>\n",
       "      <td>1.9</td>\n",
       "      <td>0</td>\n",
       "    </tr>\n",
       "    <tr>\n",
       "      <th>147</th>\n",
       "      <td>6.5</td>\n",
       "      <td>3.0</td>\n",
       "      <td>5.2</td>\n",
       "      <td>2.0</td>\n",
       "      <td>0</td>\n",
       "    </tr>\n",
       "    <tr>\n",
       "      <th>148</th>\n",
       "      <td>6.2</td>\n",
       "      <td>3.4</td>\n",
       "      <td>5.4</td>\n",
       "      <td>2.3</td>\n",
       "      <td>0</td>\n",
       "    </tr>\n",
       "    <tr>\n",
       "      <th>149</th>\n",
       "      <td>5.9</td>\n",
       "      <td>3.0</td>\n",
       "      <td>5.1</td>\n",
       "      <td>1.8</td>\n",
       "      <td>0</td>\n",
       "    </tr>\n",
       "  </tbody>\n",
       "</table>\n",
       "<p>100 rows × 5 columns</p>\n",
       "</div>"
      ],
      "text/plain": [
       "     Sepal.Length  Sepal.Width  Petal.Length  Petal.Width  Species\n",
       "50            7.0          3.2           4.7          1.4        1\n",
       "51            6.4          3.2           4.5          1.5        1\n",
       "52            6.9          3.1           4.9          1.5        1\n",
       "53            5.5          2.3           4.0          1.3        1\n",
       "54            6.5          2.8           4.6          1.5        1\n",
       "..            ...          ...           ...          ...      ...\n",
       "145           6.7          3.0           5.2          2.3        0\n",
       "146           6.3          2.5           5.0          1.9        0\n",
       "147           6.5          3.0           5.2          2.0        0\n",
       "148           6.2          3.4           5.4          2.3        0\n",
       "149           5.9          3.0           5.1          1.8        0\n",
       "\n",
       "[100 rows x 5 columns]"
      ]
     },
     "execution_count": 13,
     "metadata": {},
     "output_type": "execute_result"
    }
   ],
   "source": [
    "# map the two species names into binary values 0 and 1\n",
    "# !!! Don't execute this cell twice ... if you do you will see NaN\n",
    "# and must reload the data and re-execute everything down to here\n",
    "\n",
    "df_subset.Species = df_subset.Species.map({\"versicolor\": 1, \"virginica\": 0})\n",
    "df_subset"
   ]
  },
  {
   "cell_type": "markdown",
   "metadata": {},
   "source": [
    "The dot (\".\") in the column names means we cannot use the column name as an accessor for the data\n",
    "(and hence breaks Patsy)\n"
   ]
  },
  {
   "cell_type": "code",
   "execution_count": 14,
   "metadata": {},
   "outputs": [],
   "source": [
    "# df_subset.Sepal.Length"
   ]
  },
  {
   "cell_type": "markdown",
   "metadata": {},
   "source": [
    "So we replace the \".\" with an \"\\_\"\n"
   ]
  },
  {
   "cell_type": "code",
   "execution_count": null,
   "metadata": {},
   "outputs": [],
   "source": [
    "# Replace \" . \" in column names with \" _ \"\n",
    "df_subset.rename(\n",
    "    columns={\n",
    "        \"Sepal.Length\": \"Sepal_Length\",\n",
    "        \"Sepal.Width\": \"Sepal_Width\",\n",
    "        \"Petal.Length\": \"Petal_Length\",\n",
    "        \"Petal.Width\": \"Petal_Width\",\n",
    "    },\n",
    "    inplace=True,\n",
    ")"
   ]
  },
  {
   "cell_type": "code",
   "execution_count": 16,
   "metadata": {},
   "outputs": [
    {
     "data": {
      "text/plain": [
       "50     7.0\n",
       "51     6.4\n",
       "52     6.9\n",
       "53     5.5\n",
       "54     6.5\n",
       "      ... \n",
       "145    6.7\n",
       "146    6.3\n",
       "147    6.5\n",
       "148    6.2\n",
       "149    5.9\n",
       "Name: Sepal_Length, Length: 100, dtype: float64"
      ]
     },
     "execution_count": 16,
     "metadata": {},
     "output_type": "execute_result"
    }
   ],
   "source": [
    "# Illustrate use of accessor, note the name is case sensitive\n",
    "df_subset.Sepal_Length"
   ]
  },
  {
   "cell_type": "code",
   "execution_count": 17,
   "metadata": {},
   "outputs": [
    {
     "data": {
      "application/vnd.microsoft.datawrangler.viewer.v0+json": {
       "columns": [
        {
         "name": "index",
         "rawType": "int64",
         "type": "integer"
        },
        {
         "name": "Sepal_Length",
         "rawType": "float64",
         "type": "float"
        },
        {
         "name": "Sepal_Width",
         "rawType": "float64",
         "type": "float"
        },
        {
         "name": "Petal_Length",
         "rawType": "float64",
         "type": "float"
        },
        {
         "name": "Petal_Width",
         "rawType": "float64",
         "type": "float"
        },
        {
         "name": "Species",
         "rawType": "int64",
         "type": "integer"
        }
       ],
       "conversionMethod": "pd.DataFrame",
       "ref": "fcc6992a-e145-4f3f-a23e-4e989471429e",
       "rows": [
        [
         "50",
         "7.0",
         "3.2",
         "4.7",
         "1.4",
         "1"
        ],
        [
         "51",
         "6.4",
         "3.2",
         "4.5",
         "1.5",
         "1"
        ],
        [
         "52",
         "6.9",
         "3.1",
         "4.9",
         "1.5",
         "1"
        ],
        [
         "53",
         "5.5",
         "2.3",
         "4.0",
         "1.3",
         "1"
        ],
        [
         "54",
         "6.5",
         "2.8",
         "4.6",
         "1.5",
         "1"
        ],
        [
         "55",
         "5.7",
         "2.8",
         "4.5",
         "1.3",
         "1"
        ],
        [
         "56",
         "6.3",
         "3.3",
         "4.7",
         "1.6",
         "1"
        ],
        [
         "57",
         "4.9",
         "2.4",
         "3.3",
         "1.0",
         "1"
        ],
        [
         "58",
         "6.6",
         "2.9",
         "4.6",
         "1.3",
         "1"
        ],
        [
         "59",
         "5.2",
         "2.7",
         "3.9",
         "1.4",
         "1"
        ],
        [
         "60",
         "5.0",
         "2.0",
         "3.5",
         "1.0",
         "1"
        ],
        [
         "61",
         "5.9",
         "3.0",
         "4.2",
         "1.5",
         "1"
        ],
        [
         "62",
         "6.0",
         "2.2",
         "4.0",
         "1.0",
         "1"
        ],
        [
         "63",
         "6.1",
         "2.9",
         "4.7",
         "1.4",
         "1"
        ],
        [
         "64",
         "5.6",
         "2.9",
         "3.6",
         "1.3",
         "1"
        ],
        [
         "65",
         "6.7",
         "3.1",
         "4.4",
         "1.4",
         "1"
        ],
        [
         "66",
         "5.6",
         "3.0",
         "4.5",
         "1.5",
         "1"
        ],
        [
         "67",
         "5.8",
         "2.7",
         "4.1",
         "1.0",
         "1"
        ],
        [
         "68",
         "6.2",
         "2.2",
         "4.5",
         "1.5",
         "1"
        ],
        [
         "69",
         "5.6",
         "2.5",
         "3.9",
         "1.1",
         "1"
        ],
        [
         "70",
         "5.9",
         "3.2",
         "4.8",
         "1.8",
         "1"
        ],
        [
         "71",
         "6.1",
         "2.8",
         "4.0",
         "1.3",
         "1"
        ],
        [
         "72",
         "6.3",
         "2.5",
         "4.9",
         "1.5",
         "1"
        ],
        [
         "73",
         "6.1",
         "2.8",
         "4.7",
         "1.2",
         "1"
        ],
        [
         "74",
         "6.4",
         "2.9",
         "4.3",
         "1.3",
         "1"
        ],
        [
         "75",
         "6.6",
         "3.0",
         "4.4",
         "1.4",
         "1"
        ],
        [
         "76",
         "6.8",
         "2.8",
         "4.8",
         "1.4",
         "1"
        ],
        [
         "77",
         "6.7",
         "3.0",
         "5.0",
         "1.7",
         "1"
        ],
        [
         "78",
         "6.0",
         "2.9",
         "4.5",
         "1.5",
         "1"
        ],
        [
         "79",
         "5.7",
         "2.6",
         "3.5",
         "1.0",
         "1"
        ],
        [
         "80",
         "5.5",
         "2.4",
         "3.8",
         "1.1",
         "1"
        ],
        [
         "81",
         "5.5",
         "2.4",
         "3.7",
         "1.0",
         "1"
        ],
        [
         "82",
         "5.8",
         "2.7",
         "3.9",
         "1.2",
         "1"
        ],
        [
         "83",
         "6.0",
         "2.7",
         "5.1",
         "1.6",
         "1"
        ],
        [
         "84",
         "5.4",
         "3.0",
         "4.5",
         "1.5",
         "1"
        ],
        [
         "85",
         "6.0",
         "3.4",
         "4.5",
         "1.6",
         "1"
        ],
        [
         "86",
         "6.7",
         "3.1",
         "4.7",
         "1.5",
         "1"
        ],
        [
         "87",
         "6.3",
         "2.3",
         "4.4",
         "1.3",
         "1"
        ],
        [
         "88",
         "5.6",
         "3.0",
         "4.1",
         "1.3",
         "1"
        ],
        [
         "89",
         "5.5",
         "2.5",
         "4.0",
         "1.3",
         "1"
        ],
        [
         "90",
         "5.5",
         "2.6",
         "4.4",
         "1.2",
         "1"
        ],
        [
         "91",
         "6.1",
         "3.0",
         "4.6",
         "1.4",
         "1"
        ],
        [
         "92",
         "5.8",
         "2.6",
         "4.0",
         "1.2",
         "1"
        ],
        [
         "93",
         "5.0",
         "2.3",
         "3.3",
         "1.0",
         "1"
        ],
        [
         "94",
         "5.6",
         "2.7",
         "4.2",
         "1.3",
         "1"
        ],
        [
         "95",
         "5.7",
         "3.0",
         "4.2",
         "1.2",
         "1"
        ],
        [
         "96",
         "5.7",
         "2.9",
         "4.2",
         "1.3",
         "1"
        ],
        [
         "97",
         "6.2",
         "2.9",
         "4.3",
         "1.3",
         "1"
        ],
        [
         "98",
         "5.1",
         "2.5",
         "3.0",
         "1.1",
         "1"
        ],
        [
         "99",
         "5.7",
         "2.8",
         "4.1",
         "1.3",
         "1"
        ]
       ],
       "shape": {
        "columns": 5,
        "rows": 100
       }
      },
      "text/html": [
       "<div>\n",
       "<style scoped>\n",
       "    .dataframe tbody tr th:only-of-type {\n",
       "        vertical-align: middle;\n",
       "    }\n",
       "\n",
       "    .dataframe tbody tr th {\n",
       "        vertical-align: top;\n",
       "    }\n",
       "\n",
       "    .dataframe thead th {\n",
       "        text-align: right;\n",
       "    }\n",
       "</style>\n",
       "<table border=\"1\" class=\"dataframe\">\n",
       "  <thead>\n",
       "    <tr style=\"text-align: right;\">\n",
       "      <th></th>\n",
       "      <th>Sepal_Length</th>\n",
       "      <th>Sepal_Width</th>\n",
       "      <th>Petal_Length</th>\n",
       "      <th>Petal_Width</th>\n",
       "      <th>Species</th>\n",
       "    </tr>\n",
       "  </thead>\n",
       "  <tbody>\n",
       "    <tr>\n",
       "      <th>50</th>\n",
       "      <td>7.0</td>\n",
       "      <td>3.2</td>\n",
       "      <td>4.7</td>\n",
       "      <td>1.4</td>\n",
       "      <td>1</td>\n",
       "    </tr>\n",
       "    <tr>\n",
       "      <th>51</th>\n",
       "      <td>6.4</td>\n",
       "      <td>3.2</td>\n",
       "      <td>4.5</td>\n",
       "      <td>1.5</td>\n",
       "      <td>1</td>\n",
       "    </tr>\n",
       "    <tr>\n",
       "      <th>52</th>\n",
       "      <td>6.9</td>\n",
       "      <td>3.1</td>\n",
       "      <td>4.9</td>\n",
       "      <td>1.5</td>\n",
       "      <td>1</td>\n",
       "    </tr>\n",
       "    <tr>\n",
       "      <th>53</th>\n",
       "      <td>5.5</td>\n",
       "      <td>2.3</td>\n",
       "      <td>4.0</td>\n",
       "      <td>1.3</td>\n",
       "      <td>1</td>\n",
       "    </tr>\n",
       "    <tr>\n",
       "      <th>54</th>\n",
       "      <td>6.5</td>\n",
       "      <td>2.8</td>\n",
       "      <td>4.6</td>\n",
       "      <td>1.5</td>\n",
       "      <td>1</td>\n",
       "    </tr>\n",
       "    <tr>\n",
       "      <th>...</th>\n",
       "      <td>...</td>\n",
       "      <td>...</td>\n",
       "      <td>...</td>\n",
       "      <td>...</td>\n",
       "      <td>...</td>\n",
       "    </tr>\n",
       "    <tr>\n",
       "      <th>145</th>\n",
       "      <td>6.7</td>\n",
       "      <td>3.0</td>\n",
       "      <td>5.2</td>\n",
       "      <td>2.3</td>\n",
       "      <td>0</td>\n",
       "    </tr>\n",
       "    <tr>\n",
       "      <th>146</th>\n",
       "      <td>6.3</td>\n",
       "      <td>2.5</td>\n",
       "      <td>5.0</td>\n",
       "      <td>1.9</td>\n",
       "      <td>0</td>\n",
       "    </tr>\n",
       "    <tr>\n",
       "      <th>147</th>\n",
       "      <td>6.5</td>\n",
       "      <td>3.0</td>\n",
       "      <td>5.2</td>\n",
       "      <td>2.0</td>\n",
       "      <td>0</td>\n",
       "    </tr>\n",
       "    <tr>\n",
       "      <th>148</th>\n",
       "      <td>6.2</td>\n",
       "      <td>3.4</td>\n",
       "      <td>5.4</td>\n",
       "      <td>2.3</td>\n",
       "      <td>0</td>\n",
       "    </tr>\n",
       "    <tr>\n",
       "      <th>149</th>\n",
       "      <td>5.9</td>\n",
       "      <td>3.0</td>\n",
       "      <td>5.1</td>\n",
       "      <td>1.8</td>\n",
       "      <td>0</td>\n",
       "    </tr>\n",
       "  </tbody>\n",
       "</table>\n",
       "<p>100 rows × 5 columns</p>\n",
       "</div>"
      ],
      "text/plain": [
       "     Sepal_Length  Sepal_Width  Petal_Length  Petal_Width  Species\n",
       "50            7.0          3.2           4.7          1.4        1\n",
       "51            6.4          3.2           4.5          1.5        1\n",
       "52            6.9          3.1           4.9          1.5        1\n",
       "53            5.5          2.3           4.0          1.3        1\n",
       "54            6.5          2.8           4.6          1.5        1\n",
       "..            ...          ...           ...          ...      ...\n",
       "145           6.7          3.0           5.2          2.3        0\n",
       "146           6.3          2.5           5.0          1.9        0\n",
       "147           6.5          3.0           5.2          2.0        0\n",
       "148           6.2          3.4           5.4          2.3        0\n",
       "149           5.9          3.0           5.1          1.8        0\n",
       "\n",
       "[100 rows x 5 columns]"
      ]
     },
     "execution_count": 17,
     "metadata": {},
     "output_type": "execute_result"
    }
   ],
   "source": [
    "# now we have a DataFrame object that is ready for use for analysis\n",
    "df_subset"
   ]
  },
  {
   "cell_type": "markdown",
   "metadata": {},
   "source": [
    "Let's look at the data visually trying to see which variables correlate strongly with outcome\n",
    "\n",
    "There are 16 possible combinations of our data.\n"
   ]
  },
  {
   "cell_type": "code",
   "execution_count": null,
   "metadata": {},
   "outputs": [
    {
     "data": {
      "image/png": "[encoded data removed]",
      "text/plain": [
       "<Figure size 1200x1200 with 16 Axes>"
      ]
     },
     "metadata": {},
     "output_type": "display_data"
    }
   ],
   "source": [
    "names = [\"Petal_Length\", \"Petal_Width\", \"Sepal_Length\", \"Sepal_Width\"]\n",
    "data0 = [df_subset[df_subset.Species == 0][name].values for name in names]\n",
    "data1 = [df_subset[df_subset.Species == 1][name].values for name in names]\n",
    "\n",
    "fig = plt.figure(figsize=(12, 12))\n",
    "count = 1\n",
    "for i in range(len(names)):\n",
    "    for j in range(len(names)):\n",
    "        ax = fig.add_subplot(4, 4, count)\n",
    "        ax.plot(data0[i], data0[j], \"s\", label=\"virginica\")\n",
    "        ax.plot(data1[i], data1[j], \"s\", label=\"versicolor\")\n",
    "        ax.set_xlabel(names[i])\n",
    "        ax.set_ylabel(names[j])\n",
    "        ax.legend(loc=2)\n",
    "        count += 1\n",
    "fig.tight_layout()\n",
    "plt.show()"
   ]
  },
  {
   "cell_type": "markdown",
   "metadata": {},
   "source": [
    "Wow --- look at the diagonal plots --- perfect separation seems possible!\n",
    "\n",
    "- But why are there so few virginica points? E.g., look at the off diagonal plots.\n",
    "- What's going on?\n",
    "\n",
    "Recall the mantras \"guilty until proved innocent\" and \"too good to be true.\"\n",
    "\n",
    "Redo the plot but change the markers for data2 to '.'.\n"
   ]
  },
  {
   "cell_type": "code",
   "execution_count": null,
   "metadata": {},
   "outputs": [
    {
     "data": {
      "image/png": "[encoded data removed]",
      "text/plain": [
       "<Figure size 1200x1200 with 16 Axes>"
      ]
     },
     "metadata": {},
     "output_type": "display_data"
    }
   ],
   "source": [
    "fig = plt.figure(figsize=(12, 12))\n",
    "count = 1\n",
    "for i in range(len(names)):\n",
    "    for j in range(len(names)):\n",
    "        ax = fig.add_subplot(4, 4, count)\n",
    "        ax.plot(data0[i], data0[j], \"s\", label=\"virginica\")\n",
    "        ax.plot(data1[i], data1[j], \".\", label=\"versicolor\")\n",
    "        ax.set_xlabel(names[i])\n",
    "        ax.set_ylabel(names[j])\n",
    "        ax.legend(loc=2)\n",
    "        count += 1\n",
    "fig.tight_layout()\n",
    "plt.show()"
   ]
  },
  {
   "cell_type": "markdown",
   "metadata": {},
   "source": [
    "What's the moral?\n",
    "\n",
    "- Be very careful with plots --- they can easily mislead\n",
    "- Keep asking questions to support your conclusions\n",
    "- Even \"correct\" programs can produce \"incorrect\" results\n"
   ]
  },
  {
   "cell_type": "markdown",
   "metadata": {},
   "source": [
    "Now we can do a logistic regression analysis.\n",
    "\n",
    "Documentation is [here](https://www.statsmodels.org/stable/generated/statsmodels.formula.api.logit.html#statsmodels.formula.api.logit)\n",
    "\n",
    "We start off trying to use all four measures\n"
   ]
  },
  {
   "cell_type": "code",
   "execution_count": null,
   "metadata": {},
   "outputs": [],
   "source": [
    "# Create an instance of the smf.logit class with a Patsy formula\n",
    "model = smf.logit(\n",
    "    \"Species ~ Sepal_Length + Sepal_Width + Petal_Length + Petal_Width\", data=df_subset\n",
    ")"
   ]
  },
  {
   "cell_type": "code",
   "execution_count": null,
   "metadata": {},
   "outputs": [],
   "source": [
    "# Use the fit method to fit the model\n",
    "result = model.fit()"
   ]
  },
  {
   "cell_type": "code",
   "execution_count": null,
   "metadata": {},
   "outputs": [],
   "source": [
    "# print a summary of the model\n",
    "print(result.summary())"
   ]
  },
  {
   "cell_type": "markdown",
   "metadata": {},
   "source": [
    "The $z$-score is the regression coefficient divided by the standard coefficient --- it is the number of standard deviations the coefficient is away from 0\n",
    "\n",
    "- If $|z|$ is very large (cut-off value ~ 2), then the corresponding coefficient is significant (not likely to be 0).\n",
    "\n",
    "We can already see that the sepal lengths and widths have less significance.\n",
    "\n",
    "An analysis of the marginal effects sheds more light\n"
   ]
  },
  {
   "cell_type": "code",
   "execution_count": null,
   "metadata": {},
   "outputs": [],
   "source": [
    "# Look at the marginal effects of each dependent variable\n",
    "print(result.get_margeff().summary())"
   ]
  },
  {
   "cell_type": "markdown",
   "metadata": {},
   "source": [
    "Marginal effects for discrete variables measure how predicted probabilities change as the binary independent variable changes from 0 to 1.\n",
    "\n",
    "For our model, Sepal_Length and Sepal_Width don't seem to contribute much to predictiveness of the model (small z-statistic and large p-value, especially relative to those for the petal length/width).\n",
    "\n",
    "In general, reducing the number of parameters can make a model more interpretable and possibly more predictive.\n",
    "\n",
    "\\*\\*Exercise: Create and fit a new model using only `Petal_Length` and `Petal_Width`:\n"
   ]
  },
  {
   "cell_type": "code",
   "execution_count": null,
   "metadata": {},
   "outputs": [],
   "source": [
    "# Create an instance of the smf.logit class with a Patsy formula\n",
    "model = smf.logit(\"Species ~ Petal_Length + Petal_Width\", data=df_subset)"
   ]
  },
  {
   "cell_type": "code",
   "execution_count": null,
   "metadata": {},
   "outputs": [],
   "source": [
    "# Use the fit method to fit the model\n",
    "result = model.fit()"
   ]
  },
  {
   "cell_type": "code",
   "execution_count": null,
   "metadata": {},
   "outputs": [],
   "source": [
    "# print a summary of the model\n",
    "print(result.summary())"
   ]
  },
  {
   "cell_type": "code",
   "execution_count": null,
   "metadata": {},
   "outputs": [],
   "source": [
    "# Look at the marginal effects of each dependent variable\n",
    "print(result.get_margeff().summary())"
   ]
  },
  {
   "cell_type": "markdown",
   "metadata": {},
   "source": [
    "Let's use this model to make a prediciton on random independent variables.\n"
   ]
  },
  {
   "cell_type": "code",
   "execution_count": null,
   "metadata": {},
   "outputs": [],
   "source": [
    "# create a data frame with new values of independent variables\n",
    "df_new = pd.DataFrame(\n",
    "    {\n",
    "        \"Petal_Length\": np.random.randn(20) * 0.5 + 5,\n",
    "        \"Petal_Width\": np.random.randn(20) * 0.5 + 1.7,\n",
    "    }\n",
    ")\n",
    "df_new.head()"
   ]
  },
  {
   "cell_type": "code",
   "execution_count": null,
   "metadata": {},
   "outputs": [],
   "source": [
    "# Use the 'predict' method to make a prediction\n",
    "df_new[\"P_Species\"] = result.predict(df_new)"
   ]
  },
  {
   "cell_type": "code",
   "execution_count": null,
   "metadata": {},
   "outputs": [],
   "source": [
    "# look at the top 5 rows of df_new\n",
    "df_new.head()"
   ]
  },
  {
   "cell_type": "code",
   "execution_count": null,
   "metadata": {},
   "outputs": [],
   "source": [
    "# if the probability > 0.5, we assign 1 to the variable\n",
    "df_new[\"Species\"] = (df_new[\"P_Species\"] > 0.5).astype(int)"
   ]
  },
  {
   "cell_type": "code",
   "execution_count": null,
   "metadata": {},
   "outputs": [],
   "source": [
    "# look at the top 5 rows of df_new again\n",
    "df_new.head()"
   ]
  },
  {
   "cell_type": "markdown",
   "metadata": {},
   "source": [
    "The intercept and the slope of the line in the plane spanned by 'Petal_Width' and 'Petal_Length' that defines the boundary of our classification can be computed from the fitted model parameters.\n"
   ]
  },
  {
   "cell_type": "code",
   "execution_count": null,
   "metadata": {},
   "outputs": [],
   "source": [
    "print(result.params)"
   ]
  },
  {
   "cell_type": "code",
   "execution_count": null,
   "metadata": {},
   "outputs": [],
   "source": [
    "params = result.params\n",
    "beta0 = -params[\"Intercept\"] / params[\"Petal_Width\"]\n",
    "beta1 = -params[\"Petal_Length\"] / params[\"Petal_Width\"]\n",
    "beta0, beta1"
   ]
  },
  {
   "cell_type": "markdown",
   "metadata": {},
   "source": [
    "Let's make a scatter plot of the fitted (squares) and the predicted (circles) data:\n"
   ]
  },
  {
   "cell_type": "code",
   "execution_count": null,
   "metadata": {},
   "outputs": [],
   "source": [
    "fig, ax = plt.subplots(1, 1, figsize=(8, 4))\n",
    "\n",
    "ax.plot(\n",
    "    df_subset[df_subset.Species == 0].Petal_Length.values,\n",
    "    df_subset[df_subset.Species == 0].Petal_Width.values,\n",
    "    \"s\",\n",
    "    label=\"virginica\",\n",
    ")\n",
    "ax.plot(\n",
    "    df_new[df_new.Species == 0].Petal_Length.values,\n",
    "    df_new[df_new.Species == 0].Petal_Width.values,\n",
    "    \"o\",\n",
    "    markersize=10,\n",
    "    color=\"steelblue\",\n",
    "    label=\"virginica (pred.)\",\n",
    ")\n",
    "\n",
    "ax.plot(\n",
    "    df_subset[df_subset.Species == 1].Petal_Length.values,\n",
    "    df_subset[df_subset.Species == 1].Petal_Width.values,\n",
    "    \"s\",\n",
    "    label=\"versicolor\",\n",
    ")\n",
    "ax.plot(\n",
    "    df_new[df_new.Species == 1].Petal_Length.values,\n",
    "    df_new[df_new.Species == 1].Petal_Width.values,\n",
    "    \"o\",\n",
    "    markersize=10,\n",
    "    color=\"green\",\n",
    "    label=\"versicolor (pred.)\",\n",
    ")\n",
    "\n",
    "_x = np.array([4.0, 6.1])\n",
    "ax.plot(_x, beta0 + beta1 * _x, \"k\")\n",
    "\n",
    "ax.set_xlabel(\"Petal length\")\n",
    "ax.set_ylabel(\"Petal width\")\n",
    "ax.legend(loc=2)\n",
    "fig.tight_layout()\n",
    "plt.show()"
   ]
  },
  {
   "cell_type": "markdown",
   "metadata": {},
   "source": [
    "## Poisson Model\n",
    "\n",
    "The [Poisson distribution](https://en.wikipedia.org/wiki/Poisson_distribution) describes a process where the discrete (0,1,2,...) dependent variable counts the number of occurrences (0, 1, 2, ...) per unit time (or space) for a process that has a low constant probability of occuring. A constant rate also implies that the model assumes occurrences are independent.\n",
    "\n",
    "The parameter that needs estimating is the rate (number of occurrences per unit time) which is often called $\\lambda$ (lambda).\n",
    "\n",
    "Briefly look at the Wikipedia page (above link).\n"
   ]
  },
  {
   "cell_type": "markdown",
   "metadata": {},
   "source": [
    "**Example:** Consider 'discoveries' dataset which contains counts of the number of great discoveries between 1860 to 1959:\n"
   ]
  },
  {
   "cell_type": "code",
   "execution_count": null,
   "metadata": {},
   "outputs": [],
   "source": [
    "# load the dataset from the R dataset repository\n",
    "dataset = sm.datasets.get_rdataset(\"discoveries\")\n",
    "dataset.data.head()"
   ]
  },
  {
   "cell_type": "code",
   "execution_count": null,
   "metadata": {},
   "outputs": [],
   "source": [
    "dataset.data.info()\n",
    "dataset.data.describe()"
   ]
  },
  {
   "cell_type": "code",
   "execution_count": null,
   "metadata": {},
   "outputs": [],
   "source": [
    "# create a DataFrame with index \"time\"\n",
    "df = dataset.data.set_index(\"time\")\n",
    "df"
   ]
  },
  {
   "cell_type": "code",
   "execution_count": null,
   "metadata": {},
   "outputs": [],
   "source": [
    "# rename the column name \"value\" to \"discoveries\" for readability\n",
    "df.rename(columns={\"value\": \"discoveries\"}, inplace=True)\n",
    "df.head()"
   ]
  },
  {
   "cell_type": "markdown",
   "metadata": {},
   "source": [
    "Let's take a look at the data --- a bar chart or histogram seems appropriate for this type of data\n"
   ]
  },
  {
   "cell_type": "code",
   "execution_count": null,
   "metadata": {},
   "outputs": [],
   "source": [
    "fig, ax = plt.subplots(1, 1, figsize=(16, 4))\n",
    "df.plot(kind=\"bar\", ax=ax)\n",
    "fig.tight_layout()\n",
    "plt.show()"
   ]
  },
  {
   "cell_type": "markdown",
   "metadata": {},
   "source": [
    "We have the hypothesis that the number of discoveries is [Poisson distributed](https://en.wikipedia.org/wiki/Poisson_distribution). Let's check this hypothesis.\n",
    "\n",
    "Documentation for the statsmodel Poisson model is [here](https://www.statsmodels.org/stable/generated/statsmodels.discrete.discrete_model.Poisson.html#statsmodels.discrete.discrete_model.Poisson).\n"
   ]
  },
  {
   "cell_type": "code",
   "execution_count": null,
   "metadata": {},
   "outputs": [],
   "source": [
    "# make the model\n",
    "model = smf.poisson(\"discoveries ~ 1\", data=df)"
   ]
  },
  {
   "cell_type": "code",
   "execution_count": null,
   "metadata": {},
   "outputs": [],
   "source": [
    "# fit\n",
    "result = model.fit()"
   ]
  },
  {
   "cell_type": "code",
   "execution_count": null,
   "metadata": {},
   "outputs": [],
   "source": [
    "# print summary\n",
    "print(result.summary())"
   ]
  },
  {
   "cell_type": "code",
   "execution_count": null,
   "metadata": {},
   "outputs": [],
   "source": [
    "# Or a little more detail\n",
    "print(result.summary2())"
   ]
  },
  {
   "cell_type": "markdown",
   "metadata": {},
   "source": [
    "The $\\lambda$ parameter of the [Poisson](https://en.wikipedia.org/wiki/Poisson_distribution) distribution can be calculated from the model parameter:\n",
    "\n",
    "(note that lambda is a reserved keyword in Python, so cannot use that)\n"
   ]
  },
  {
   "cell_type": "code",
   "execution_count": null,
   "metadata": {},
   "outputs": [],
   "source": [
    "lmbda = np.exp(result.params)\n",
    "print(lmbda)"
   ]
  },
  {
   "cell_type": "markdown",
   "metadata": {},
   "source": [
    "The standard error (deviation) enables us to construct an interval for $\\lambda$ in which we have 95% (or pick your own value) confidence that the values should correspond.\n",
    "\n",
    "- 95% corresponds to $\\pm$1.96 standard deviations.\n",
    "\n",
    "For the intercept the confidence interval is computed by hand as follows (values also provided in the table above)\n"
   ]
  },
  {
   "cell_type": "code",
   "execution_count": null,
   "metadata": {},
   "outputs": [],
   "source": [
    "# compute by hand\n",
    "1.1314 - 1.96 * 0.0568, 1.1314 + 1.96 * 0.0568"
   ]
  },
  {
   "cell_type": "markdown",
   "metadata": {},
   "source": [
    "To make it easier, the statsmodel package provides a routine\n"
   ]
  },
  {
   "cell_type": "code",
   "execution_count": null,
   "metadata": {},
   "outputs": [],
   "source": [
    "# use result.conf_int\n",
    "result.conf_int().values"
   ]
  },
  {
   "cell_type": "code",
   "execution_count": null,
   "metadata": {},
   "outputs": [],
   "source": [
    "# Turn the confidence interval for the intercept into an interval for the predicted value of lambda\n",
    "import math\n",
    "\n",
    "lmbda_lo = math.exp(result.conf_int().values[0, 0])\n",
    "lmbda_hi = math.exp(result.conf_int().values[0, 1])\n",
    "print(lmbda_lo, lmbda_hi)"
   ]
  },
  {
   "cell_type": "markdown",
   "metadata": {},
   "source": [
    "The counts predicted by this model can now be obtained from the Scipy `stats` library:\n",
    "\n",
    "First construct a Poisson model with the given $\\lambda$\n"
   ]
  },
  {
   "cell_type": "code",
   "execution_count": null,
   "metadata": {},
   "outputs": [],
   "source": [
    "X = stats.poisson(lmbda)"
   ]
  },
  {
   "cell_type": "code",
   "execution_count": null,
   "metadata": {},
   "outputs": [],
   "source": [
    "# Create models for the lower and upper bounds of the confidence interval\n",
    "X_ci_lo = stats.poisson(lmbda_lo)\n",
    "X_ci_hi = stats.poisson(lmbda_hi)"
   ]
  },
  {
   "cell_type": "markdown",
   "metadata": {},
   "source": [
    "The probability of $k$ events ocurring per unit time is called the probability mass function (the analog of probability distribution function for continuous distributions).\n",
    "\n",
    "Now let's make a plot showing the probability mass function for\n",
    "\n",
    "- the original data\n",
    "- the fit computed with `lmbda`\n",
    "- the fit computed with `lmbda_lo`\n",
    "- the fit computed with `lmbda_hi`\n",
    "  The messy bit is configuring the bars to make all of the data visible at once\n"
   ]
  },
  {
   "cell_type": "code",
   "execution_count": null,
   "metadata": {
    "scrolled": true
   },
   "outputs": [],
   "source": [
    "# Plot the histogram of the observed counts with the theoretical probability mass functions\n",
    "v, k = np.histogram(df.values, bins=12, range=(0, 12), density=True)\n",
    "fig, ax = plt.subplots(1, 1, figsize=(12, 4))\n",
    "ax.bar(k[:-1], v, color=\"steelblue\", align=\"center\", label=\"Dicoveries per year\")\n",
    "ax.bar(\n",
    "    k - 0.125,\n",
    "    X_ci_lo.pmf(k),\n",
    "    color=\"red\",\n",
    "    alpha=0.5,\n",
    "    align=\"center\",\n",
    "    width=0.25,\n",
    "    label=\"Poisson fit (CI, lower)\",\n",
    ")\n",
    "ax.bar(k, X.pmf(k), color=\"green\", align=\"center\", width=0.5, label=\"Poisson fit\")\n",
    "ax.bar(\n",
    "    k + 0.125,\n",
    "    X_ci_hi.pmf(k),\n",
    "    color=\"red\",\n",
    "    alpha=0.5,\n",
    "    align=\"center\",\n",
    "    width=0.25,\n",
    "    label=\"Poisson fit (CI, upper)\",\n",
    ")\n",
    "\n",
    "ax.legend()\n",
    "# fig.tight_layout()\n",
    "plt.show()"
   ]
  },
  {
   "cell_type": "markdown",
   "metadata": {},
   "source": [
    "As can be seen, the Poisson model seems to predict the overall shape and trends.\n",
    "\n",
    "However, for multiple values of $k$ the observed counts lie outside the 95% confidence intervals --- the theoretical Poisson probabilty mass functions do not agree well in detail. Thus, we should reject the hypothesis that the discoveries are Poisson distributed. A possible reason why this data is not Poisson distributed is that years with a large and small number of discoveries tend to be clustered --- i.e., the events are correlated for some reason (economic/social events, one bright person, chains of ideas, ...). To make this decision (reject the model) more rigorous we could apply a $\\chi^2$-test, but that is beyond the scope of this class.\n"
   ]
  },
  {
   "cell_type": "markdown",
   "metadata": {},
   "source": [
    "## References:\n",
    "\n",
    "- _Numerical Python: A Practical Techniques Approach for Industry_ by Robert Johansson (Chapter 14)\n"
   ]
  }
 ],
 "metadata": {
  "kernelspec": {
   "display_name": "base",
   "language": "python",
   "name": "python3"
  },
  "language_info": {
   "codemirror_mode": {
    "name": "ipython",
    "version": 3
   },
   "file_extension": ".py",
   "mimetype": "text/x-python",
   "name": "python",
   "nbconvert_exporter": "python",
   "pygments_lexer": "ipython3",
   "version": "3.12.7"
  }
 },
 "nbformat": 4,
 "nbformat_minor": 4
}
