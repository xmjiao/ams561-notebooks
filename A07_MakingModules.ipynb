{
 "cells": [
  {
   "cell_type": "markdown",
   "metadata": {},
   "source": [
    "# A brief introduction to modules in Python\n",
    "\n",
    "\n",
    "https://docs.python.org/3/tutorial/modules.html\n",
    "\n",
    "We've alread used lots of modules\n",
    "* math\n",
    "* matplotlib\n",
    "\n",
    "They enable us to \n",
    "* reuse code between python programs and notebooks\n",
    "* share our code with others\n",
    "* modularize our software --- important\n",
    "\n",
    "Modularity is *very* important --- if we don't divide things up into bite-sized chunks complexity can overwhelm.\n",
    "\n",
    "Also, it is easier to share and reuse small things rather than big complicated things.\n",
    "\n",
    "Also, in Python testing is much easier and much more effective if done on small units (hence the name unit testing).\n",
    "\n",
    "To make a module we just need to \n",
    "* save the code we want to use in a file named `mymodule.py` (or whatever you want to call it), \n",
    "* put the file somewhere Python can find it (for now we will use the current directory)\n",
    "* import it\n",
    "\n",
    "Let's start with something simple ... write a function that prints \"Hello\""
   ]
  },
  {
   "cell_type": "code",
   "execution_count": 6,
   "metadata": {},
   "outputs": [
    {
     "name": "stdout",
     "output_type": "stream",
     "text": [
      "HELLO!!!!\n"
     ]
    }
   ],
   "source": [
    "def myhello():\n",
    "    print(\"HELLO!!!!\")\n",
    "\n",
    "myhello()"
   ]
  },
  {
   "cell_type": "code",
   "execution_count": null,
   "metadata": {},
   "outputs": [],
   "source": []
  },
  {
   "cell_type": "code",
   "execution_count": 3,
   "metadata": {},
   "outputs": [
    {
     "name": "stdout",
     "output_type": "stream",
     "text": [
      "Overwriting myhello.py\n"
     ]
    }
   ],
   "source": [
    "%%writefile myhello.py\n",
    "'''\\\n",
    "This is an example code. It contains the following functions:\n",
    "\n",
    "myhello: print out a hello message\n",
    "...\n",
    "'''\n",
    "\n",
    "\n",
    "def myhello():\n",
    "    '''\\\n",
    "    This is a hello-world function.\n",
    "\n",
    "    alklhjasg;kh\n",
    "\n",
    "    No parameters\n",
    "    '''\n",
    "    print(\"HELLO!\")\n",
    "\n",
    "if __name__ == \"__main__\":\n",
    "    myhello()\n"
   ]
  },
  {
   "cell_type": "code",
   "execution_count": 32,
   "metadata": {},
   "outputs": [
    {
     "name": "stdout",
     "output_type": "stream",
     "text": [
      "HELLOXXXXXXXX!!!!\n"
     ]
    }
   ],
   "source": [
    "import myhello\n",
    "myhello.myhello()"
   ]
  },
  {
   "cell_type": "code",
   "execution_count": 17,
   "metadata": {},
   "outputs": [
    {
     "name": "stdout",
     "output_type": "stream",
     "text": [
      "0.9854497299884601\n"
     ]
    }
   ],
   "source": [
    "import test_math"
   ]
  },
  {
   "cell_type": "markdown",
   "metadata": {},
   "source": [
    "Once you are happy your code is working we need to save it into a file --- for this we need a file editor\n",
    "* The jupyter notebook file *used* to have a builtin text editor\n",
    "  - From the `New` drop down menu you used to be able to select `Text file`.\n",
    "* You can also use the jupyter note book itself to load and edit files\n",
    "  - In a cell on its own execute `%load filename` --- then you can edit the file contents in that cell\n",
    "  - To save a cell into a file execute it with `%%writefile filename` as the first line in the cell \n",
    "* Or you can use your favorite other editor or an integrated development environment such as Microsoft Visual Studio\n",
    "  - but you **CANNOT** use a word processor unless you very careully save it as a text file.  It must be a plain text file.\n",
    "\n",
    "Paste in your working function\n",
    "* change the name of the file to be `myhello.py`\n",
    "  * it should automatically select Python as the language for the file\n",
    "  * there is already a module called `hello` so you must pick another name\n",
    "* change the message slightly so you can be sure you are using your saved version\n",
    "* save the file\n",
    "\n",
    "Now try to import it and run the provided hello function"
   ]
  },
  {
   "cell_type": "code",
   "execution_count": 1,
   "metadata": {},
   "outputs": [],
   "source": [
    "import myhello"
   ]
  },
  {
   "cell_type": "code",
   "execution_count": 2,
   "metadata": {},
   "outputs": [
    {
     "name": "stdout",
     "output_type": "stream",
     "text": [
      "HELLOXXXXXXXX!!!!\n"
     ]
    }
   ],
   "source": [
    "myhello.myhello()"
   ]
  },
  {
   "cell_type": "markdown",
   "metadata": {},
   "source": [
    "Mmmm ... we did not really want it to print all that stuff ... we just wanted the `hello` function to be defined.\n",
    "\n",
    "On the other hand it is convenient to keep some test code at the bottom of the module so you can quickly test things are working.\n",
    "\n",
    "When a module is imported what is actually happening is that the code in the file is executed and the resulting symbols imported into the namespace defined by the import statement ... for our module this is `myhello`.\n",
    "\n",
    "The name of that namespace is stored in `__name__`\n",
    "\n",
    "In the notebook what is this value?"
   ]
  },
  {
   "cell_type": "code",
   "execution_count": null,
   "metadata": {},
   "outputs": [],
   "source": [
    "__name__"
   ]
  },
  {
   "cell_type": "code",
   "execution_count": null,
   "metadata": {},
   "outputs": [],
   "source": []
  },
  {
   "cell_type": "markdown",
   "metadata": {},
   "source": [
    "Change the module to print out the name (edit, save, import the module again)"
   ]
  },
  {
   "cell_type": "code",
   "execution_count": null,
   "metadata": {},
   "outputs": [],
   "source": []
  },
  {
   "cell_type": "code",
   "execution_count": null,
   "metadata": {},
   "outputs": [],
   "source": []
  },
  {
   "cell_type": "markdown",
   "metadata": {},
   "source": [
    "Err???????   Nothing printed ... why?\n",
    "\n",
    "Modules are only ever imported once for efficiency (and also because many modules just cannot be imported twice).\n",
    "\n",
    "A second import statement is just ignored.\n",
    "\n",
    "To reimport a module we have to restart the kernel.  Do that and try again."
   ]
  },
  {
   "cell_type": "code",
   "execution_count": null,
   "metadata": {},
   "outputs": [],
   "source": []
  },
  {
   "cell_type": "code",
   "execution_count": null,
   "metadata": {},
   "outputs": [],
   "source": []
  },
  {
   "cell_type": "markdown",
   "metadata": {},
   "source": [
    "So can u figure out how to make the fix?\n",
    "\n",
    "If we are in the main program we want to run the print code (and any other tests for the module).  But if we are not then we just want to define the function(s) and anything else the module wants to share.\n",
    "\n",
    "```\n",
    "if __name__ == \"__main__\":\n",
    "   print(\"testing ...\")\n",
    "   dotests()\n",
    "   etc.\n",
    "\n",
    "```\n",
    "\n",
    "Edit the file, save, restart kernel, reimport, try it out"
   ]
  },
  {
   "cell_type": "code",
   "execution_count": null,
   "metadata": {},
   "outputs": [],
   "source": []
  },
  {
   "cell_type": "code",
   "execution_count": null,
   "metadata": {},
   "outputs": [],
   "source": []
  },
  {
   "cell_type": "markdown",
   "metadata": {},
   "source": [
    "We've already seen you can look at what's inside a module using `dir` --- look inside `myhello`"
   ]
  },
  {
   "cell_type": "code",
   "execution_count": null,
   "metadata": {},
   "outputs": [],
   "source": []
  },
  {
   "cell_type": "code",
   "execution_count": 19,
   "metadata": {},
   "outputs": [
    {
     "data": {
      "text/plain": [
       "['__builtins__',\n",
       " '__cached__',\n",
       " '__doc__',\n",
       " '__file__',\n",
       " '__loader__',\n",
       " '__name__',\n",
       " '__package__',\n",
       " '__spec__',\n",
       " 'myhello']"
      ]
     },
     "execution_count": 19,
     "metadata": {},
     "output_type": "execute_result"
    }
   ],
   "source": [
    "dir(myhello)"
   ]
  },
  {
   "cell_type": "code",
   "execution_count": 34,
   "metadata": {},
   "outputs": [
    {
     "data": {
      "text/plain": [
       "'/Users/jiao/Library/CloudStorage/GoogleDrive-xiangmin.jiao@stonybrook.edu/My Drive/Teaching/AMS561-Jim/2025/Notebooks/myhello.py'"
      ]
     },
     "execution_count": 34,
     "metadata": {},
     "output_type": "execute_result"
    }
   ],
   "source": [
    "myhello.__file__"
   ]
  },
  {
   "cell_type": "markdown",
   "metadata": {},
   "source": [
    "Mmmm ... there's a doc string ... let's define it by putting a string at the very top of the file\n",
    "\n",
    "Edit the file, save, restart kernel, reimport, try it out ... got the idea yet?\n",
    "\n",
    "Use `help` or `?` to look at your docstring in action"
   ]
  },
  {
   "cell_type": "code",
   "execution_count": 1,
   "metadata": {},
   "outputs": [
    {
     "name": "stdout",
     "output_type": "stream",
     "text": [
      "Help on module myhello:\n",
      "\n",
      "NAME\n",
      "    myhello - This is an example code. It contains the following functions:\n",
      "\n",
      "DESCRIPTION\n",
      "    myhello: print out a hello message\n",
      "    ...\n",
      "\n",
      "FUNCTIONS\n",
      "    myhello()\n",
      "        This is a hello-world function.\n",
      "\n",
      "        alklhjasg;kh\n",
      "\n",
      "        No parameters\n",
      "\n",
      "FILE\n",
      "    /Users/jiao/Library/CloudStorage/GoogleDrive-xiangmin.jiao@stonybrook.edu/My Drive/Teaching/AMS561-Jim/2025/Notebooks/myhello.py\n",
      "\n",
      "\n"
     ]
    }
   ],
   "source": [
    "import myhello\n",
    "help(myhello)"
   ]
  },
  {
   "cell_type": "code",
   "execution_count": 3,
   "metadata": {},
   "outputs": [
    {
     "name": "stdout",
     "output_type": "stream",
     "text": [
      "HELLO!\n"
     ]
    }
   ],
   "source": [
    "myhello.myhello()"
   ]
  },
  {
   "cell_type": "markdown",
   "metadata": {},
   "source": [
    "Now let's try running the module as a standalone Python program ... for that we need to launch a python terminal (also called console or command window).\n",
    "* In the jupyter notebook file browser window from the `New` drop down menu select `Terminal`\n",
    "\n",
    "Alternatively\n",
    "* On Windows --- from the Anaconda installation folder open `Anaconda Prompt`\n",
    "  * You are now \"talking\" to windows via the command line\n",
    "  * Use `chdir` to change directory (aka folder) to where your notebook (and `myhello.py`) is stored\n",
    "* On Mac or Linux --- start a terminal and change directory (using `cd`) as necessary\n",
    "\n",
    "Now run your standalone Python script with `python myhello.py`\n",
    "\n",
    "You should get output similar to\n",
    "```\n",
    "Hello\n",
    "XXXXXXXXXXXX\n",
    "__name__ = __main__\n",
    "```"
   ]
  },
  {
   "cell_type": "code",
   "execution_count": 5,
   "metadata": {},
   "outputs": [
    {
     "name": "stdout",
     "output_type": "stream",
     "text": [
      "HELLO!\n"
     ]
    }
   ],
   "source": [
    "!python myhello.py"
   ]
  },
  {
   "cell_type": "code",
   "execution_count": null,
   "metadata": {},
   "outputs": [],
   "source": []
  }
 ],
 "metadata": {
  "kernelspec": {
   "display_name": "Python [conda env:base] *",
   "language": "python",
   "name": "conda-base-py"
  },
  "language_info": {
   "codemirror_mode": {
    "name": "ipython",
    "version": 3
   },
   "file_extension": ".py",
   "mimetype": "text/x-python",
   "name": "python",
   "nbconvert_exporter": "python",
   "pygments_lexer": "ipython3",
   "version": "3.12.2"
  }
 },
 "nbformat": 4,
 "nbformat_minor": 4
}
