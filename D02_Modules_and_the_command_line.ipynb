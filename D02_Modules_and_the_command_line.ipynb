{
 "cells": [
  {
   "cell_type": "markdown",
   "metadata": {},
   "source": [
    "# A brief introduction to modules in Python\n",
    "\n",
    "https://docs.python.org/3/tutorial/modules.html\n",
    "\n",
    "We've already used lots of modules\n",
    "\n",
    "- math\n",
    "- pandas\n",
    "- matplotlib\n",
    "\n",
    "They enable us to\n",
    "\n",
    "- reuse code between python programs and notebooks\n",
    "- share our code with others\n",
    "- modularize our software --- important\n",
    "\n",
    "Modularity is _very_ important --- if we don't divide things up into bite-sized chunks complexity can overwhelm.\n",
    "\n",
    "Also, it is easier to share and reuse small things rather than big complicated things.\n",
    "\n",
    "Also, in Python testing is much easier and much more effective if done on small units (hence the name unit testing).\n",
    "\n",
    "To make a module we just need to\n",
    "\n",
    "- save the code we want to use in a file named `myhello_1.py` (or whatever you want to call it),\n",
    "- put the file somewhere Python can find it (for now we will use the current directory)\n",
    "- import it\n",
    "\n",
    "Let's start with something simple ... write a function that prints \"Hello\"\n"
   ]
  },
  {
   "cell_type": "code",
   "execution_count": null,
   "metadata": {},
   "outputs": [],
   "source": [
    "%%writefile myhello_1.py\n",
    "def hello():\n",
    "    print(\"Hello\")\n",
    "\n",
    "\n",
    "hello()\n",
    "print(\"XXXXXXXXXXXX\")"
   ]
  },
  {
   "cell_type": "markdown",
   "metadata": {},
   "source": [
    "Once you are happy your code is working we need to save it into a file --- for this we need a file editor\n",
    "\n",
    "- In the jupyter notebook file browser window from the `New` drop down menu select `Text file`.\n",
    "- Or you can use your favorite other editor ... but you **CANNOT** use a word processor. It must be a plain text file.\n",
    "\n",
    "Paste in your working function\n",
    "\n",
    "- change the name of the file to be `myhello.py`\n",
    "  - it should automatically select Python as the language for the file\n",
    "  - there is already a module called `hello` so you must pick another name\n",
    "- change the message slightly so you can be sure you are using your saved version\n",
    "- save the file\n",
    "\n",
    "Now try to import it and run the provided hello function\n"
   ]
  },
  {
   "cell_type": "code",
   "execution_count": null,
   "metadata": {},
   "outputs": [],
   "source": [
    "import myhello_1"
   ]
  },
  {
   "cell_type": "code",
   "execution_count": null,
   "metadata": {},
   "outputs": [],
   "source": [
    "myhello_1.hello()"
   ]
  },
  {
   "cell_type": "markdown",
   "metadata": {},
   "source": [
    "Mmmm ... we did not really want it to print all that stuff ... we just wanted the `hello` function to be defined.\n",
    "\n",
    "On the other hand it is convenient to keep some test code at the bottom of the module so you can quickly test things are working.\n",
    "\n",
    "When a module is imported what is actually happening is that the code in the file is executed and the resulting symbols imported into the namespace defined by the import statement ... for our module this is `myhello`.\n",
    "\n",
    "The name of that namespace is stored in `__name__`\n",
    "\n",
    "In the notebook what is this value?\n"
   ]
  },
  {
   "cell_type": "code",
   "execution_count": null,
   "metadata": {},
   "outputs": [],
   "source": [
    "%%writefile myhello_2.py\n",
    "def hello():\n",
    "    print(\"Hello\")\n",
    "\n",
    "\n",
    "if __name__ == \"__main__\":\n",
    "    hello()\n",
    "    print(\"XXXXXXXXXXXX\")"
   ]
  },
  {
   "cell_type": "markdown",
   "metadata": {},
   "source": [
    "Change the module to print out the name (edit, save, import the module again)\n"
   ]
  },
  {
   "cell_type": "code",
   "execution_count": null,
   "metadata": {},
   "outputs": [],
   "source": [
    "import myhello_2"
   ]
  },
  {
   "cell_type": "code",
   "execution_count": null,
   "metadata": {},
   "outputs": [],
   "source": [
    "myhello_2.hello()"
   ]
  },
  {
   "cell_type": "markdown",
   "metadata": {},
   "source": [
    "Err??????? Nothing printed ... why?\n",
    "\n",
    "Modules are only ever imported once for efficiency (and also because many modules just cannot be imported twice).\n",
    "\n",
    "A second import statement is just ignored.\n",
    "\n",
    "To reimport a module we have to restart the kernel. Do that and try again.\n"
   ]
  },
  {
   "cell_type": "code",
   "execution_count": null,
   "metadata": {},
   "outputs": [],
   "source": [
    "import myhello_1"
   ]
  },
  {
   "cell_type": "code",
   "execution_count": null,
   "metadata": {},
   "outputs": [],
   "source": [
    "myhello_1.hello()"
   ]
  },
  {
   "cell_type": "markdown",
   "metadata": {},
   "source": [
    "So can u figure out how to make the fix?\n",
    "\n",
    "If we are in the main program we want to run the print code (and any other tests for the module). But if we are not then we just want to define the function(s) and anything else the module wants to share.\n",
    "\n",
    "```\n",
    "if __name__ == \"__main__\":\n",
    "   print(\"testing ...\")\n",
    "   dotests()\n",
    "   etc.\n",
    "\n",
    "```\n",
    "\n",
    "Edit the file, save, restart kernel, reimport, try it out\n"
   ]
  },
  {
   "cell_type": "code",
   "execution_count": null,
   "metadata": {},
   "outputs": [],
   "source": []
  },
  {
   "cell_type": "markdown",
   "metadata": {},
   "source": [
    "We've already seen you can look at what's inside a module using `dir` --- look inside `myhello`\n"
   ]
  },
  {
   "cell_type": "code",
   "execution_count": null,
   "metadata": {},
   "outputs": [],
   "source": [
    "import sys\n",
    "\n",
    "dir(sys)"
   ]
  },
  {
   "cell_type": "code",
   "execution_count": null,
   "metadata": {},
   "outputs": [],
   "source": [
    "dir(myhello_1)"
   ]
  },
  {
   "cell_type": "markdown",
   "metadata": {},
   "source": [
    "Mmmm ... there's a doc string ... let's define it by putting a string at the very top of the file\n",
    "\n",
    "Edit the file, save, restart kernel, reimport, try it out ... got the idea yet?\n",
    "\n",
    "Use `help` or `?` to look at your docstring in action\n"
   ]
  },
  {
   "cell_type": "code",
   "execution_count": null,
   "metadata": {},
   "outputs": [],
   "source": [
    "import myhello_1"
   ]
  },
  {
   "cell_type": "code",
   "execution_count": null,
   "metadata": {},
   "outputs": [],
   "source": [
    "help(myhello_1)"
   ]
  },
  {
   "cell_type": "markdown",
   "metadata": {},
   "source": [
    "Now let's try running the module as a standalone Python program ... for that we need to launch a python terminal (also called console or command window).\n",
    "\n",
    "- In the jupyter notebook file browser window from the `New` drop down menu select `Terminal`\n",
    "\n",
    "Alternatively\n",
    "\n",
    "- On Windows --- from the Anaconda installation folder open `Anaconda Prompt`\n",
    "  - You are now \"talking\" to windows via the command line\n",
    "  - Use `chdir` to change directory (aka folder) to where your notebook (and `myhello.py`) is stored\n",
    "- On Mac or Linux --- start a terminal and change directory (using `cd`) as necessary\n",
    "\n",
    "Now run your standalone Python script with `python myhello.py`\n",
    "\n",
    "You should get output similar to\n",
    "\n",
    "```\n",
    "Hello\n",
    "XXXXXXXXXXXX\n",
    "__name__ = __main__\n",
    "```\n"
   ]
  },
  {
   "cell_type": "code",
   "execution_count": null,
   "metadata": {},
   "outputs": [],
   "source": []
  },
  {
   "cell_type": "markdown",
   "metadata": {
    "collapsed": true
   },
   "source": [
    "Congratulations! You just escaped the Jupyter notebook.\n",
    "\n",
    "While the Jupyter notebook is very powerful for interactive data exploration, graphics, development, and learning, it is not suitable for most \"production\" computing tasks.\n",
    "\n",
    "- It is not readily automated (need to open in a browser and use your mouse)\n",
    "- It is hard to make it reproducible (too easy to hop around the note book and you cannot remember which cell was executed in which order)\n",
    "- It is hard to collaborate with others\n",
    "- It is not easy to run on remote machines (for which you usually only have command-line access)\n",
    "\n",
    "Stand alone Python programs (scripts) stored as files and organized into modules (and packages) are much more powerful.\n",
    "\n",
    "- Easily automated --- `python script.py` will run it\n",
    "- Fully reproducible --- same result every time unless you edit the program or change other data in files\n",
    "- Easily shared and collaborated on\n",
    "- Downsides are graphics and interactive programs become harder\n",
    "\n",
    "Pick the right tool for the right job.\n"
   ]
  },
  {
   "cell_type": "markdown",
   "metadata": {},
   "source": [
    "### Introduction to command line\n",
    "\n",
    "- Linux\n",
    "  - https://ubuntu.com/tutorials/command-line-for-beginners#1-overview\n",
    "  - https://www.linuxjournal.com/content/linux-command-line-interface-introduction-guide\n",
    "  - https://www.hostinger.com/tutorials/linux-commands\n",
    "- Macintosh\n",
    "  - Very similar to Linux\n",
    "  - https://macpaw.com/how-to/use-terminal-on-mac\n",
    "  - https://www.makeuseof.com/tag/mac-terminal-commands-cheat-sheet/\n",
    "- Windows\n",
    "  - Less common to use command line on windows but still useful.\n",
    "  - You can also install the [Linux subsystem for Windows](https://docs.microsoft.com/en-us/windows/wsl/about) which I recommend if you are serious about scientific computing\n",
    "  - https://www.makeuseof.com/tag/a-beginners-guide-to-the-windows-command-line/\n",
    "  - Reference --- https://docs.microsoft.com/en-us/windows-server/administration/windows-commands/windows-commands\n",
    "  - Terse --- https://www.cs.princeton.edu/courses/archive/spr05/cos126/cmd-prompt.html\n",
    "- Some of everything\n",
    "  - https://tutorial.djangogirls.org/en/intro_to_command_line/\n",
    "  - https://developer.mozilla.org/en-US/docs/Learn/Tools_and_testing/Understanding_client-side_tools/Command_line\n"
   ]
  },
  {
   "cell_type": "markdown",
   "metadata": {},
   "source": [
    "### Command line arguments from Python\n",
    "\n",
    "So far we can only run a Python script that does not take any arguments form the user --- but this is not very useful.\n",
    "\n",
    "We need to access the arguments provided on the command line.\n",
    "\n",
    "These are available through the `sys` module in data member `argv` (for argument vector).\n",
    "\n",
    "Paste the following code into a file called `testargs.py` and try running it in a terminal window using different numbers of arguments (e.g., `python testargs.py a b c d`).\n"
   ]
  },
  {
   "cell_type": "markdown",
   "metadata": {},
   "source": [
    " "
   ]
  },
  {
   "cell_type": "code",
   "execution_count": null,
   "metadata": {},
   "outputs": [],
   "source": [
    "import sys\n",
    "\n",
    "print(\"sys.argv =\", sys.argv)\n",
    "print()\n",
    "for index, arg in enumerate(sys.argv):\n",
    "    print(\"%2d  %s\" % (index, arg))\n",
    "print()\n",
    "print(\"sys.argv[1:] =\", sys.argv[1:])"
   ]
  },
  {
   "cell_type": "markdown",
   "metadata": {},
   "source": [
    "Got it figured out?\n",
    "\n",
    "The first argument is always the name of the Python script. Subsequent arguments are the ones provided by the user --- so we want to use `sys.argv[1:]`.\n",
    "\n",
    "Make a file containing a Python program that \"bakes\" a cake (using the below function) using a list of ingredients provided on the command line. E.g.,\n",
    "\n",
    "`python bakecake.py flour cheese cherries`\n"
   ]
  },
  {
   "cell_type": "code",
   "execution_count": null,
   "metadata": {},
   "outputs": [],
   "source": [
    "def bakecake(ingredients):\n",
    "    print(\"Here's a delicious cake that contains:\", *ingredients)"
   ]
  },
  {
   "cell_type": "code",
   "execution_count": null,
   "metadata": {},
   "outputs": [],
   "source": [
    "bakecake([\"flour\", \"cheese\", \"cherries\"])"
   ]
  },
  {
   "cell_type": "markdown",
   "metadata": {},
   "source": [
    "### Making a new command\n",
    "\n",
    "Having to type `python script.py [argument list]` is a bit clunky --- it would be nice to be able to just use the file name like any other command.\n",
    "\n",
    "**Linux and Macintosh** make this straightforward\n",
    "\n",
    "1. Name your file as you wish your command to be name (e.g., `bakecake` instead of `bakecake.py`)\n",
    "2. Insert the [shebang](https://scriptingosx.com/2017/10/on-the-shebang/) at the _very_ top of your file\n",
    "\n",
    "`#!/usr/bin/env python`\n",
    "\n",
    "3. Mark your program as executable\n",
    "\n",
    "`chmod 755 bakecake`\n",
    "\n",
    "4. Run your program\n",
    "\n",
    "`./bakecake flour cheese cherries`\n",
    "\n",
    "You have to use the `./` (meaning in the current directory) since for security reasons the system does not look for commands in the current directory.\n",
    "\n",
    "It is common to put frequently used scripts in a directory and put that directory in the list of directories used by the system to find commands --- this is the `PATH` environment variable. You can look at it as follows\n",
    "\n",
    "`echo $PATH`\n",
    "\n",
    "You will need the full path of the directory containing your command --- change into that directory and use the `pwd` (print working directory) command to get the full directory name.\n",
    "\n",
    "`export PATH=\"DIRECTORYNAME:$PATH\"`\n",
    "\n",
    "replacing `DIRECTORYNAME` with the full path of your directory. If you mess this up you may have to start a new terminal and try again.\n",
    "\n",
    "The command `which bakecake` will tell you if system can find your new command.\n",
    "\n",
    "If you want this to work in every new terminal (or shell) you need to put the `export` command into your `.bashrc` file in your home directory.\n",
    "\n",
    "**Windows** is harder. Indeed, you need to install a new Python module to build a \"fake\" executable from your Python script. Just once in each Anaconda environment (i.e., `not` in every terminal) you need to install `pyinstaller` using the following command (in a command-line terminal started within your Anaconda environment).\n",
    "\n",
    "`conda install pyinstaller`\n",
    "\n",
    "Then to make your script (`bakecake.py`) into an executable, do the following\n",
    "\n",
    "`pyinstaller --onefile bakecake.py`\n",
    "\n",
    "This will make two new directories `build` (which you can delete) and `dist` that will contain your command in a file named `bakecake.exe`. If you change into that directory you can run the command using just\n",
    "\n",
    "`bakecake flour cheese cherries`\n",
    "\n",
    "Setting environment variables is more complicated in Windows and more fraught with things that can go wrong, so I won't go over it while class is remote.\n"
   ]
  },
  {
   "cell_type": "markdown",
   "metadata": {},
   "source": [
    "## Importing Python modules from other directories\n",
    "\n",
    "Above we imported the custom `myhello` module into a Python script --- but this only worked because that module was in the same directory (or folder). If it is in a different directory, you need to tell Python where to look.\n",
    "\n",
    "Python maintains a list of directories where it looks for modules to import\n"
   ]
  },
  {
   "cell_type": "code",
   "execution_count": null,
   "metadata": {},
   "outputs": [],
   "source": [
    "print(sys.path)"
   ]
  },
  {
   "cell_type": "markdown",
   "metadata": {},
   "source": [
    "It's just a list. You can append the full path to the directory containing your module using the Python operation\n"
   ]
  },
  {
   "cell_type": "code",
   "execution_count": null,
   "metadata": {},
   "outputs": [],
   "source": [
    "sys.path.append(\"/home/username/mymodules\")  # Use your directory name"
   ]
  },
  {
   "cell_type": "code",
   "execution_count": null,
   "metadata": {},
   "outputs": [],
   "source": [
    "import myhello_2\n",
    "\n",
    "myhello_2.hello()"
   ]
  },
  {
   "cell_type": "markdown",
   "metadata": {},
   "source": [
    "After doing that you should be able to import Python modules from that directory no matter which directory your Python process is running in.\n",
    "\n",
    "**Linux and Macintosh** have an environment variable called `PYTHONPATH` that contains the list of directories used to initialize the `sys.path` list. If you append your variable to that, you don't need to modify your script.\n",
    "\n",
    "`export PYTHONPATH=/home/username/mymodules:$PYTHONPATH`\n",
    "\n",
    "[Change `/home/username/mymodules` to be the path (directory) that you want to use.]\n",
    "\n",
    "And to remember this for future terminals you can again put this into your `.bashrc` or `.bash_profile` file.\n",
    "\n",
    "**Windows** also has a `PYTHONPATH` environment variable but setting it depends on which version of windows you are running --- look online for instructions if you want to do this.\n",
    "\n",
    "- Be careful --- don't set environment variables you don't understand\n",
    "- Windows 10 --- https://docs.oracle.com/en/database/oracle/machine-learning/oml4r/1.5.1/oread/creating-and-modifying-environment-variables-on-windows.html\n",
    "- Windows 11 --- https://www.computerhope.com/issues/ch000549.htm\n"
   ]
  },
  {
   "cell_type": "markdown",
   "metadata": {},
   "source": [
    "## A command to make PDF plots from multiple files\n",
    "\n",
    "Write a command that given one or more files containing tables of data generates for each file a PDF file containing a plot of the data. I.e., a command like\n",
    "\n",
    "`python plot.py file1.txt file2.txt file3.txt`\n",
    "\n",
    "makes 3 files (`file1.txt.pdf`, `file2.txt.pdf` and `file3.txt.pdf`) containing the PDFs. In each file we assume that the first column contains the `x` (independent variable) and that the subsequent columns (1 or more) contains the `y` (dependent variables) values.\n",
    "\n",
    "We will use the Jupyter notebook to write and test all the bits and pieces --- the final step will be to assemble the tested components into the command script.\n",
    "\n",
    "First, let's make some dummy data in files `file1.txt`, `file2.txt` and `file3.txt`. Each can have different numbers of columns.\n"
   ]
  },
  {
   "cell_type": "code",
   "execution_count": null,
   "metadata": {},
   "outputs": [],
   "source": [
    "import numpy as np\n",
    "\n",
    "xlo = 0  # so that each plot is different\n",
    "for filename in [\"file1.txt\", \"file2.txt\", \"file3.txt\"]:\n",
    "    x = np.linspace(xlo, xlo + 10, 20)\n",
    "    y1 = x\n",
    "    y2 = x * x\n",
    "    with open(filename, \"w\") as file:\n",
    "        for data in zip(x, y1, y2):\n",
    "            file.write(\"%.4f %.4f %.4f\\n\" % data)\n",
    "    xlo += 2"
   ]
  },
  {
   "cell_type": "markdown",
   "metadata": {},
   "source": [
    "Now let's make and test a function that plots the data in a single file\n"
   ]
  },
  {
   "cell_type": "code",
   "execution_count": null,
   "metadata": {},
   "outputs": [],
   "source": [
    "import matplotlib.pyplot as plt\n",
    "%matplotlib inline\n",
    "def plotfile(filename):\n",
    "    colors = [\"k\",\"r\",\"b\",\"g\",\"y\"]\n",
    "    data = np.loadtxt(filename)\n",
    "    nrow, ncol = data.shape\n",
    "    for ycol in range(1,ncol):\n",
    "        plt.plot(data[:,0],data[:,ycol],colors[ycol-1])\n",
    "\n",
    "plotfile(\"file3.txt\")"
   ]
  },
  {
   "cell_type": "markdown",
   "metadata": {},
   "source": [
    "Now it is working, modify it to save a PDF\n"
   ]
  },
  {
   "cell_type": "code",
   "execution_count": null,
   "metadata": {},
   "outputs": [],
   "source": [
    "def plotfile(filename):\n",
    "    colors = [\"k\", \"r\", \"b\", \"g\", \"y\"]\n",
    "    data = np.loadtxt(filename)\n",
    "    nrow, ncol = data.shape\n",
    "    figure = plt.figure()  # must be BEFORE the plotting commands\n",
    "    for ycol in range(1, ncol):\n",
    "        plt.plot(data[:, 0], data[:, ycol], colors[ycol - 1])\n",
    "    figure.savefig(filename + \".pdf\", bbox_inches=\"tight\")\n",
    "\n",
    "\n",
    "plotfile(\"file3.txt\")"
   ]
  },
  {
   "cell_type": "markdown",
   "metadata": {},
   "source": [
    "OK ... that's the hard bit done. Now assemble the script by pasting the above tested fragments of code and inserting a loop over command line arguments.\n",
    "\n",
    "The below code will NOT execute correctly in the notebook --- it needs to be put into a standalone Python script and run with the command\n",
    "\n",
    "`python plotfiles.py file1.txt file2.txt file3.txt`\n"
   ]
  },
  {
   "cell_type": "code",
   "execution_count": null,
   "metadata": {},
   "outputs": [],
   "source": [
    "%%writefile plotfiles.py\n",
    "#!/usr/bin/env python3\n",
    "\n",
    "import sys\n",
    "import numpy as np\n",
    "import matplotlib.pyplot as plt\n",
    "\n",
    "\n",
    "def plotfile(filename):\n",
    "    colors = [\"k\", \"r\", \"b\", \"g\", \"y\"]\n",
    "    data = np.loadtxt(filename)\n",
    "    nrow, ncol = data.shape\n",
    "    figure = plt.figure()\n",
    "    for ycol in range(1, ncol):\n",
    "        plt.plot(data[:, 0], data[:, ycol], colors[ycol - 1])\n",
    "    figure.savefig(filename + \".pdf\", bbox_inches=\"tight\")\n",
    "\n",
    "\n",
    "for filename in sys.argv[1:]:\n",
    "    plotfile(filename)"
   ]
  }
 ],
 "metadata": {
  "kernelspec": {
   "display_name": "base",
   "language": "python",
   "name": "python3"
  },
  "language_info": {
   "codemirror_mode": {
    "name": "ipython",
    "version": 3
   },
   "file_extension": ".py",
   "mimetype": "text/x-python",
   "name": "python",
   "nbconvert_exporter": "python",
   "pygments_lexer": "ipython3",
   "version": "3.12.7"
  }
 },
 "nbformat": 4,
 "nbformat_minor": 2
}
