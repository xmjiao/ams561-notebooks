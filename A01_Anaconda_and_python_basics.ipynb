{
 "cells": [
  {
   "cell_type": "markdown",
   "metadata": {},
   "source": [
    "# An introduction to Data and Computing for Scientists and Engineers\n",
    "\n",
    "## Outline:\n",
    "* Objectives and big picture \n",
    "* Introductions\n",
    "* Overall syllabus and schedule\n",
    "* Grading - homeworks and projects\n",
    "* Next three weeks --- Python in the Jupyter notebook using Anaconda\n",
    "\n",
    "## Heads up\n",
    "Please be sure to use all of the class resources available\n",
    "* We've tried to schedule the instructor/TA office hours to cover multiple days and hours, and failing that you can make an appointment with any of us, or email us directly.\n",
    "* Use the Brightspace discussion group liberally, and don't be shy about either asking or answering questions.\n",
    "\n",
    "Learning to program for the first time can (and should) be lots of fun, but it can also be pretty intense. You are literally learning a new language and a new way of algorithmic thinking (though, apparently, when programming you [don't use the same parts of your brain](https://news.mit.edu/2020/brain-reading-computer-code-1215) as you use for human language).\n",
    "\n",
    "If you are finding keeping up in class or keeping up with the homework is taking more time than you think is reasonable please reach out to us.  Everyone progresses at a different pace and the point of this class is to enable you to employ Python and associated tools in your own research and future career, so it's worth taking our time. \n",
    "\n",
    "\n",
    "## Class materials:\n",
    "* All class materials including assignments, grades etc. will be in [Brightspace](https://mycourses.stonybrook.edu/d2l/home).\n",
    "\n",
    "\n",
    "## For the next three weeks, as we learn and start to use Python, you **need** to be \n",
    "* reading ahead\n",
    "* playing/practicing with code\n",
    "* reading the documentation\n",
    "* exploring online resources\n",
    "* interacting with each other (team programming is fun)\n",
    "* asking lots of questions in class, in office hours, on the discusison board, and of each other\n",
    "\n",
    "## Installing Anaconda\n",
    "\n",
    "* Go to the [Anaconda download page](https://www.anaconda.com/products/individual)\n",
    "  * The right version for your operating system should be automatically selected.\n",
    "  * You do not need to sign in or make an account (unless you want to)\n",
    "* Download and then install it for personal use (not shared) --- you should **not** need administrator (or root) access\n",
    "  * More detail on installation is [here](https://docs.anaconda.com/anaconda/install/)\n",
    "* Make a new folder (somewhere sensible you can find again!) to hold your notebooks\n",
    "\n",
    "\n",
    "We will be using the Jupyter notebook for most of class, but there are lots and lots of other things that Anacoda provides.  To see (nearly) everything, start Anacoda Navigator\n",
    "  * [Getting started instructions](http://docs.anaconda.com/anaconda/user-guide/getting-started/)\n",
    "\n",
    "You can start the notebook from within the navigator, but you can also start it more directly\n",
    "* Under Linux or MacOS, open a terminal, change into the folder (or a parent of it) with your notebooks, then type the command `jupyter notebook`\n",
    "* Under Windows, under the `Start` menu follow `All programs`, `Anaconda (32 or 64 bit)`, `Jupyter Notebook`\n",
    "\n",
    "## Python Documentation\n",
    "\n",
    "* Anaconda Navigator now provides nearly all the documentation you need under its `Learning` tab, but it is valuable to find the resources you need more directly.\n",
    "* https://docs.python.org/3/index.html\n",
    "* Key documents are the \n",
    "  * Tutorial: https://docs.python.org/3/tutorial/\n",
    "  * Language reference: https://docs.python.org/3/reference/index.html\n",
    "  * Library reference: https://docs.python.org/3/library/index.html\n",
    "\n",
    "## Beginning the python tutorial\n",
    "\n",
    "\n",
    "Go to https://docs.python.org/3/tutorial/\n",
    "\n",
    "We will start at section 3 and will use the below to augment the presentation in the tutorial."
   ]
  },
  {
   "cell_type": "code",
   "execution_count": null,
   "metadata": {},
   "outputs": [],
   "source": [
    "print('Hello world!')"
   ]
  },
  {
   "cell_type": "markdown",
   "metadata": {},
   "source": [
    "Explore printing *'Hello world!'* and other things in different ways"
   ]
  },
  {
   "cell_type": "code",
   "execution_count": null,
   "metadata": {},
   "outputs": [],
   "source": [
    "from math import *"
   ]
  },
  {
   "cell_type": "code",
   "execution_count": null,
   "metadata": {},
   "outputs": [],
   "source": [
    "# This is a comment"
   ]
  },
  {
   "cell_type": "markdown",
   "metadata": {},
   "source": [
    "Explore using Python as a simple calculator, and comments"
   ]
  },
  {
   "cell_type": "code",
   "execution_count": null,
   "metadata": {},
   "outputs": [],
   "source": [
    "sin(2.1)"
   ]
  },
  {
   "cell_type": "markdown",
   "metadata": {},
   "source": [
    "Creating, saving, renaming and reverting notebooks\n",
    "\n",
    "?, help function, tab word completion\n",
    "\n",
    "Numerical data types: integers and floats (also complex, decimal, rational, ...)\n",
    "\n",
    "Builtin `type` function"
   ]
  },
  {
   "cell_type": "code",
   "execution_count": null,
   "metadata": {},
   "outputs": [],
   "source": [
    "type(123131321343444444424242664236432462626246)"
   ]
  },
  {
   "cell_type": "markdown",
   "metadata": {},
   "source": [
    "### Variables --- names you associate with values you want to remember for future use\n",
    "\n",
    "simple examples for you to code (from https://www.programiz.com/python-programming/examples)\n",
    "\n",
    "* area of a triangle (`base*height/2`)\n",
    "* area (`pi*r*r`) and circumference (`2*pi*r`) of a circle\n",
    "* convert units `celsius = (fahrenheit - 32)/1.8` or  `f = c*1.8+32`\n",
    "* what happens when you refer to a variable that does not exist\n",
    "  - what might be common causes of this?\n",
    "* what happens when you do `1/0`?  or `1.0/0.0` or `10.0**1000.0`?\n",
    "* what happens when you do `10**1000`?"
   ]
  },
  {
   "cell_type": "code",
   "execution_count": null,
   "metadata": {},
   "outputs": [],
   "source": [
    "0.0/0."
   ]
  },
  {
   "cell_type": "code",
   "execution_count": null,
   "metadata": {},
   "outputs": [],
   "source": [
    "base = 2\n",
    "height = 2.11\n",
    "area = base*height / 2\n",
    "print(area)"
   ]
  },
  {
   "cell_type": "code",
   "execution_count": null,
   "metadata": {},
   "outputs": [],
   "source": [
    "area"
   ]
  },
  {
   "cell_type": "code",
   "execution_count": null,
   "metadata": {},
   "outputs": [],
   "source": [
    "10.0**1000"
   ]
  },
  {
   "cell_type": "code",
   "execution_count": null,
   "metadata": {},
   "outputs": [],
   "source": [
    "import math\n",
    "math.sqrt(-1)"
   ]
  },
  {
   "cell_type": "markdown",
   "metadata": {},
   "source": [
    "## Operators,  precedence, and order of evaluation:\n",
    "\n",
    "What operations are there?  Go look in the language reference:\n",
    "* if you haven't bookmarked the link just google for python language reference, select 6.5 power operator, also relevant 6.6 thru 6.11)\n",
    "* evaluation order and operator precedence discussed in 6.16 and 6.17 , respectively\n",
    "\n",
    "Examples:\n",
    "\n",
    "* with $x=3$ evaluating $2 + 3 x^2 + 5 x^5$  using `**` for exponentiation (raising to a power)\n",
    "* manually computing min, max, and mean 3 numbers (1.0, 1.5, 2.3)\n",
    "* evaluate `-1.0**0.5`, `-(1.0**0.5), and `(-1.0)**0.5`\n",
    "   "
   ]
  },
  {
   "cell_type": "code",
   "execution_count": 9,
   "metadata": {},
   "outputs": [
    {
     "data": {
      "text/plain": [
       "1244"
      ]
     },
     "execution_count": 9,
     "metadata": {},
     "output_type": "execute_result"
    }
   ],
   "source": [
    "x = 3\n",
    "2 + 3 * x**2 + 5 * x**5\n"
   ]
  },
  {
   "cell_type": "code",
   "execution_count": 11,
   "metadata": {},
   "outputs": [
    {
     "data": {
      "text/plain": [
       "120"
      ]
     },
     "execution_count": 11,
     "metadata": {},
     "output_type": "execute_result"
    }
   ],
   "source": [
    "(5+7)*10"
   ]
  },
  {
   "cell_type": "code",
   "execution_count": null,
   "metadata": {},
   "outputs": [],
   "source": []
  },
  {
   "cell_type": "markdown",
   "metadata": {},
   "source": [
    "## Strings --- interacting with data and humans!\n",
    "* where to find documentation about strings?  It is in the standard library reference under text sequence type. Go look!\n",
    "* how to specify a string? `\"\"`, `''`, `\"\"\" \"\"\"`, `''' '''`, quoting, raw\n",
    "* printing using `print`\n",
    "\n",
    "Operators on strings\n",
    "* `+` and `*` operators on strings\n",
    "* string formatting (or interpolation) using `%`\n",
    "\n",
    "Examples:\n",
    "* given a variable `name` (that presumably contains someone's name)\n",
    "    write 2 (or more) ways to print out `\"The winner is <name>!\"` (with the actual name inserted where `<name>` appears)\n",
    "* print `\"hello \"` 100 times"
   ]
  },
  {
   "cell_type": "code",
   "execution_count": 27,
   "metadata": {},
   "outputs": [
    {
     "name": "stdout",
     "output_type": "stream",
     "text": [
      "\tHello\n",
      "\tWorld\n",
      "\n"
     ]
    }
   ],
   "source": [
    "x = \"\"\"\\tHello\n",
    "\\tWorld\n",
    "\"\"\"\n",
    "print(x)"
   ]
  },
  {
   "cell_type": "code",
   "execution_count": 33,
   "metadata": {},
   "outputs": [
    {
     "data": {
      "text/plain": [
       "'Hello World'"
      ]
     },
     "execution_count": 33,
     "metadata": {},
     "output_type": "execute_result"
    }
   ],
   "source": [
    "\"Hello\" + \" \" + \"World\""
   ]
  },
  {
   "cell_type": "code",
   "execution_count": 35,
   "metadata": {},
   "outputs": [
    {
     "data": {
      "text/plain": [
       "'fred mary'"
      ]
     },
     "execution_count": 35,
     "metadata": {},
     "output_type": "execute_result"
    }
   ],
   "source": [
    "x = \"fred\"\n",
    "t = \"mary\"\n",
    "x + \" \" + t"
   ]
  },
  {
   "cell_type": "code",
   "execution_count": 39,
   "metadata": {},
   "outputs": [
    {
     "name": "stdout",
     "output_type": "stream",
     "text": [
      "Hello mary\n"
     ]
    }
   ],
   "source": [
    "print(f\"Hello {t}\")"
   ]
  },
  {
   "cell_type": "code",
   "execution_count": 41,
   "metadata": {},
   "outputs": [
    {
     "data": {
      "text/plain": [
       "'hello hello hello hello hello hello hello hello hello hello hello hello hello hello hello hello hello hello hello hello hello hello hello hello hello hello hello hello hello hello hello hello hello hello hello hello hello hello hello hello hello hello hello hello hello hello hello hello hello hello hello hello hello hello hello hello hello hello hello hello hello hello hello hello hello hello hello hello hello hello hello hello hello hello hello hello hello hello hello hello hello hello hello hello hello hello hello hello hello hello hello hello hello hello hello hello hello hello hello hello '"
      ]
     },
     "execution_count": 41,
     "metadata": {},
     "output_type": "execute_result"
    }
   ],
   "source": [
    "\"hello \" * 100"
   ]
  },
  {
   "cell_type": "code",
   "execution_count": 53,
   "metadata": {},
   "outputs": [
    {
     "name": "stdout",
     "output_type": "stream",
     "text": [
      "\\tHello\\n\\tWorld\n"
     ]
    }
   ],
   "source": [
    "print(r'\\tHello\\n\\tWorld')"
   ]
  },
  {
   "cell_type": "code",
   "execution_count": null,
   "metadata": {},
   "outputs": [],
   "source": []
  },
  {
   "cell_type": "code",
   "execution_count": null,
   "metadata": {},
   "outputs": [],
   "source": []
  },
  {
   "cell_type": "code",
   "execution_count": null,
   "metadata": {},
   "outputs": [],
   "source": []
  },
  {
   "cell_type": "code",
   "execution_count": null,
   "metadata": {},
   "outputs": [],
   "source": []
  },
  {
   "cell_type": "markdown",
   "metadata": {},
   "source": [
    "### Indexing and slicing into strings\n",
    "\n",
    "Examples:\n",
    "* set the variable `x` to `\"The winner is Mary Jennings!\"`\n",
    "* what is the value of `x[0]`?\n",
    "* what is the value of `x[5]`?\n",
    "* what is the value `x[27]`?\n",
    "* what about `x[-1]` or `x[-2]`?\n",
    "* what about `x[28]` or `x[1000]`?\n",
    "* print out the winner's initials\n",
    "* print out the winner's full name\n",
    "* print out the winner's full name reversed\n",
    "* How many characters are in the string?\n",
    "* What happens when you do `x[2]='a'`?\n",
    "  - strings are **immutable** --- you cannot change them --- you have to make a new string if you want to make a change\n",
    "* Using slices of `x` and the `+` operation make a new string with Fernando Perez as the winner instead of Mary Jennings\n",
    "  - Fernando is super cool and you are using something that he created!"
   ]
  },
  {
   "cell_type": "code",
   "execution_count": 95,
   "metadata": {},
   "outputs": [],
   "source": [
    "x = \"The winner is Mary Jennings!\""
   ]
  },
  {
   "cell_type": "code",
   "execution_count": 71,
   "metadata": {},
   "outputs": [
    {
     "data": {
      "text/plain": [
       "'!'"
      ]
     },
     "execution_count": 71,
     "metadata": {},
     "output_type": "execute_result"
    }
   ],
   "source": [
    "x[-1]"
   ]
  },
  {
   "cell_type": "code",
   "execution_count": 73,
   "metadata": {},
   "outputs": [
    {
     "data": {
      "text/plain": [
       "'s'"
      ]
     },
     "execution_count": 73,
     "metadata": {},
     "output_type": "execute_result"
    }
   ],
   "source": [
    "x[len(x)-2]"
   ]
  },
  {
   "cell_type": "code",
   "execution_count": 79,
   "metadata": {},
   "outputs": [
    {
     "data": {
      "text/plain": [
       "'wne'"
      ]
     },
     "execution_count": 79,
     "metadata": {},
     "output_type": "execute_result"
    }
   ],
   "source": [
    "x[4:10:2]"
   ]
  },
  {
   "cell_type": "code",
   "execution_count": 77,
   "metadata": {},
   "outputs": [
    {
     "data": {
      "text/plain": [
       "'sgninneJ yraM'"
      ]
     },
     "execution_count": 77,
     "metadata": {},
     "output_type": "execute_result"
    }
   ],
   "source": [
    "x[-2:13:-1]"
   ]
  },
  {
   "cell_type": "code",
   "execution_count": 85,
   "metadata": {},
   "outputs": [
    {
     "name": "stdout",
     "output_type": "stream",
     "text": [
      "the winner is Mary Jennings!\n"
     ]
    }
   ],
   "source": [
    "x = \"t\" + x[1:]\n",
    "print(x)"
   ]
  },
  {
   "cell_type": "code",
   "execution_count": 87,
   "metadata": {},
   "outputs": [],
   "source": [
    "y = 't' + x[1:]"
   ]
  },
  {
   "cell_type": "code",
   "execution_count": 97,
   "metadata": {},
   "outputs": [
    {
     "data": {
      "text/plain": [
       "'the winner is Mary Jennings!'"
      ]
     },
     "execution_count": 97,
     "metadata": {},
     "output_type": "execute_result"
    }
   ],
   "source": [
    "y"
   ]
  },
  {
   "cell_type": "code",
   "execution_count": 91,
   "metadata": {},
   "outputs": [
    {
     "data": {
      "text/plain": [
       "'the winner is Mary Jennings!'"
      ]
     },
     "execution_count": 91,
     "metadata": {},
     "output_type": "execute_result"
    }
   ],
   "source": [
    "x"
   ]
  },
  {
   "cell_type": "code",
   "execution_count": 99,
   "metadata": {},
   "outputs": [
    {
     "data": {
      "text/plain": [
       "'The winner is mary jennings!'"
      ]
     },
     "execution_count": 99,
     "metadata": {},
     "output_type": "execute_result"
    }
   ],
   "source": [
    "y.capitalize()"
   ]
  },
  {
   "cell_type": "code",
   "execution_count": 101,
   "metadata": {},
   "outputs": [
    {
     "name": "stdout",
     "output_type": "stream",
     "text": [
      "the winner is Mary Jennings!\n"
     ]
    }
   ],
   "source": [
    "print(y)"
   ]
  },
  {
   "cell_type": "code",
   "execution_count": 103,
   "metadata": {},
   "outputs": [
    {
     "data": {
      "text/plain": [
       "'The sum of 1 + 2 is 3 jdsakfjsakl fred dsjfjsakfl 99.38094839843902'"
      ]
     },
     "execution_count": 103,
     "metadata": {},
     "output_type": "execute_result"
    }
   ],
   "source": [
    "\"The sum of 1 + 2 is {2} jdsakfjsakl {1} dsjfjsakfl {0}\".format(99.38094839843902,\"fred\",1+2)"
   ]
  },
  {
   "cell_type": "code",
   "execution_count": 105,
   "metadata": {},
   "outputs": [
    {
     "data": {
      "text/plain": [
       "'The sum of 1 + 2 is 3 jdsakfjsakl fred dsjfjsakfl 99.38094839843902'"
      ]
     },
     "execution_count": 105,
     "metadata": {},
     "output_type": "execute_result"
    }
   ],
   "source": [
    "f\"The sum of 1 + 2 is {1+2} jdsakfjsakl {'fred'} dsjfjsakfl {99.38094839843902}\""
   ]
  },
  {
   "cell_type": "markdown",
   "metadata": {},
   "source": [
    "### Lists --- we need lists/arrays of data other than characters!\n",
    "\n",
    "* operations on a list --- a lot like strings --- indeed all sequences are very similar in Python by design\n",
    "* Where to find the documentation on strings, lists, etc.?   It is in the standard library reference under sequence types.  Go look!\n",
    "* Lists are **mutable** so that they can be efficiently grown and operated on (working with millions of things is easy and routine)\n",
    "\n",
    "Examples:\n",
    "* make a list with `'a'` in it 10 times\n",
    "* make a list with `'a'` in it 100 times --- lesson here!  U don't want to print big things!\n",
    "  - avoid printing in Juypyter (iPython) by assigning to a variable or appending a semicolon to the statement\n",
    "* assign to variable `y` a list with `'a'` in it 1,000,000 times \n",
    "  - you've finally done something you could not by hand!"
   ]
  },
  {
   "cell_type": "code",
   "execution_count": 169,
   "metadata": {},
   "outputs": [],
   "source": [
    "x = [3.14, \"fred\", 1, [1, 2, 3]]"
   ]
  },
  {
   "cell_type": "code",
   "execution_count": 171,
   "metadata": {},
   "outputs": [
    {
     "name": "stdout",
     "output_type": "stream",
     "text": [
      "[3.14, 'fred', 1, [1, 2, 3]]\n"
     ]
    }
   ],
   "source": [
    "print(x)"
   ]
  },
  {
   "cell_type": "code",
   "execution_count": 173,
   "metadata": {},
   "outputs": [],
   "source": [
    "y = x[1]"
   ]
  },
  {
   "cell_type": "code",
   "execution_count": 175,
   "metadata": {},
   "outputs": [],
   "source": [
    "x[1] = 88"
   ]
  },
  {
   "cell_type": "code",
   "execution_count": 177,
   "metadata": {},
   "outputs": [
    {
     "name": "stdout",
     "output_type": "stream",
     "text": [
      "[3.14, 88, 1, [1, 2, 3]]\n"
     ]
    }
   ],
   "source": [
    "print(x)"
   ]
  },
  {
   "cell_type": "code",
   "execution_count": 179,
   "metadata": {},
   "outputs": [],
   "source": [
    "x.append(99)"
   ]
  },
  {
   "cell_type": "code",
   "execution_count": 181,
   "metadata": {},
   "outputs": [
    {
     "data": {
      "text/plain": [
       "[3.14, 88, 1, [1, 2, 3], 99]"
      ]
     },
     "execution_count": 181,
     "metadata": {},
     "output_type": "execute_result"
    }
   ],
   "source": [
    "x"
   ]
  },
  {
   "cell_type": "code",
   "execution_count": 183,
   "metadata": {},
   "outputs": [],
   "source": [
    "y = [1,2,3,4]"
   ]
  },
  {
   "cell_type": "code",
   "execution_count": 185,
   "metadata": {},
   "outputs": [
    {
     "data": {
      "text/plain": [
       "[3.14, 88, 1, [1, 2, 3], 99, 1, 2, 3, 4]"
      ]
     },
     "execution_count": 185,
     "metadata": {},
     "output_type": "execute_result"
    }
   ],
   "source": [
    "x + y"
   ]
  },
  {
   "cell_type": "code",
   "execution_count": 187,
   "metadata": {},
   "outputs": [
    {
     "data": {
      "text/plain": [
       "[3.14, 88, 1, [1, 2, 3], 99]"
      ]
     },
     "execution_count": 187,
     "metadata": {},
     "output_type": "execute_result"
    }
   ],
   "source": [
    "x"
   ]
  },
  {
   "cell_type": "code",
   "execution_count": 189,
   "metadata": {},
   "outputs": [],
   "source": [
    "del x[2]"
   ]
  },
  {
   "cell_type": "code",
   "execution_count": 191,
   "metadata": {},
   "outputs": [
    {
     "name": "stdout",
     "output_type": "stream",
     "text": [
      "[3.14, 88, [1, 2, 3], 99]\n"
     ]
    }
   ],
   "source": [
    "print(x)"
   ]
  },
  {
   "cell_type": "markdown",
   "metadata": {},
   "source": [
    "### While loops simple example --- iteration and automation are central to programming\n",
    "\n",
    "Essence of a while loop: while not done keep working\n",
    "\n",
    "```\n",
    "    initialize the condition\n",
    "    while (the condition is true) do (work and update the condition)\n",
    "```\n",
    "\n",
    "Example:\n",
    "* print out all positive integers less than 7\n",
    "  - manual solution is `print(0,1,2,3,4,5,6)`\n",
    "  - but what if I had asked for integers less than 30,000 --- automation is essential\n",
    "  \n",
    "* do the above with a while loop --- logically we need to do the following\n",
    "```\n",
    "    set n to zero\n",
    "    while (n is less than 7) do (print n and add 1 to n)\n",
    "```\n",
    "Let's translate this into python:\n",
    "\n",
    "    (we will see much easier ways to do simple things like this, but\n",
    "    the point of this example is to understand iteration and associated\n",
    "    parts of Python)"
   ]
  },
  {
   "cell_type": "code",
   "execution_count": 135,
   "metadata": {},
   "outputs": [
    {
     "name": "stdout",
     "output_type": "stream",
     "text": [
      "0\t1\t2\t3\t4\t5\t6\t"
     ]
    }
   ],
   "source": [
    "n = 0\n",
    "while n < 7:\n",
    "    print(n, end='\\t')\n",
    "    n = n + 1\n"
   ]
  },
  {
   "cell_type": "code",
   "execution_count": null,
   "metadata": {},
   "outputs": [],
   "source": []
  },
  {
   "cell_type": "markdown",
   "metadata": {},
   "source": [
    "Key points:\n",
    "1. translate the natural-language statement of the problem (print numbers less than 7) into an algorithm\n",
    "2. translate the algorithm into Python code\n",
    "3. don't forget to initialize the condition\n",
    "4. logical test (and other tests)\n",
    "5. `:` is Python's way of indicating a compound statement\n",
    "6. indentation indicates scope\n",
    "7. don't forget to increment your counter!  What would happen if we did not?\n",
    "\n",
    "Examples:\n",
    "* print out all positive integers the square of which is less than 100\n",
    "* print out all positive integers n such that their sum is less than 100\n",
    "* the fibbonaci example from the tutorial\n",
    "\n"
   ]
  },
  {
   "cell_type": "code",
   "execution_count": 151,
   "metadata": {},
   "outputs": [
    {
     "name": "stdout",
     "output_type": "stream",
     "text": [
      "1 2 3 4 5 6 7 8 9 "
     ]
    }
   ],
   "source": [
    "n = 1\n",
    "while True:\n",
    "    if n * n >= 100:\n",
    "        break\n",
    "    print(n, end=' ')\n",
    "    n += 1"
   ]
  },
  {
   "cell_type": "code",
   "execution_count": 149,
   "metadata": {},
   "outputs": [
    {
     "data": {
      "text/plain": [
       "False"
      ]
     },
     "execution_count": 149,
     "metadata": {},
     "output_type": "execute_result"
    }
   ],
   "source": [
    "x = \"dsajlkfjsaklfsakjl\"\n",
    "\"kfx\" in x"
   ]
  },
  {
   "cell_type": "code",
   "execution_count": 159,
   "metadata": {},
   "outputs": [
    {
     "name": "stdout",
     "output_type": "stream",
     "text": [
      "0 0\n",
      "1 0\n",
      "2 1\n",
      "3 3\n",
      "4 6\n",
      "5 10\n",
      "6 15\n",
      "7 21\n",
      "8 28\n",
      "9 36\n",
      "10 45\n",
      "11 55\n",
      "12 66\n",
      "13 78\n",
      "14 91\n",
      "out of loop\n",
      "15 105\n"
     ]
    }
   ],
   "source": [
    "sum = 0\n",
    "n = 0\n",
    "while sum < 100:\n",
    "    print(n,sum)\n",
    "    sum = sum + n\n",
    "    n = n + 1\n",
    "print(\"out of loop\")\n",
    "print(n,sum)"
   ]
  },
  {
   "cell_type": "code",
   "execution_count": 163,
   "metadata": {},
   "outputs": [],
   "source": [
    "del sum"
   ]
  },
  {
   "cell_type": "code",
   "execution_count": 165,
   "metadata": {},
   "outputs": [
    {
     "data": {
      "text/plain": [
       "<function sum(iterable, /, start=0)>"
      ]
     },
     "execution_count": 165,
     "metadata": {},
     "output_type": "execute_result"
    }
   ],
   "source": [
    "sum"
   ]
  },
  {
   "cell_type": "markdown",
   "metadata": {},
   "source": [
    "### Reading before the next class\n",
    "\n",
    "* very briefly peek at and bookmark these three valuable resources to be sure you can find them since you will be referring extensively to them\n",
    "  - tutorial: https://docs.python.org/3/tutorial/index.html\n",
    "  - language reference: https://docs.python.org/3/reference/index.html#reference-index\n",
    "  - standard libary: https://docs.python.org/3/library/index.html\n",
    "\n",
    "* **actually explore** the notebook documentation under help\n",
    "  - you won't understand everything yet (most people never need to)\n",
    "  - do the \"User Interface Tour\" --- it's really short\n",
    "  - look at the \"Keyboard Shortcuts\"\n",
    "  - look at the \"Notebook Help\"\n",
    "  - look at http://jupyter.readthedocs.io/en/latest just to see what is there\n",
    "\n",
    "*  **actually read** jupyter notebook definitive guide https://www.datacamp.com/community/tutorials/tutorial-jupyter-notebook\n",
    "  \n",
    "* **review** tutorial section 3 (we just did this)\n",
    "\n",
    "* **actually read** tutorial section 4 (skip 4.8), section 5.1, and sections 8.1 (syntax errors) and 8.2 (exceptions)\n",
    "\n",
    "* **reading means** actually typing in and trying to understand at least some of the code examples --- we will go through examples in class and will focus on your questions and problems\n",
    "* very briefly explore one or two of these online resources --- you can come back to them in more detail later, as needed.\n",
    "  - http://python.org\n",
    "  - http://jupyter.readthedocs.io/en/latest\n",
    "  - http://www.datacamp.com\n",
    "  - http://python-textbok.readthedocs.io/en/1.0\n",
    "  - http://python.swaroopch.com\n",
    "  - http://learnpython.org\n",
    "  - http://www.tutorialspoint.com/python/index.htm\n",
    "  - http://anaconda.org/ijstokes/python4science/notebook\n",
    "  - http://thepythonguru.com/\n",
    "\n"
   ]
  },
  {
   "cell_type": "code",
   "execution_count": null,
   "metadata": {},
   "outputs": [],
   "source": []
  }
 ],
 "metadata": {
  "anaconda-cloud": {},
  "kernelspec": {
   "display_name": "Python [conda env:base] *",
   "language": "python",
   "name": "conda-base-py"
  },
  "language_info": {
   "codemirror_mode": {
    "name": "ipython",
    "version": 3
   },
   "file_extension": ".py",
   "mimetype": "text/x-python",
   "name": "python",
   "nbconvert_exporter": "python",
   "pygments_lexer": "ipython3",
   "version": "3.12.2"
  }
 },
 "nbformat": 4,
 "nbformat_minor": 4
}
