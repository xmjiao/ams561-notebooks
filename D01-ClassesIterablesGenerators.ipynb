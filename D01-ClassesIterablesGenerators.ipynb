{
 "cells": [
  {
   "cell_type": "markdown",
   "metadata": {},
   "source": [
    "# Classes, iterables, generators\n"
   ]
  },
  {
   "cell_type": "markdown",
   "metadata": {},
   "source": [
    "Documentation\n",
    "\n",
    "- Tutorial section - https://docs.python.org/3/tutorial/classes.html\n",
    "- Section 3.3 of - https://docs.python.org/3/reference/datamodel.html\n",
    "\n",
    "Useful tutorials\n",
    "\n",
    "- https://realpython.com/python3-object-oriented-programming/\n",
    "- https://www.tutorialspoint.com/python/python_classes_objects.htm (recommended)\n",
    "- https://www.datacamp.com/community/tutorials/python-oop-tutorial\n",
    "\n",
    "[Object-oriented programming](https://en.wikipedia.org/wiki/Object-oriented_programming) (or OOP) is an approach to programming (or programming paradigm) that composes a program through the interactions of objects that model the components of the system being described by the program.\n",
    "\n",
    "An object (i.e, an _instance_ of a class or type) can contain (or is said to have as members or attributes)\n",
    "\n",
    "- data\n",
    "- functions (often called methods) that can access and possibly modify the data.\n",
    "\n",
    "OOP aims to advance upon procedural paradigms by\n",
    "\n",
    "- Focusing your attention on higher-level design concepts\n",
    "- Data hiding --- restricting access to member data to member functions with the benefits\n",
    "  - less code can modify the data, and\n",
    "  - to encourage program design with clean boundaries between objects\n",
    "- New approaches to composing existing capabilities (e.g., inheritance, overriding, etc.) and the ability to create new data types that behave in desired manners\n",
    "\n",
    "In Python, everything is object oriented with a consistent API for common behaviors --- this is part of the magic of Python\n",
    "\n",
    "- If it walks like a duck, etc.\n",
    "\n",
    "We've already seen many Python types --- they are all classes\n"
   ]
  },
  {
   "cell_type": "code",
   "execution_count": null,
   "metadata": {},
   "outputs": [],
   "source": [
    "a = [1, 2, 4, 5]\n",
    "print(a[1])  #\n",
    "a.reverse()  # member function\n",
    "\n",
    "a"
   ]
  },
  {
   "cell_type": "code",
   "execution_count": null,
   "metadata": {},
   "outputs": [],
   "source": [
    "type(1)"
   ]
  },
  {
   "cell_type": "code",
   "execution_count": null,
   "metadata": {},
   "outputs": [],
   "source": [
    "type(a)"
   ]
  },
  {
   "cell_type": "markdown",
   "metadata": {},
   "source": [
    "In Python, new data types are defined with the `class` keyword which begins a compound statement, and objects are instances of a class.\n",
    "\n",
    "Immediately below we make a seemingly empty class ---\n"
   ]
  },
  {
   "cell_type": "code",
   "execution_count": null,
   "metadata": {},
   "outputs": [],
   "source": [
    "list()"
   ]
  },
  {
   "cell_type": "code",
   "execution_count": null,
   "metadata": {},
   "outputs": [],
   "source": [
    "class MyFirstClass:\n",
    "    '''MyFirstClass is a class that does nothing.'''\n",
    "    myData = 0\n",
    "    _myPrivateData = 0\n",
    "    pass\n",
    "\n",
    "\n",
    "mfc = MyFirstClass()\n",
    "type(mfc)"
   ]
  },
  {
   "cell_type": "code",
   "execution_count": null,
   "metadata": {},
   "outputs": [],
   "source": [
    "mfc.__doc__"
   ]
  },
  {
   "cell_type": "markdown",
   "metadata": {},
   "source": [
    "But you can see that we can already make an _instance_ of the class.\n",
    "\n",
    "Looking more closely, you can see that Python has quietly added members to the class for us --- these are all things that must exist in order for a class to be used in various settings. We will see below that we can change what these methods do to make instances of the class behave as we want (i.e., **override** their behavior).\n",
    "\n",
    "**By convention:**\n",
    "\n",
    "- names beginning and ending in double underscore are reserved for use by Python.\n",
    "- names beginning with a single underscore are private and should not be accessed directly as member attributes\n",
    "  - Python does not enforce data hiding --- but it is important to respect when using classes\n"
   ]
  },
  {
   "cell_type": "code",
   "execution_count": null,
   "metadata": {},
   "outputs": [],
   "source": [
    "dir(MyFirstClass)"
   ]
  },
  {
   "cell_type": "markdown",
   "metadata": {},
   "source": [
    "Doc strings can be added just as we have done previously\n"
   ]
  },
  {
   "cell_type": "code",
   "execution_count": null,
   "metadata": {},
   "outputs": [],
   "source": [
    "class MyFirstClass:\n",
    "    \"\"\"\n",
    "    My first class is not very useful\n",
    "    Something else\n",
    "    \"\"\"\n",
    "\n",
    "    pass\n",
    "\n",
    "\n",
    "help(MyFirstClass)"
   ]
  },
  {
   "cell_type": "markdown",
   "metadata": {},
   "source": [
    "As noted above, classes contain data and member functions that use or might modify the data.\n",
    "\n",
    "- In Python these are collectively called attributes.\n",
    "\n",
    "In Python, all you can do with an instance is access attributes.\n"
   ]
  },
  {
   "cell_type": "code",
   "execution_count": null,
   "metadata": {},
   "outputs": [],
   "source": [
    "a.reverse()"
   ]
  },
  {
   "cell_type": "code",
   "execution_count": null,
   "metadata": {},
   "outputs": [],
   "source": [
    "a[0]"
   ]
  },
  {
   "cell_type": "code",
   "execution_count": null,
   "metadata": {},
   "outputs": [],
   "source": [
    "dir(a)"
   ]
  },
  {
   "cell_type": "markdown",
   "metadata": {},
   "source": [
    "Python objects are _dynamic_ since we can add new attributes or members at runtime\n"
   ]
  },
  {
   "cell_type": "code",
   "execution_count": null,
   "metadata": {},
   "outputs": [],
   "source": [
    "# mfc.name"
   ]
  },
  {
   "cell_type": "code",
   "execution_count": null,
   "metadata": {},
   "outputs": [],
   "source": [
    "mfc.name = \"Fred\"\n",
    "print(\"The name is\", mfc.name)\n",
    "mfc.name += \"erick\"\n",
    "print(\"The name is\", mfc.name)\n",
    "dir(mfc)"
   ]
  },
  {
   "cell_type": "code",
   "execution_count": null,
   "metadata": {},
   "outputs": [],
   "source": [
    "dir(MyFirstClass)"
   ]
  },
  {
   "cell_type": "markdown",
   "metadata": {},
   "source": [
    "But this external modification or access of the state of an object is **not** usually good OOP design.\n",
    "\n",
    "Instead, when you make a new instance of a class the class should initialize its member variables and only class functions should operate on the state (i.e., the data) of the object.\n",
    "\n",
    "To do this you override the `__init__` method --- pass one or more arguments into the `__init__` method to initialize your data as required.\n",
    "\n",
    "Note the required first parameter (usually called `self`) that enables you to access the instance\n",
    "\n",
    "- **All** member functions that operate on instances require this first argument\n"
   ]
  },
  {
   "cell_type": "code",
   "execution_count": null,
   "metadata": {},
   "outputs": [],
   "source": [
    "# Do NOT do this in general\n",
    "class Record:\n",
    "    pass\n",
    "\n",
    "\n",
    "mary = Record()\n",
    "mary.name = \"Mary\"\n",
    "mary.address = \"jdsaklfjalks\"\n",
    "\n",
    "print(mary.name, mary.address)"
   ]
  },
  {
   "cell_type": "code",
   "execution_count": null,
   "metadata": {},
   "outputs": [],
   "source": [
    "class MySecondClass:\n",
    "    def __init__(self, newname, age):\n",
    "        self.name = newname\n",
    "        self.age = age\n",
    "\n",
    "    def __str__(self):\n",
    "        return f\"name={self.name} age={self.age}\"\n",
    "\n",
    "x = MySecondClass(\"Mary\", 10)\n",
    "y = MySecondClass(\"Alice\", 20)\n",
    "print(x.name, \",\", y.name)\n",
    "x.name = \"Alfred\"\n",
    "x.age = 99\n",
    "print(x.name, x.age)\n",
    "print(x, \"\\n\", y)"
   ]
  },
  {
   "cell_type": "code",
   "execution_count": null,
   "metadata": {},
   "outputs": [],
   "source": [
    "print(x)"
   ]
  },
  {
   "cell_type": "markdown",
   "metadata": {},
   "source": [
    "In the above, `name` is referred to as an _instance variable_ since each instance of the class has an independent variable.\n",
    "\n",
    "- Instance variables are accessed as attributes of an instance (e.g., `self.name` or `x.name` in the above)\n",
    "- The same is true for member functions that operate on instance data (i.e., bound member functions)\n",
    "\n",
    "There are also _class variables_ that are shared between all instances of the class.\n",
    "\n",
    "- Class variables are accessed as attributes of the class (e.g., `Counted.count`) in the below\n",
    "- The same is true for class functions.\n",
    "\n",
    "Here's an object that counts how many instance there are of that class. We also\n",
    "\n",
    "- introduce and override the method that deletes objects\n",
    "- add methods to print the count\n"
   ]
  },
  {
   "cell_type": "code",
   "execution_count": null,
   "metadata": {},
   "outputs": [],
   "source": [
    "class Counted:\n",
    "    count = 0\n",
    "\n",
    "    def __init__(self):\n",
    "        Counted.count += 1\n",
    "\n",
    "    def __del__(self):\n",
    "        Counted.count -= 1\n",
    "\n",
    "    def print_class_count(\n",
    "        string,\n",
    "    ):  # Note this is a class function (which are not commonly used)\n",
    "        print(string, \": the count is\", Counted.count)\n",
    "\n",
    "\n",
    "Counted.print_class_count(\"A\")\n",
    "x = [Counted() for i in range(10)]\n",
    "y = Counted()\n",
    "Counted.print_class_count(\"B\")\n",
    "del x\n",
    "Counted.print_class_count(\"C\")\n",
    "del y\n",
    "Counted.print_class_count(\"D\")"
   ]
  },
  {
   "cell_type": "markdown",
   "metadata": {},
   "source": [
    "To further illustrate the differences between class and instances variables and their interaction with scope\n",
    "\n",
    "- do you remember local, global, and builtin?\n"
   ]
  },
  {
   "cell_type": "code",
   "execution_count": null,
   "metadata": {},
   "outputs": [],
   "source": [
    "class Fred:\n",
    "    greeting = \"Hello, I am Fred.\"\n",
    "\n",
    "    def __init__(self, value):\n",
    "        self.value = value\n",
    "\n",
    "    def __str__(self):\n",
    "        return \"greeting='%s' and value=%s\" % (self.greeting, self.value)\n",
    "\n",
    "\n",
    "f = Fred(1)\n",
    "g = Fred(2)\n",
    "print(\"1.  f\", f)\n",
    "print(\"1.  g\", g)\n",
    "Fred.greeting = \"I don't feel well.\"  # Is Fred.greeting a class or instance variable?\n",
    "print(\"2.  f\", f)\n",
    "print(\"2.  g\", g)\n",
    "f.greeting = \"I feel great!\"  # Is f.greeting a class or instance variable?\n",
    "print(\"3.  f\", f)\n",
    "print(\"3.  g\", g)"
   ]
  },
  {
   "cell_type": "markdown",
   "metadata": {},
   "source": [
    "**Exercise::** illustrate use of classes with member data and functions\n",
    "\n",
    "Write and demonstrate an _immutable_ class for a point in 2D Cartesian space that supports\n",
    "\n",
    "- Documentation\n",
    "- Initialization - `__init__` (use two input values `x` and `y`)\n",
    "- Printing (string conversion) for human consumption - `__str__`\n",
    "- Accessing the values - add a `get` method\n",
    "- Printing for computer consumption - `__repr__`\n",
    "- Equality testing - `__eq__`\n",
    "- Computing distance from origin - add a `distance_from_origin` method\n",
    "- Provide methods to add (`__add__`) and subtract (`__sub__`) points\n",
    "- Scaling by a constant - `__mul__`\n",
    "  - What method should we use to make scaling mutable (i.e., modify in place)?\n",
    "- In Python how can we make members private or inaccessible?\n",
    "\n",
    "Write and demonstrate use of a function that takes two points as arguments and returns the distance between the points\n"
   ]
  },
  {
   "cell_type": "code",
   "execution_count": null,
   "metadata": {},
   "outputs": [],
   "source": [
    "import math\n",
    "\n",
    "\n",
    "class Point:\n",
    "    \"\"\"\n",
    "    An immutable point in 2D Cartesian space.\n",
    "\n",
    "    Attributes\n",
    "    ----------\n",
    "    _x : float or int\n",
    "        The x-coordinate of the point.\n",
    "    _y : float or int\n",
    "        The y-coordinate of the point.\n",
    "\n",
    "    Methods\n",
    "    -------\n",
    "    __init__(x=0, y=0)\n",
    "        Initializes a Point with coordinates (x, y).\n",
    "    __str__()\n",
    "        Returns a human-readable string representation of the point.\n",
    "    __repr__()\n",
    "        Returns a string that can be evaluated to recreate the point.\n",
    "    get()\n",
    "        Returns a tuple (x, y) of the point's coordinates.\n",
    "    set(x, y)\n",
    "        Sets the coordinates of the point (makes it mutable; not recommended for immutability).\n",
    "    __eq__(other)\n",
    "        Checks equality with another Point.\n",
    "    __add__(other)\n",
    "        Returns a new Point that is the sum of this point and another.\n",
    "    __mul__(a)\n",
    "        Returns a new Point scaled by a constant a.\n",
    "    \"\"\"\n",
    "\n",
    "    def __init__(self, x=0, y=0):\n",
    "        \"\"\"\n",
    "        Initialize a Point with coordinates (x, y).\n",
    "\n",
    "        Parameters\n",
    "        ----------\n",
    "        x : float or int, optional\n",
    "            The x-coordinate (default is 0).\n",
    "        y : float or int, optional\n",
    "            The y-coordinate (default is 0).\n",
    "        \"\"\"\n",
    "        self._x = x\n",
    "        self._y = y\n",
    "\n",
    "    def __str__(self):\n",
    "        \"\"\"\n",
    "        Return a human-readable string representation of the point.\n",
    "\n",
    "        Returns\n",
    "        -------\n",
    "        str\n",
    "            The point as a string in the form '(x,y)'.\n",
    "        \"\"\"\n",
    "        return f\"({self._x},{self._y})\"\n",
    "\n",
    "    def __repr__(self):\n",
    "        \"\"\"\n",
    "        Return a string that can be evaluated to recreate the point.\n",
    "\n",
    "        Returns\n",
    "        -------\n",
    "        str\n",
    "            The point as a string in the form 'Point(x,y)'.\n",
    "        \"\"\"\n",
    "        return f\"Point({repr(self._x)},{repr(self._y)})\"\n",
    "\n",
    "    def get(self):\n",
    "        \"\"\"\n",
    "        Get the coordinates of the point.\n",
    "\n",
    "        Returns\n",
    "        -------\n",
    "        tuple\n",
    "            A tuple (x, y) representing the point's coordinates.\n",
    "        \"\"\"\n",
    "        return self._x, self._y\n",
    "\n",
    "    def set(self, x, y):\n",
    "        \"\"\"\n",
    "        Set the coordinates of the point (makes it mutable).\n",
    "\n",
    "        Parameters\n",
    "        ----------\n",
    "        x : float or int\n",
    "            The new x-coordinate.\n",
    "        y : float or int\n",
    "            The new y-coordinate.\n",
    "        \"\"\"\n",
    "        self._x = x\n",
    "        self._y = y\n",
    "\n",
    "    def __eq__(self, other):\n",
    "        \"\"\"\n",
    "        Check if this point is equal to another point.\n",
    "\n",
    "        Parameters\n",
    "        ----------\n",
    "        other : Point\n",
    "            The other point to compare.\n",
    "\n",
    "        Returns\n",
    "        -------\n",
    "        bool\n",
    "            True if both points have the same coordinates, False otherwise.\n",
    "        \"\"\"\n",
    "        return (self._x == other._x) and (self._y == other._y)\n",
    "\n",
    "    def __add__(self, other):\n",
    "        \"\"\"\n",
    "        Add this point to another point.\n",
    "\n",
    "        Parameters\n",
    "        ----------\n",
    "        other : Point\n",
    "            The other point to add.\n",
    "\n",
    "        Returns\n",
    "        -------\n",
    "        Point\n",
    "            A new Point representing the sum.\n",
    "        \"\"\"\n",
    "        return Point(self._x + other._x, self._y + other._y)\n",
    "\n",
    "    def __mul__(self, a):\n",
    "        \"\"\"\n",
    "        Scale this point by a constant.\n",
    "\n",
    "        Parameters\n",
    "        ----------\n",
    "        a : float or int\n",
    "            The scaling factor.\n",
    "\n",
    "        Returns\n",
    "        -------\n",
    "        Point\n",
    "            A new Point scaled by a.\n",
    "        \"\"\"\n",
    "        return Point(self._x * a, self._y * a)\n",
    "\n",
    "p1 = Point()\n",
    "p2 = Point(1, 2)\n",
    "print(p1, id(p1), p2)\n",
    "print(p2.get())\n",
    "print(p1 == p2, p1 == p1)\n",
    "\n",
    "# print(p1.get())\n",
    "\n",
    "print(repr(p1), repr(p2))\n",
    "\n",
    "s = repr(p2)\n",
    "p3 = eval(s)  # warning: use of eval can be a security risk\n",
    "print(p3)\n",
    "\n",
    "print(p2 + p2)\n",
    "\n",
    "print(p2, id(p2))\n",
    "p2 += Point(99, -10)\n",
    "print(p2, id(p2))\n",
    "\n",
    "# p2.set(-1,-2)\n",
    "# print(p2)\n",
    "\n",
    "# illustrate use"
   ]
  },
  {
   "cell_type": "markdown",
   "metadata": {},
   "source": [
    "How would you make it mutable?\n",
    "\n",
    "- `set` method similar to `get`\n",
    "- See below for `__setitem__` similar to `__getitem__` as used in lists, dictionaries, etc.\n"
   ]
  },
  {
   "cell_type": "code",
   "execution_count": null,
   "metadata": {},
   "outputs": [],
   "source": [
    "# illustrate use of str, repr, chaining of operations"
   ]
  },
  {
   "cell_type": "markdown",
   "metadata": {},
   "source": [
    "**Brief detour** to look at [exceptions](https://docs.python.org/3/tutorial/errors.html)\n",
    "\n",
    "- https://docs.python.org/3/tutorial/errors.html\n",
    "- https://docs.python.org/3/library/exceptions.html\n",
    "- https://docs.python.org/3/reference/compound_stmts.html#the-try-statement\n",
    "- https://docs.python.org/3/reference/simple_stmts.html#the-raise-statement\n",
    "- https://www.programiz.com/python-programming/exception-handling\n"
   ]
  },
  {
   "cell_type": "code",
   "execution_count": null,
   "metadata": {},
   "outputs": [],
   "source": [
    "x = 1.0\n",
    "y = 0.0\n",
    "# x / y, y"
   ]
  },
  {
   "cell_type": "code",
   "execution_count": null,
   "metadata": {},
   "outputs": [],
   "source": [
    "import math\n",
    "\n",
    "x = 1.0\n",
    "y = 0.0\n",
    "a = [1, 2]\n",
    "try:\n",
    "    x/y\n",
    "    # 2.0**2000\n",
    "    # math.sqrt(-1.0)\n",
    "    # raise ValueError(\"don't do this!\")\n",
    "    y = 0.0\n",
    "    # a[3]\n",
    "except ZeroDivisionError:\n",
    "    print(\"You just divided by zero!\")\n",
    "except OverflowError:\n",
    "    print(\"Wow ... you just made a really big number ... too big!\")\n",
    "except ValueError as err:\n",
    "    print(\"Your values are all wrong:\", err)\n",
    "except BaseException as err:\n",
    "    print(\"dunno what happened but it was bad!\", err)\n",
    "finally:\n",
    "    print(\"execute this whether or not an exception occured\")\n",
    "\n",
    "print(\"here\")"
   ]
  },
  {
   "cell_type": "markdown",
   "metadata": {},
   "source": [
    "**Exercise:** illustrate implementing classes that behave like a list\n",
    "\n",
    "- Make a class that provides read-only, random access to the first n (0,1,...,n-1) integers\n",
    "  - Provide `__len__` and `__getitem__` methods\n",
    "  - If `index<0` or `index>=n` please `raise IndexError`\n",
    "- Should be able to use `len(obj)` to get the size (n)\n",
    "- Should be able to use `obj[3]` to get the third element 3 (which should have the value 3)\n"
   ]
  },
  {
   "cell_type": "code",
   "execution_count": null,
   "metadata": {},
   "outputs": [],
   "source": [
    "class NotAList:\n",
    "    \"\"\"\n",
    "    NotAList is a read-only, random-access sequence of integers from 0 to n-1.\n",
    "\n",
    "    This class mimics some behaviors of a list, but only supports indexing and length.\n",
    "    Attempting to access an index out of range will raise an IndexError.\n",
    "    \"\"\"\n",
    "\n",
    "    def __init__(self, n):\n",
    "        \"\"\"\n",
    "        Initialize the NotAList with a given size n.\n",
    "\n",
    "        Parameters\n",
    "        ----------\n",
    "        n : int\n",
    "            The number of elements in the sequence (must be non-negative).\n",
    "        \"\"\"\n",
    "        self._n = n\n",
    "\n",
    "    def __getitem__(self, i):\n",
    "        \"\"\"\n",
    "        Return the integer at position i.\n",
    "\n",
    "        Parameters\n",
    "        ----------\n",
    "        i : int\n",
    "            The index to access.\n",
    "\n",
    "        Returns\n",
    "        -------\n",
    "        int\n",
    "            The value at index i (which is i itself).\n",
    "\n",
    "        Raises\n",
    "        ------\n",
    "        IndexError\n",
    "            If i is negative or not less than the length of the sequence.\n",
    "        \"\"\"\n",
    "        if i < 0 or i >= self._n:\n",
    "            raise IndexError(f\"NotAList index {i} out of range ({self._n})\")\n",
    "        return i\n",
    "\n",
    "    def __len__(self):\n",
    "        \"\"\"\n",
    "        Return the number of elements in the sequence.\n",
    "\n",
    "        Returns\n",
    "        -------\n",
    "        int\n",
    "            The length of the sequence.\n",
    "        \"\"\"\n",
    "        return self._n\n",
    "\n",
    "\n",
    "x = NotAList(200)\n",
    "print(len(x))\n",
    "print(x[99])\n",
    "# x[-1]"
   ]
  },
  {
   "cell_type": "code",
   "execution_count": null,
   "metadata": {},
   "outputs": [],
   "source": [
    "x = NotAList(10)\n",
    "print(len(x))  # should print 10\n",
    "print(x[3])  # should print 3\n",
    "# print(x[10])  # this should fail with an IndexError"
   ]
  },
  {
   "cell_type": "markdown",
   "metadata": {},
   "source": [
    "To be able to change elements add a `__setitem__` method\n"
   ]
  },
  {
   "cell_type": "markdown",
   "metadata": {},
   "source": [
    "**Exercise:** illustrate use of classes that behave like functions (i.e., a callable object)\n",
    "\n",
    "Write a class that stores a user-provided phrase and when invoked as a function with a string argument returns a new string with the phrase preprended. It should behave something like.\n",
    "\n",
    "E.g.,\n",
    "\n",
    "```\n",
    "f = Prepend(\"Fred says \")\n",
    "m = Prepend(\"Mary says \")\n",
    "f(\"boo!\") --> returns \"Fred says boo!\"\n",
    "m(\"bye.\") --> returns \"Mary says bye.\"\n",
    "```\n"
   ]
  },
  {
   "cell_type": "code",
   "execution_count": null,
   "metadata": {},
   "outputs": [],
   "source": [
    "class Prepend:\n",
    "    def __init__(self, s):\n",
    "        self._s = s\n",
    "\n",
    "    def __call__(self, msg):\n",
    "        return self._s + msg\n",
    "\n",
    "\n",
    "f = Prepend(\"Fred says \")\n",
    "m = Prepend(\"Mary says \")\n",
    "print(f(\"hi!\"))\n",
    "print(m(\"bye.\"))"
   ]
  },
  {
   "cell_type": "markdown",
   "metadata": {},
   "source": [
    "To illustrate inheritance\n",
    "\n",
    "Write and demonstrate a class that describes fruit with just two attributes\n",
    "\n",
    "- Color (a string)\n",
    "- Texture (a string)\n",
    "\n",
    "The class needs to\n",
    "\n",
    "- Initialize the values\n",
    "- Printing for human consumption\n",
    "- Provide methods to access these attributes\n"
   ]
  },
  {
   "cell_type": "code",
   "execution_count": null,
   "metadata": {},
   "outputs": [],
   "source": [
    "class Fruit:\n",
    "    def __init__(self, color, texture):\n",
    "        self.color = color\n",
    "        self.texture = texture\n",
    "\n",
    "    def __str__(self):\n",
    "        return \"Fruit(%s,%s)\" % (self.color, self.texture)"
   ]
  },
  {
   "cell_type": "code",
   "execution_count": null,
   "metadata": {},
   "outputs": [],
   "source": [
    "f = Fruit(\"pink\", \"chewy\")\n",
    "print(f)"
   ]
  },
  {
   "cell_type": "markdown",
   "metadata": {
    "collapsed": true,
    "jupyter": {
     "outputs_hidden": true
    }
   },
   "source": [
    "Write and demonstrate use of a class for Lemon that inherits from fruit with the hardwired values \"yellow\" and \"firm\" for the color and texture, and adds a new attribute (integer value) of \"sourness\" along with a method to set/access it. Show you now have access to the base class methods and data.\n"
   ]
  },
  {
   "cell_type": "code",
   "execution_count": null,
   "metadata": {},
   "outputs": [],
   "source": [
    "class Lemon(Fruit):\n",
    "    def __init__(self, sourness):\n",
    "        # Fruit.__init__(self, \"yellow\", \"firm\")\n",
    "        super().__init__(\"yellow\", \"firm\")\n",
    "        self.sourness = sourness\n",
    "\n",
    "    def __str__(self):\n",
    "        return \"Lemon(%s,%s,%d)\" % (self.color, self.texture, self.sourness)\n",
    "\n",
    "    def set_sourness(self, sourness):\n",
    "        self.sourness = sourness\n",
    "\n",
    "    def get_sourness(self):\n",
    "        return self.sourness\n",
    "\n",
    "lemon = Lemon(10)\n",
    "print(lemon)\n",
    "\n",
    "lemon.set_sourness(20)\n",
    "print(lemon.get_sourness())"
   ]
  },
  {
   "cell_type": "markdown",
   "metadata": {},
   "source": [
    "**Exercise:** Write and demonstrate use of a class for Circle that inherits from point and adds the attribute of radius, along with methods to get/set it and to compute the area\n"
   ]
  },
  {
   "cell_type": "code",
   "execution_count": null,
   "metadata": {},
   "outputs": [],
   "source": [
    "import math\n",
    "\n",
    "\n",
    "class Circle(Point):\n",
    "    def __init__(self, x, y, r):\n",
    "        # Point.__init__(self, x, y)\n",
    "        super().__init__(x, y)\n",
    "        self.r = r\n",
    "\n",
    "    def __str__(self):\n",
    "        return f\"Circle({self._x},{self._y},{self.r})\"\n",
    "\n",
    "    def area(self):\n",
    "        return math.pi * self.r**2\n",
    "\n",
    "    # Add additional attributes and methods\n",
    "    def get_radius(self):\n",
    "        return self.r\n",
    "    def set_radius(self, r):\n",
    "        self.r = r\n",
    "\n",
    "\n",
    "c = Circle(0.1, 0.2, 3.0)\n",
    "print(c.area())\n",
    "\n",
    "c.set_radius(4.0)\n",
    "print(c.get_radius())\n",
    "print(c.area())"
   ]
  },
  {
   "cell_type": "markdown",
   "metadata": {},
   "source": [
    "To illustrate how to make an iterable\n",
    "\n",
    "See class tutorial and also\n",
    "\n",
    "- https://docs.python.org/3/library/stdtypes.html#iterator-types\n",
    "- https://docs.python.org/3/reference/datamodel.html\n",
    "\n",
    "Write and demonstrate a class that supports iteration over integers 0, 1, ..., n-1 as a replacement for range(n)\n",
    "\n",
    "- Override the `__iter__` and `__next__` methods, raising `StopIteration` when finished\n"
   ]
  },
  {
   "cell_type": "code",
   "execution_count": null,
   "metadata": {},
   "outputs": [],
   "source": [
    "r = range(10)\n",
    "type(r)"
   ]
  },
  {
   "cell_type": "code",
   "execution_count": null,
   "metadata": {},
   "outputs": [],
   "source": [
    "for i in range(10):\n",
    "    print(i)"
   ]
  },
  {
   "cell_type": "code",
   "execution_count": null,
   "metadata": {},
   "outputs": [],
   "source": [
    "class MyRange:\n",
    "    def __init__(self, n):\n",
    "        if n < 0:\n",
    "            raise ValueError\n",
    "        self._n = n\n",
    "\n",
    "    def __iter__(self):\n",
    "        self._i = 0\n",
    "        return self\n",
    "\n",
    "    def __next__(self):\n",
    "        if self._i >= self._n:\n",
    "            raise StopIteration\n",
    "        else:\n",
    "            result = self._i\n",
    "            self._i += 1\n",
    "            return result\n",
    "\n",
    "\n",
    "for i in MyRange(10):\n",
    "    print(i)"
   ]
  },
  {
   "cell_type": "markdown",
   "metadata": {},
   "source": [
    "Introducing generators as an easy way to make an iterable.\n",
    "\n",
    "- New Python keyword --- `yield` that is used instead of return\n",
    "\n",
    "Write and demonstrate a function that supports iteration over integers 0, 1, ..., n-1 as a replacement for range(n)\n"
   ]
  },
  {
   "cell_type": "code",
   "execution_count": null,
   "metadata": {},
   "outputs": [],
   "source": [
    "# First write a function that prints each value in the sequence\n",
    "# Once that is working, instead of printing you should `yield` the value\n",
    "def R(n):\n",
    "    for i in range(n):\n",
    "        # print(i)\n",
    "        yield i\n",
    "\n",
    "\n",
    "def S():\n",
    "    yield \"fred\"\n",
    "    yield 9\n",
    "    yield -1"
   ]
  },
  {
   "cell_type": "code",
   "execution_count": null,
   "metadata": {},
   "outputs": [],
   "source": [
    "for value in S():\n",
    "    print(value)"
   ]
  },
  {
   "cell_type": "code",
   "execution_count": null,
   "metadata": {},
   "outputs": [],
   "source": [
    "R(10)"
   ]
  },
  {
   "cell_type": "code",
   "execution_count": null,
   "metadata": {},
   "outputs": [],
   "source": [
    "for i in R(10):\n",
    "    print(i)"
   ]
  },
  {
   "cell_type": "markdown",
   "metadata": {
    "collapsed": true,
    "jupyter": {
     "outputs_hidden": true
    }
   },
   "source": [
    "**Exercise:** Write a generator that returns one word at a time when reading from `allswell.txt` (to keep it simple ignore punctuation).\n",
    "\n",
    "- Use it to count the number of words containing the letter \"A\" in the file\n",
    "- Again, start by writing a function to print each word, then switch to `yield`\n"
   ]
  },
  {
   "cell_type": "code",
   "execution_count": null,
   "metadata": {},
   "outputs": [],
   "source": [
    "def wordatatime(filename):\n",
    "    for line in open(filename):\n",
    "        for word in line.split():\n",
    "            yield word"
   ]
  },
  {
   "cell_type": "code",
   "execution_count": null,
   "metadata": {},
   "outputs": [],
   "source": [
    "wordatatime(\"allswell.txt\")"
   ]
  },
  {
   "cell_type": "code",
   "execution_count": null,
   "metadata": {},
   "outputs": [],
   "source": [
    "len([word for word in wordatatime(\"allswell.txt\") if \"A\" in word])"
   ]
  },
  {
   "cell_type": "code",
   "execution_count": null,
   "metadata": {},
   "outputs": [],
   "source": [
    "for word in wordatatime(\"allswell.txt\"):\n",
    "    print(word)"
   ]
  },
  {
   "cell_type": "code",
   "execution_count": null,
   "metadata": {},
   "outputs": [],
   "source": [
    "len([word for word in wordatatime(\"allswell.txt\")])"
   ]
  },
  {
   "cell_type": "code",
   "execution_count": null,
   "metadata": {},
   "outputs": [],
   "source": [
    "len([word for word in wordatatime(\"allswell.txt\") if \"A\" in word])"
   ]
  }
 ],
 "metadata": {
  "kernelspec": {
   "display_name": "base",
   "language": "python",
   "name": "python3"
  },
  "language_info": {
   "codemirror_mode": {
    "name": "ipython",
    "version": 3
   },
   "file_extension": ".py",
   "mimetype": "text/x-python",
   "name": "python",
   "nbconvert_exporter": "python",
   "pygments_lexer": "ipython3",
   "version": "3.12.7"
  }
 },
 "nbformat": 4,
 "nbformat_minor": 4
}
