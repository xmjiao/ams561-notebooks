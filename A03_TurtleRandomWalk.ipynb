{
 "cells": [
  {
   "cell_type": "markdown",
   "metadata": {},
   "source": [
    "# Turtle graphics\n",
    "\n",
    "Objective: have fun while exploring use of loops, conditionals, functions, and building an application up from scratch\n",
    "\n",
    "* http://www.eg.bucknell.edu/~hyde/Python3/TurtleDirections.html\n",
    "* https://docs.python.org/3/library/turtle.html\n",
    "* http://www.vivaxsolutions.com/web/python-turtle.aspx nice examples\n"
   ]
  },
  {
   "cell_type": "code",
   "execution_count": 2,
   "metadata": {},
   "outputs": [],
   "source": [
    "#%gui tk # this seems to no longer be needed, and indeed be detrimental\n",
    "%gui inline\n",
    "from turtle import *\n",
    "forward(3)"
   ]
  },
  {
   "cell_type": "markdown",
   "metadata": {},
   "source": [
    "Play!  Just see what happens.  No actual turtles will be hurt."
   ]
  },
  {
   "cell_type": "code",
   "execution_count": 4,
   "metadata": {},
   "outputs": [],
   "source": [
    "left(90)\n",
    "forward(100)"
   ]
  },
  {
   "cell_type": "code",
   "execution_count": 5,
   "metadata": {},
   "outputs": [
    {
     "name": "stderr",
     "output_type": "stream",
     "text": [
      "2025-01-29 12:17:02.620 python[86766:8336207] +[IMKClient subclass]: chose IMKClient_Modern\n",
      "2025-01-29 12:17:02.620 python[86766:8336207] +[IMKInputSession subclass]: chose IMKInputSession_Modern\n"
     ]
    }
   ],
   "source": [
    "speed(1)         # Lowest speed\n",
    "goto(0,200)      # Draws a square (pen is down by default)\n",
    "goto(200,200)\n",
    "goto(200,0)\n",
    "goto(0,0)"
   ]
  },
  {
   "cell_type": "markdown",
   "metadata": {},
   "source": [
    "What will this do?  Play with the values"
   ]
  },
  {
   "cell_type": "code",
   "execution_count": 7,
   "metadata": {},
   "outputs": [],
   "source": [
    "reset()\n",
    "for i in range(100):\n",
    "    forward(15)\n",
    "    left(10)"
   ]
  },
  {
   "cell_type": "markdown",
   "metadata": {},
   "source": [
    "What about this?  Play with the values"
   ]
  },
  {
   "cell_type": "code",
   "execution_count": 9,
   "metadata": {},
   "outputs": [],
   "source": [
    "reset()\n",
    "for i in range(100):\n",
    "    forward(i*0.7)\n",
    "    left(10)"
   ]
  },
  {
   "cell_type": "markdown",
   "metadata": {},
   "source": [
    "What about this?  Play with the values"
   ]
  },
  {
   "cell_type": "code",
   "execution_count": 11,
   "metadata": {},
   "outputs": [],
   "source": [
    "reset()\n",
    "speed(0)\n",
    "for i in range(1000):\n",
    "    forward(10)\n",
    "    left(i%90)"
   ]
  },
  {
   "cell_type": "markdown",
   "metadata": {
    "collapsed": true,
    "jupyter": {
     "outputs_hidden": true
    }
   },
   "source": [
    "One last example"
   ]
  },
  {
   "cell_type": "code",
   "execution_count": 13,
   "metadata": {},
   "outputs": [
    {
     "ename": "KeyboardInterrupt",
     "evalue": "",
     "output_type": "error",
     "traceback": [
      "\u001b[0;31m---------------------------------------------------------------------------\u001b[0m",
      "\u001b[0;31mKeyboardInterrupt\u001b[0m                         Traceback (most recent call last)",
      "Cell \u001b[0;32mIn[13], line 15\u001b[0m\n\u001b[1;32m     13\u001b[0m     circle(\u001b[38;5;241m-\u001b[39m\u001b[38;5;241m4\u001b[39m, \u001b[38;5;241m90\u001b[39m, \u001b[38;5;241m36\u001b[39m)\n\u001b[1;32m     14\u001b[0m \u001b[38;5;28;01melse\u001b[39;00m:\n\u001b[0;32m---> 15\u001b[0m     circle(\u001b[38;5;241m4\u001b[39m, \u001b[38;5;241m90\u001b[39m, \u001b[38;5;241m36\u001b[39m)\n\u001b[1;32m     16\u001b[0m i \u001b[38;5;241m+\u001b[39m\u001b[38;5;241m=\u001b[39m \u001b[38;5;241m1\u001b[39m\n",
      "File \u001b[0;32m<string>:8\u001b[0m, in \u001b[0;36mcircle\u001b[0;34m(radius, extent, steps)\u001b[0m\n",
      "File \u001b[0;32m/opt/anaconda3/lib/python3.12/turtle.py:1996\u001b[0m, in \u001b[0;36mTNavigator.circle\u001b[0;34m(self, radius, extent, steps)\u001b[0m\n\u001b[1;32m   1994\u001b[0m \u001b[38;5;28;01mif\u001b[39;00m speed \u001b[38;5;241m==\u001b[39m \u001b[38;5;241m0\u001b[39m:\n\u001b[1;32m   1995\u001b[0m     \u001b[38;5;28mself\u001b[39m\u001b[38;5;241m.\u001b[39m_tracer(tr, dl)\n\u001b[0;32m-> 1996\u001b[0m \u001b[38;5;28mself\u001b[39m\u001b[38;5;241m.\u001b[39mspeed(speed)\n\u001b[1;32m   1997\u001b[0m \u001b[38;5;28;01mif\u001b[39;00m \u001b[38;5;28mself\u001b[39m\u001b[38;5;241m.\u001b[39mundobuffer:\n\u001b[1;32m   1998\u001b[0m     \u001b[38;5;28mself\u001b[39m\u001b[38;5;241m.\u001b[39mundobuffer\u001b[38;5;241m.\u001b[39mcumulate \u001b[38;5;241m=\u001b[39m \u001b[38;5;28;01mFalse\u001b[39;00m\n",
      "File \u001b[0;32m/opt/anaconda3/lib/python3.12/turtle.py:2173\u001b[0m, in \u001b[0;36mTPen.speed\u001b[0;34m(self, speed)\u001b[0m\n\u001b[1;32m   2171\u001b[0m \u001b[38;5;28;01melse\u001b[39;00m:\n\u001b[1;32m   2172\u001b[0m     speed \u001b[38;5;241m=\u001b[39m \u001b[38;5;241m0\u001b[39m\n\u001b[0;32m-> 2173\u001b[0m \u001b[38;5;28mself\u001b[39m\u001b[38;5;241m.\u001b[39mpen(speed\u001b[38;5;241m=\u001b[39mspeed)\n",
      "File \u001b[0;32m/opt/anaconda3/lib/python3.12/turtle.py:2467\u001b[0m, in \u001b[0;36mTPen.pen\u001b[0;34m(self, pen, **pendict)\u001b[0m\n\u001b[1;32m   2464\u001b[0m     sa, ca \u001b[38;5;241m=\u001b[39m math\u001b[38;5;241m.\u001b[39msin(\u001b[38;5;28mself\u001b[39m\u001b[38;5;241m.\u001b[39m_tilt), math\u001b[38;5;241m.\u001b[39mcos(\u001b[38;5;28mself\u001b[39m\u001b[38;5;241m.\u001b[39m_tilt)\n\u001b[1;32m   2465\u001b[0m     \u001b[38;5;28mself\u001b[39m\u001b[38;5;241m.\u001b[39m_shapetrafo \u001b[38;5;241m=\u001b[39m ( scx\u001b[38;5;241m*\u001b[39mca, scy\u001b[38;5;241m*\u001b[39m(shf\u001b[38;5;241m*\u001b[39mca \u001b[38;5;241m+\u001b[39m sa),\n\u001b[1;32m   2466\u001b[0m                         \u001b[38;5;241m-\u001b[39mscx\u001b[38;5;241m*\u001b[39msa, scy\u001b[38;5;241m*\u001b[39m(ca \u001b[38;5;241m-\u001b[39m shf\u001b[38;5;241m*\u001b[39msa))\n\u001b[0;32m-> 2467\u001b[0m \u001b[38;5;28mself\u001b[39m\u001b[38;5;241m.\u001b[39m_update()\n",
      "File \u001b[0;32m/opt/anaconda3/lib/python3.12/turtle.py:2670\u001b[0m, in \u001b[0;36mRawTurtle._update\u001b[0;34m(self)\u001b[0m\n\u001b[1;32m   2668\u001b[0m     \u001b[38;5;28mself\u001b[39m\u001b[38;5;241m.\u001b[39m_update_data()\n\u001b[1;32m   2669\u001b[0m     \u001b[38;5;28mself\u001b[39m\u001b[38;5;241m.\u001b[39m_drawturtle()\n\u001b[0;32m-> 2670\u001b[0m     screen\u001b[38;5;241m.\u001b[39m_update()                  \u001b[38;5;66;03m# TurtleScreenBase\u001b[39;00m\n\u001b[1;32m   2671\u001b[0m     screen\u001b[38;5;241m.\u001b[39m_delay(screen\u001b[38;5;241m.\u001b[39m_delayvalue) \u001b[38;5;66;03m# TurtleScreenBase\u001b[39;00m\n\u001b[1;32m   2672\u001b[0m \u001b[38;5;28;01melse\u001b[39;00m:\n",
      "File \u001b[0;32m/opt/anaconda3/lib/python3.12/turtle.py:556\u001b[0m, in \u001b[0;36mTurtleScreenBase._update\u001b[0;34m(self)\u001b[0m\n\u001b[1;32m    553\u001b[0m \u001b[38;5;28;01mdef\u001b[39;00m \u001b[38;5;21m_update\u001b[39m(\u001b[38;5;28mself\u001b[39m):\n\u001b[1;32m    554\u001b[0m \u001b[38;5;250m    \u001b[39m\u001b[38;5;124;03m\"\"\"Redraw graphics items on canvas\u001b[39;00m\n\u001b[1;32m    555\u001b[0m \u001b[38;5;124;03m    \"\"\"\u001b[39;00m\n\u001b[0;32m--> 556\u001b[0m     \u001b[38;5;28mself\u001b[39m\u001b[38;5;241m.\u001b[39mcv\u001b[38;5;241m.\u001b[39mupdate()\n",
      "File \u001b[0;32m/opt/anaconda3/lib/python3.12/tkinter/__init__.py:1372\u001b[0m, in \u001b[0;36mMisc.update\u001b[0;34m(self)\u001b[0m\n\u001b[1;32m   1370\u001b[0m \u001b[38;5;28;01mdef\u001b[39;00m \u001b[38;5;21mupdate\u001b[39m(\u001b[38;5;28mself\u001b[39m):\n\u001b[1;32m   1371\u001b[0m \u001b[38;5;250m    \u001b[39m\u001b[38;5;124;03m\"\"\"Enter event loop until all pending events have been processed by Tcl.\"\"\"\u001b[39;00m\n\u001b[0;32m-> 1372\u001b[0m     \u001b[38;5;28mself\u001b[39m\u001b[38;5;241m.\u001b[39mtk\u001b[38;5;241m.\u001b[39mcall(\u001b[38;5;124m'\u001b[39m\u001b[38;5;124mupdate\u001b[39m\u001b[38;5;124m'\u001b[39m)\n",
      "\u001b[0;31mKeyboardInterrupt\u001b[0m: "
     ]
    }
   ],
   "source": [
    "# Dragon curve from \n",
    "# https://gist.github.com/fogleman/006e4069348fa163b8ae\n",
    "reset()\n",
    "hideturtle()\n",
    "speed(0)\n",
    "def turn(i):\n",
    "    left = (((i & -i) << 1) & i) != 0\n",
    "    return 'L' if left else 'R'\n",
    "\n",
    "i = 1\n",
    "while i<10000:\n",
    "    if turn(i) == 'L':\n",
    "        circle(-4, 90, 36)\n",
    "    else:\n",
    "        circle(4, 90, 36)\n",
    "    i += 1   "
   ]
  },
  {
   "cell_type": "code",
   "execution_count": null,
   "metadata": {},
   "outputs": [],
   "source": []
  },
  {
   "cell_type": "markdown",
   "metadata": {},
   "source": [
    "What about this random walk?"
   ]
  },
  {
   "cell_type": "code",
   "execution_count": null,
   "metadata": {},
   "outputs": [],
   "source": [
    "reset() # clears the graphics and moves turtle to the origin\n",
    "speed(9)\n",
    "from random import randint\n",
    "for i in range(200):\n",
    "    forward(randint(0,15))\n",
    "    left(randint(-60,60))"
   ]
  },
  {
   "cell_type": "code",
   "execution_count": null,
   "metadata": {},
   "outputs": [],
   "source": [
    "# The same random walk in y but without any graphics --- much faster and also needed if graphics are not working\n",
    "from random import randint\n",
    "y = 0\n",
    "for i in range(200):\n",
    "    y += randint(-10,10)\n",
    "    print(y)"
   ]
  },
  {
   "cell_type": "markdown",
   "metadata": {},
   "source": [
    "Think that is not very useful?  Tell that to Tim (or look at https://en.wikipedia.org/wiki/Random_walk). \n",
    "Your job is to tell Tim if he should think seriously about moving (or sobering up).\n",
    "\n",
    "Tim is walking home, but is inadvisably very inebriated and cannot walk in a straight line.  \n",
    "* Friends are waiting for him just 200 meters south of the pub he just left.\n",
    "* Ufortunately, there is a deep canal just 100 meters north of the pub.\n",
    "\n",
    "What is the probability of Tim getting home alive?\n",
    "\n",
    "Actual scientific applications include\n",
    "* Brownian motion of particles in liquid\n",
    "* Random sampling to compute in high dimensions\n",
    "* Many-body physics and chemistry\n",
    "\n",
    "Restating the problem:\n",
    "* Run 20 random walks each starting from the origin\n",
    "  - if the `y` cooordinate exceeds 100, increment the number of times he drowned, and start the next random walk\n",
    "  - if the `y` coordinate is less (more negative) than -200, increment the number of times he made it home and start the next walk\n",
    "* Estimate the survival probability as `num_got_home / (num_got_home + num_died)`\n",
    "  \n",
    "First here's a function to draw lines for home and the canal.  We will examine functions in detail in the near future."
   ]
  },
  {
   "cell_type": "code",
   "execution_count": null,
   "metadata": {},
   "outputs": [],
   "source": [
    "def draw_lines():\n",
    "    penup()\n",
    "    goto(-400,-200)\n",
    "    pendown()\n",
    "    goto(400,-200)\n",
    "    penup()\n",
    "    goto(-400,100)\n",
    "    pendown()\n",
    "    goto(400,100)\n",
    "    penup()\n",
    "    goto(0,-7)\n",
    "    pendown()\n",
    "    circle(10)\n",
    "    penup()\n",
    "    goto(0,0)\n",
    "    pendown()\n",
    "    \n",
    "reset()\n",
    "draw_lines()"
   ]
  },
  {
   "cell_type": "markdown",
   "metadata": {},
   "source": [
    "Now you can actually simulate Tim's walk home on 20 different nights\n",
    "\n",
    "Break the problem into steps:\n",
    "1. Copy the above code for the random walk and modify it to end (break) the walk when we know that Tim is either alive or dead.\n",
    "2. Draw the lines at the start of the calculation\n",
    "2. Put a loop around this random walk code to repeat it 20 times (to avoid wasting time you might start with just 2 repetitions).\n",
    "3. Fix any graphics problems so we can see what is going on.\n",
    "4. Insert code to capture statistics (no. of times lived or died) and print the stats out.\n",
    "\n",
    "**Incremental transformation:** Golden approach to writing a complex piece of code and avoiding eons of debugging. \n",
    "1. Start with something (very) simple that you can easily get working correctly.\n",
    "2. Make (very) small changes that you understand and test it carefully.\n",
    "3. Save before making the next change so that if you make an mistake you can always go back to a working version.\n"
   ]
  },
  {
   "cell_type": "code",
   "execution_count": null,
   "metadata": {},
   "outputs": [],
   "source": [
    "nsample = 2\n",
    "live = 0\n",
    "for sample in range(nsample):\n",
    "    reset()\n",
    "    draw_lines()\n",
    "    while True:\n",
    "        if ycor() > 100:\n",
    "            print(\"dead\")\n",
    "            break\n",
    "        elif ycor() < -200:\n",
    "            print(\"alive\")\n",
    "            live += 1\n",
    "            break\n",
    "        forward(randint(0,15))\n",
    "        left(randint(-60,60))\n",
    "print(live, live/nsample)"
   ]
  },
  {
   "cell_type": "code",
   "execution_count": null,
   "metadata": {},
   "outputs": [],
   "source": [
    "for i in range(20):\n",
    "    ycor()\n",
    "    print(ycor())"
   ]
  },
  {
   "cell_type": "code",
   "execution_count": null,
   "metadata": {},
   "outputs": [],
   "source": []
  },
  {
   "cell_type": "code",
   "execution_count": null,
   "metadata": {},
   "outputs": [],
   "source": []
  },
  {
   "cell_type": "code",
   "execution_count": null,
   "metadata": {},
   "outputs": [],
   "source": []
  },
  {
   "cell_type": "markdown",
   "metadata": {},
   "source": [
    "Tim needs your help!"
   ]
  },
  {
   "cell_type": "code",
   "execution_count": null,
   "metadata": {},
   "outputs": [],
   "source": []
  },
  {
   "cell_type": "code",
   "execution_count": null,
   "metadata": {},
   "outputs": [],
   "source": []
  },
  {
   "cell_type": "code",
   "execution_count": null,
   "metadata": {},
   "outputs": [],
   "source": []
  }
 ],
 "metadata": {
  "anaconda-cloud": {},
  "kernelspec": {
   "display_name": "Python [conda env:base] *",
   "language": "python",
   "name": "conda-base-py"
  },
  "language_info": {
   "codemirror_mode": {
    "name": "ipython",
    "version": 3
   },
   "file_extension": ".py",
   "mimetype": "text/x-python",
   "name": "python",
   "nbconvert_exporter": "python",
   "pygments_lexer": "ipython3",
   "version": "3.12.2"
  }
 },
 "nbformat": 4,
 "nbformat_minor": 4
}
