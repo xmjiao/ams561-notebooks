{
 "cells": [
  {
   "cell_type": "markdown",
   "metadata": {},
   "source": [
    "[SciPy](https://scipy.org/) (pronounced “Sigh Pie”) is a Python-based ecosystem of open-source software for mathematics, science, and engineering. In particular, these are some of the core packages:\n",
    "* NumPy: Base N-dimensional array package\n",
    "* SciPy library: Fundamental library for scientific computing\n",
    "* Matplotlib: Comprehensive 2D Plotting\n",
    "* IPython: Enhanced Interactive Console\n",
    "* Sympy: Symbolic mathematics\n",
    "* pandas: Data structures & analysis\n",
    "\n",
    "We have already looked briefly at Matplotlib.  In this and the next few lectures we will look at NumPy, Sympy, etc., and will also introduce important concepts and techniques for numerical computation.\n",
    "\n",
    "# Introduction to NumPy\n",
    "\n",
    "NumPy home page - lots of good links from here\n",
    "* http://www.numpy.org/\n",
    "\n",
    "Links to tutorials\n",
    "* http://cs231n.github.io/python-numpy-tutorial/\n",
    "  - nice quick review of Python then nice quick intro to highlights of NumPy\n",
    "  - iPython (Jupyter) notebook format\n",
    "* https://docs.scipy.org/doc/\n",
    "  - https://docs.scipy.org/doc/numpy/user/quickstart.html\n",
    "    - Useful for beginners and to quickly remind yourself of basics\n",
    "  - https://docs.scipy.org/doc/numpy/reference/\n",
    "    - The answer to your question is surely in here, but there is lots of advanced content\n",
    "* http://www.tutorialspoint.com/numpy/\n",
    "  - Rather detailed - perhaps best for more advanced readers or for reference?\n",
    "* http://www.python-course.eu/numpy.php\n",
    "  - Quite accessible (at least to begin with) but not very deep\n",
    "\n"
   ]
  },
  {
   "cell_type": "markdown",
   "metadata": {},
   "source": [
    "### To use numpy import the numpy module"
   ]
  },
  {
   "cell_type": "code",
   "execution_count": null,
   "metadata": {},
   "outputs": [],
   "source": [
    "import numpy as np  # Can call it anything but np saves typing\n",
    "import matplotlib.pyplot as plt"
   ]
  },
  {
   "cell_type": "markdown",
   "metadata": {
    "collapsed": true,
    "jupyter": {
     "outputs_hidden": true
    }
   },
   "source": [
    "### What is a numpy array?\n",
    "\n",
    "A numpy array is a vector, matrix, tensor (a \"matrix\" with more than 2 dimensions) of values. The size of each dimension is fixed --- unlike a Python list you cannot grow a numpy array without copying.\n",
    "\n",
    "Every value must have the same data type (floating-point number, integer, complex numbers, etc.) --- more on this later.  \n",
    "\n",
    "The constraints of fixed dimensions and fixed data type enable great efficiency (high speed and low memory) and facilitate use of external libraries that are highly optimized."
   ]
  },
  {
   "cell_type": "markdown",
   "metadata": {},
   "source": [
    "### Making arrays\n",
    "\n",
    "Associated with each array is\n",
    "* **shape** --- a tuple that represents the size of each dimension\n",
    "* **data type** --- the type of data (http://docs.scipy.org/doc/numpy/reference/arrays.dtypes.html).  The default is `float_` (a 64-bit floating point number fully compatible with Python `float`).\n",
    "\n",
    "**From existing python list or any iterable** - `array(data)`\n",
    "* When making an array from a Python data structure numpy will use try to use \"simplest\" data type that can hold all of the data you provide"
   ]
  },
  {
   "cell_type": "code",
   "execution_count": null,
   "metadata": {},
   "outputs": [],
   "source": [
    "a = np.array([77,99.0])\n",
    "print(a)\n",
    "print(a.shape)"
   ]
  },
  {
   "cell_type": "code",
   "execution_count": null,
   "metadata": {},
   "outputs": [],
   "source": [
    "b = np.array(range(10))\n",
    "print(b)\n",
    "print(b.shape)\n",
    "print(b.dtype)"
   ]
  },
  {
   "cell_type": "code",
   "execution_count": null,
   "metadata": {},
   "outputs": [],
   "source": [
    "c = np.array([[11.,12,13],[21,22,23],[31,32,33],[41,42,43]])\n",
    "print(c)\n",
    "print(c.shape)\n",
    "print(c.dtype)"
   ]
  },
  {
   "cell_type": "code",
   "execution_count": null,
   "metadata": {},
   "outputs": [],
   "source": [
    "\n",
    "d = np.array([1+2j, 2.0+3.14j])\n",
    "print(d)\n",
    "print(d.shape)\n",
    "print(d.dtype)"
   ]
  },
  {
   "cell_type": "code",
   "execution_count": null,
   "metadata": {},
   "outputs": [],
   "source": [
    "print(a.dtype, b.dtype, c.dtype, d.dtype)\n",
    "print(a.shape, b.shape, c.shape, d.shape)"
   ]
  },
  {
   "cell_type": "markdown",
   "metadata": {},
   "source": [
    "**[Aside] Numpy data types are fixed size** --- this means that Numpy integers behave differently to Python integers (a Python integer can be arbitrarily large but Numpy integers have only a fixed range).  Numpy and Python floats behave the same."
   ]
  },
  {
   "cell_type": "code",
   "execution_count": null,
   "metadata": {},
   "outputs": [],
   "source": [
    "a = np.array([1,2], dtype=np.int64) # Force integer data type\n",
    "print(a)"
   ]
  },
  {
   "cell_type": "code",
   "execution_count": null,
   "metadata": {},
   "outputs": [],
   "source": [
    "print(2**63 - 1)\n",
    "i = 999999999999999999999999999999999999 # a really big python integer\n",
    "print(i)\n"
   ]
  },
  {
   "cell_type": "code",
   "execution_count": null,
   "metadata": {},
   "outputs": [],
   "source": [
    "a = np.array([1,2], dtype=np.int64)\n",
    "# a[0] = i\n",
    "# print(a[0])"
   ]
  },
  {
   "cell_type": "code",
   "execution_count": null,
   "metadata": {},
   "outputs": [],
   "source": [
    "a = np.array([1,2], dtype=np.int64)"
   ]
  },
  {
   "cell_type": "code",
   "execution_count": null,
   "metadata": {},
   "outputs": [],
   "source": [
    "i = 2**63 - 1 # The largest signed integer that can fit into 64 bits\n",
    "a[0] = i\n",
    "print(i, a[0])\n",
    "i += 1\n",
    "a[0] += 1  # Do not rely on this always producing an overflow warning \n",
    "print(i, a[0])"
   ]
  },
  {
   "cell_type": "markdown",
   "metadata": {},
   "source": [
    "**From shape** and filled with data of your choosing --- this is by far the best way to make large arrays\n",
    "* You can provide the data type using the keyword argument `dtype`\n",
    "* Look in the documentation for the many other ways to make arrays"
   ]
  },
  {
   "cell_type": "code",
   "execution_count": null,
   "metadata": {},
   "outputs": [],
   "source": [
    "(5,)"
   ]
  },
  {
   "cell_type": "code",
   "execution_count": null,
   "metadata": {},
   "outputs": [],
   "source": [
    "a = np.zeros((2,3))    # Filled with zeros\n",
    "print(a.shape)\n",
    "print(a.dtype)"
   ]
  },
  {
   "cell_type": "code",
   "execution_count": null,
   "metadata": {},
   "outputs": [],
   "source": [
    "b = np.ones((5,))      # Filled with ones\n",
    "print(b.shape)\n",
    "print(b.dtype)"
   ]
  },
  {
   "cell_type": "code",
   "execution_count": null,
   "metadata": {},
   "outputs": [],
   "source": [
    "c = np.full((3,2),-7.0)# Filled with value of your choosing\n",
    "d = np.eye(3)          # A 3x3 identity matrix - eye --> I\n",
    "e = np.linspace(-1,2,11) # Look at ?np.linspace\n",
    "print(e)"
   ]
  },
  {
   "cell_type": "code",
   "execution_count": null,
   "metadata": {},
   "outputs": [],
   "source": [
    "f = np.arange(7)         # Like python range\n",
    "print(f.dtype)"
   ]
  },
  {
   "cell_type": "code",
   "execution_count": null,
   "metadata": {},
   "outputs": [],
   "source": [
    "np.random.seed(100)\n",
    "g = np.random.random((2,5)) # Filled with random values in [0,1)\n",
    "print(g)"
   ]
  },
  {
   "cell_type": "code",
   "execution_count": null,
   "metadata": {},
   "outputs": [],
   "source": [
    "g = np.random.random((2,5)) * 10 - 5   # Filled with random values in [-5,5)\n",
    "print(g)"
   ]
  },
  {
   "cell_type": "code",
   "execution_count": null,
   "metadata": {},
   "outputs": [],
   "source": [
    "help(np.random.random)"
   ]
  },
  {
   "cell_type": "code",
   "execution_count": null,
   "metadata": {},
   "outputs": [],
   "source": [
    "print(a.shape)"
   ]
  },
  {
   "cell_type": "markdown",
   "metadata": {},
   "source": [
    "You can reshape an array using the `reshape` member function\n",
    "* The data must fit exactly --- try changing the values `5` or `3` below to see the error you get when it does not fit.\n",
    "* It makes a new *view* of the data --- i.e., the new and old arrays are looking at the same underlying data, which makes it convenient to do some types of indexing."
   ]
  },
  {
   "cell_type": "code",
   "execution_count": null,
   "metadata": {},
   "outputs": [],
   "source": [
    "a = np.arange(15)\n",
    "print(a)\n",
    "b = np.reshape(a,(5,3))  # same as doing a.reshape((5,3))\n",
    "print(a) # Demonstrate a was unchanged\n",
    "print(b)\n"
   ]
  },
  {
   "cell_type": "code",
   "execution_count": null,
   "metadata": {},
   "outputs": [],
   "source": [
    "b[1,2] = 99 # Demonstrate that b and a are viewing the same underlying data\n",
    "print(a)\n",
    "print(b)\n"
   ]
  },
  {
   "cell_type": "code",
   "execution_count": null,
   "metadata": {},
   "outputs": [],
   "source": [
    "c = np.copy(b)\n",
    "c[1,2] = -9999999\n",
    "print(c)\n",
    "print(b)"
   ]
  },
  {
   "cell_type": "markdown",
   "metadata": {},
   "source": [
    "### Acessing array data\n",
    "\n",
    "**Accessing elements** (also called integer indexing) --- just specify the indices inside `[]` just like Python lists"
   ]
  },
  {
   "cell_type": "code",
   "execution_count": null,
   "metadata": {},
   "outputs": [],
   "source": [
    "a = np.array([[0,1,2,3],[4,5,6,7]])\n",
    "print(a)\n",
    "print(\"a[0,0]\",a[0,0])\n",
    "print(\"a[0,1]\", a[0,1])\n",
    "print(\"a[1,0]\", a[1,0])\n",
    "print(\"a[-1,2]\", a[-1,2])\n"
   ]
  },
  {
   "cell_type": "code",
   "execution_count": null,
   "metadata": {},
   "outputs": [],
   "source": [
    "b = np.linspace(4,5,5)\n",
    "print(\"b\", b)\n",
    "print(\"b[3]\", b[3])"
   ]
  },
  {
   "cell_type": "code",
   "execution_count": null,
   "metadata": {},
   "outputs": [],
   "source": [
    "print(a.shape)\n",
    "print(a[1])"
   ]
  },
  {
   "cell_type": "markdown",
   "metadata": {},
   "source": [
    "**Array elements are mutable** --- just like Python lists"
   ]
  },
  {
   "cell_type": "code",
   "execution_count": null,
   "metadata": {},
   "outputs": [],
   "source": [
    "b[2] = 99\n",
    "print(b)"
   ]
  },
  {
   "cell_type": "markdown",
   "metadata": {},
   "source": [
    "**Accessing slices** --- `[start:stop:increment]`\n",
    "* Slicing a Python or a NumPy array both produce views of the underlying data\n",
    "* But unlike Python slices you can save a slice of a NumPy array in a variable and it still is a view of the original data"
   ]
  },
  {
   "cell_type": "code",
   "execution_count": null,
   "metadata": {},
   "outputs": [],
   "source": [
    "a = np.array([[0,1,2,3],[4,5,6,7]])\n",
    "print(\"a\")\n",
    "print(a)\n"
   ]
  },
  {
   "cell_type": "code",
   "execution_count": null,
   "metadata": {},
   "outputs": [],
   "source": [
    "print(\"\\nslice of a\")\n",
    "print(a[0:2,1:])"
   ]
  },
  {
   "cell_type": "code",
   "execution_count": null,
   "metadata": {},
   "outputs": [],
   "source": [
    "\n",
    "patch = a[0:2,1:4]\n",
    "print(\"\\npatch\")\n",
    "print(patch)\n",
    "\n",
    "patch.fill(-1) # showing that slices are mutable and are views\n",
    "print(\"\\na after filling patch\")\n",
    "print(a)\n",
    "\n",
    "a[0:2,0:2] = 99 # showing that slices are mutable and are views\n",
    "print(\"\\na after directly assigning slice\")\n",
    "print(a)\n",
    "print(patch)\n",
    "\n",
    "a[:,:] = 0 # sets all of a --- equivalent to a.fill(0)\n",
    "print(\"\\na after setting entire array\")\n",
    "print(a)"
   ]
  },
  {
   "cell_type": "code",
   "execution_count": null,
   "metadata": {},
   "outputs": [],
   "source": []
  },
  {
   "cell_type": "code",
   "execution_count": null,
   "metadata": {},
   "outputs": [],
   "source": [
    "# Show that slices of a list are also views, but that assigning a slice of a list to \n",
    "# a variable produces a (shallow copy)\n",
    "t = [1,2,3,4]\n",
    "s = t[2:]   # Copies the slice into a new list\n",
    "print(t,s); print()\n",
    "\n",
    "s[:] = [99] # Note that changing s does not change the original list (since it was a copy)\n",
    "print(t,s); print()\n",
    "\n",
    "t[2:] = [-13] # But if we assign the slice directly we can mutate the original list\n",
    "print(t,s) "
   ]
  },
  {
   "cell_type": "code",
   "execution_count": null,
   "metadata": {},
   "outputs": [],
   "source": []
  },
  {
   "cell_type": "markdown",
   "metadata": {},
   "source": [
    "**Mixing element-wise and slice-wise indexing** --- can be used to produce lower rank values"
   ]
  },
  {
   "cell_type": "code",
   "execution_count": null,
   "metadata": {},
   "outputs": [],
   "source": [
    "a = np.arange(15).reshape((5,3))\n",
    "print(a)\n",
    "print(a[2,:]) # Vector containing the 3rd row of the matrix a\n",
    "print(a[1:4,-1]) # Vector containing part of the last column of the matrix a"
   ]
  },
  {
   "cell_type": "markdown",
   "metadata": {},
   "source": [
    "**Exercise:** \n",
    "* Make a `(5,5)` random matrix,\n",
    "* with each element initialized to 9, and \n",
    "* add 1 onto all elements in the 2nd and 3rd columns."
   ]
  },
  {
   "cell_type": "code",
   "execution_count": null,
   "metadata": {},
   "outputs": [],
   "source": []
  },
  {
   "cell_type": "markdown",
   "metadata": {},
   "source": [
    "**Integer array indexing** --- you can extract multiple values at a time into a new array, or operate on those values in place"
   ]
  },
  {
   "cell_type": "code",
   "execution_count": null,
   "metadata": {},
   "outputs": [],
   "source": [
    "a = np.arange(15).reshape((5,3))\n",
    "print(a)\n",
    "print()\n",
    "print(a[[2,3,4],[1,2,1]]) # Prints a[2,1], a[3,2], a[4,1]"
   ]
  },
  {
   "cell_type": "code",
   "execution_count": null,
   "metadata": {},
   "outputs": [],
   "source": [
    "# If you use the indexed array directly you can change multiple elements at a time\n",
    "a[[2,3,4],[1,2,1]] = (-4,-5,-6) # how does this work?\n",
    "print(a)"
   ]
  },
  {
   "cell_type": "code",
   "execution_count": null,
   "metadata": {},
   "outputs": [],
   "source": [
    "a = np.arange(15).reshape((5,3))\n",
    "a"
   ]
  },
  {
   "cell_type": "code",
   "execution_count": null,
   "metadata": {},
   "outputs": [],
   "source": [
    "# But if you assign the indexed array to a variable you have a new array that is a copy\n",
    "# Thus, changing b does not change a\n",
    "b = a[[2,3,4],[1,2,1]]\n",
    "b[2] = -100000000\n",
    "print(b)\n",
    "print()\n",
    "print(a)\n",
    "print()\n"
   ]
  },
  {
   "cell_type": "code",
   "execution_count": null,
   "metadata": {},
   "outputs": [],
   "source": [
    "\n",
    "a[[2,3,4],[1,2,1]] = -1\n",
    "print(a)"
   ]
  },
  {
   "cell_type": "markdown",
   "metadata": {},
   "source": [
    "**Boolean array indexing** --- pick elements by value"
   ]
  },
  {
   "cell_type": "code",
   "execution_count": null,
   "metadata": {},
   "outputs": [],
   "source": [
    "a = np.random.random((3,4)) - 0.5 # below we learn this subtracts 0.5 from each element\n",
    "print(a)"
   ]
  },
  {
   "cell_type": "code",
   "execution_count": null,
   "metadata": {},
   "outputs": [],
   "source": [
    "print(a>0)"
   ]
  },
  {
   "cell_type": "markdown",
   "metadata": {},
   "source": [
    "You can ask if any or all of the array values satisfy the condition"
   ]
  },
  {
   "cell_type": "code",
   "execution_count": null,
   "metadata": {},
   "outputs": [],
   "source": [
    "print(\"are any entries greater than zero?\", (a>0).any())\n",
    "print(\"are all entries greater than zero?\", (a>0).all())\n"
   ]
  },
  {
   "cell_type": "markdown",
   "metadata": {},
   "source": [
    "You can view and change elements that satisfy a condition"
   ]
  },
  {
   "cell_type": "code",
   "execution_count": null,
   "metadata": {},
   "outputs": [],
   "source": [
    "print(a[a>0])"
   ]
  },
  {
   "cell_type": "code",
   "execution_count": null,
   "metadata": {},
   "outputs": [],
   "source": [
    "a[a>0.2] = 10000\n",
    "print(a)"
   ]
  },
  {
   "cell_type": "markdown",
   "metadata": {},
   "source": [
    "**Copy and deep copy:** As we've seen already Python assignment creates a shallow copy of arrays --- you end up with two names or views of the same underlying data.  \n",
    "* Just like Python lists."
   ]
  },
  {
   "cell_type": "code",
   "execution_count": null,
   "metadata": {},
   "outputs": [],
   "source": [
    "a = np.arange(5)\n",
    "b = a\n",
    "print(a)\n",
    "print(b)\n",
    "b[3] = 99\n",
    "print(a)\n",
    "print(b)"
   ]
  },
  {
   "cell_type": "markdown",
   "metadata": {},
   "source": [
    "If you really want a completely new array that is a copy of the original data you must use `np.copy`"
   ]
  },
  {
   "cell_type": "code",
   "execution_count": null,
   "metadata": {},
   "outputs": [],
   "source": [
    "b = np.copy(a)\n",
    "b[3]=-1\n",
    "print(a)\n",
    "print(b)"
   ]
  },
  {
   "cell_type": "markdown",
   "metadata": {},
   "source": [
    "**Other operations to make and combine arrays:** Stacking, repeating, tiling, concatenating --- read the docs for full details"
   ]
  },
  {
   "cell_type": "code",
   "execution_count": null,
   "metadata": {},
   "outputs": [],
   "source": [
    "a = np.arange(4)\n",
    "print(a)\n",
    "print(np.repeat(a,3))\n"
   ]
  },
  {
   "cell_type": "code",
   "execution_count": null,
   "metadata": {},
   "outputs": [],
   "source": [
    "print(np.tile(a,(3)))"
   ]
  },
  {
   "cell_type": "markdown",
   "metadata": {},
   "source": [
    "**Matrix transpose:** this is such a common operation that Numpy provides an **attribute** ('T') to access it (in math the transpose of the matrix $A$ is often indicated as $A^T$).\n",
    "\n",
    "The transpose of a matrix switches the rows and columns so that if $A$ is $m \\times n$ with elements $a_{ij}$ then\n",
    "* $A^T$ is $n \\times m$, and \n",
    "* $(A^T)_{ji} = A_{ij}$"
   ]
  },
  {
   "cell_type": "code",
   "execution_count": null,
   "metadata": {},
   "outputs": [],
   "source": [
    "a = np.arange(12).reshape(4,3)\n",
    "print(a)\n"
   ]
  },
  {
   "cell_type": "code",
   "execution_count": null,
   "metadata": {},
   "outputs": [],
   "source": [
    "print(a.T)"
   ]
  },
  {
   "cell_type": "code",
   "execution_count": null,
   "metadata": {},
   "outputs": [],
   "source": [
    "atranspose = a.T\n",
    "print(a[1,2], atranspose[2,1])"
   ]
  },
  {
   "cell_type": "markdown",
   "metadata": {},
   "source": [
    "Note that `a.T` is just a view of `a` --- they both refer to the same data but just switch the indexing of rows and columns"
   ]
  },
  {
   "cell_type": "code",
   "execution_count": null,
   "metadata": {},
   "outputs": [],
   "source": [
    "a[2,1] = 99\n",
    "print(a[2,1], atranspose[1,2])"
   ]
  },
  {
   "cell_type": "markdown",
   "metadata": {},
   "source": [
    "### Array math \n",
    "\n",
    "We've seen lots of elementary examples already --- assigning and basic arithmetic\n",
    "\n",
    "Most operations on arrays act **elementwise** and arrays being combined must have the same shape."
   ]
  },
  {
   "cell_type": "code",
   "execution_count": null,
   "metadata": {},
   "outputs": [],
   "source": [
    "a = np.linspace(-1,2,5)\n",
    "b = np.linspace( 3,4,5)\n",
    "print(a)\n",
    "print(b)\n",
    "c = a+b\n",
    "print(c)"
   ]
  },
  {
   "cell_type": "code",
   "execution_count": null,
   "metadata": {},
   "outputs": [],
   "source": [
    "d = 2*a + 5.0*b + a*b/c\n",
    "print(d)"
   ]
  },
  {
   "cell_type": "code",
   "execution_count": null,
   "metadata": {},
   "outputs": [],
   "source": [
    "a[1:] = b[:-1]\n",
    "print(a)"
   ]
  },
  {
   "cell_type": "code",
   "execution_count": null,
   "metadata": {},
   "outputs": [],
   "source": [
    "x = np.arange(10)\n",
    "y = np.arange(11)\n",
    "# x+y"
   ]
  },
  {
   "cell_type": "markdown",
   "metadata": {},
   "source": [
    "For each operator there is an equivalent function if you find that more readable"
   ]
  },
  {
   "cell_type": "code",
   "execution_count": null,
   "metadata": {},
   "outputs": [],
   "source": [
    "c = a/b\n",
    "d = np.divide(a,b)\n",
    "print(c)\n",
    "print(d)"
   ]
  },
  {
   "cell_type": "markdown",
   "metadata": {},
   "source": [
    "**Mathematical functions** --- In addition to basic arithmetic all standard math functions are available\n",
    "* http://docs.scipy.org/doc/numpy/reference/routines.math.html\n",
    "* To quickly remind yourself what is available in Numpy use the `dir` function on the namespace"
   ]
  },
  {
   "cell_type": "code",
   "execution_count": null,
   "metadata": {},
   "outputs": [],
   "source": [
    "dir(np)"
   ]
  },
  {
   "cell_type": "code",
   "execution_count": null,
   "metadata": {},
   "outputs": [],
   "source": [
    "sum(a)"
   ]
  },
  {
   "cell_type": "code",
   "execution_count": null,
   "metadata": {},
   "outputs": [],
   "source": [
    "np.sum(a)"
   ]
  },
  {
   "cell_type": "code",
   "execution_count": null,
   "metadata": {},
   "outputs": [],
   "source": [
    "N = 1000\n",
    "print(np.sum(np.arange(N)))\n",
    "print(N*(N-1)//2) # exact result\n",
    "print(np.max(np.arange(N)))\n",
    "print(N-1) # exact result"
   ]
  },
  {
   "cell_type": "markdown",
   "metadata": {},
   "source": [
    "You can also apply some of these functions along specific dimensions or axes of an array"
   ]
  },
  {
   "cell_type": "code",
   "execution_count": null,
   "metadata": {},
   "outputs": [],
   "source": [
    "a = np.arange(10).reshape(5,2)\n",
    "print(a)\n",
    "print(np.sum(a))\n",
    "print(np.sum(a,0))\n",
    "print(np.sum(a,1))"
   ]
  },
  {
   "cell_type": "markdown",
   "metadata": {},
   "source": [
    "### Broadcasting \n",
    "\n",
    "In addition to elementwise operations that demand arrays in an operation (e.g., `a+b`) have the same shape, Numpy can promote or broadcast data to enable you to do operations with arrays that have different shapes and dimensions (https://docs.scipy.org/doc/numpy-1.13.0/user/basics.broadcasting.html).  \n",
    "\n",
    "Two dimensions are compatible when\n",
    "* they are equal (in which case corresponding elements are combined), or\n",
    "* one of them is of size 1 (in which case this value is broadcast to combine with elements in the other array)\n",
    "\n",
    "You've already seen this with a scalar value being logically promoted to an array with dimension provided by the other argument --- or as if the value was broadcast to all elements in the array."
   ]
  },
  {
   "cell_type": "code",
   "execution_count": null,
   "metadata": {},
   "outputs": [],
   "source": [
    "a = np.zeros((9,3))\n",
    "a[1:,:3] = 99\n",
    "print(a)"
   ]
  },
  {
   "cell_type": "code",
   "execution_count": null,
   "metadata": {},
   "outputs": [],
   "source": [
    "print(id(a))\n",
    "a *= 7\n",
    "print(id(a))\n",
    "print(a)"
   ]
  },
  {
   "cell_type": "code",
   "execution_count": null,
   "metadata": {},
   "outputs": [],
   "source": [
    "i = 99\n",
    "print(i,id(i))\n",
    "i *= 2\n",
    "print(i,id(i))"
   ]
  },
  {
   "cell_type": "code",
   "execution_count": null,
   "metadata": {},
   "outputs": [],
   "source": [
    "a = np.linspace(0,5,11)\n",
    "print(a)\n",
    "a *= 5.0 # The scalar 5 behaves as if we had written a*np.full(11,5.0)\n",
    "print(a)"
   ]
  },
  {
   "cell_type": "markdown",
   "metadata": {},
   "source": [
    "If you think of a scalar as an array of length 1, then we can apply the same logic to combining two arrays when in one array a dimension is 1 and in the other array it is larger --- the scalar value is broadcast across the larger  dimension (yes, I find this a bit confusing too, but it can be useful).\n",
    "\n",
    "Let's say we have a matrix `B` and we want to multiply all elements in the first column by 1, the second column by 2, the third column by 3, and so on."
   ]
  },
  {
   "cell_type": "code",
   "execution_count": null,
   "metadata": {},
   "outputs": [],
   "source": [
    "x = np.arange(1,5)  # The values we want to multiply by\n",
    "B = np.arange(16).reshape(4,4) # The matrix we want to scale\n",
    "print(\"x\")\n",
    "print(x)\n",
    "print(\"B\")\n",
    "print(B)\n"
   ]
  },
  {
   "cell_type": "code",
   "execution_count": null,
   "metadata": {},
   "outputs": [],
   "source": [
    "print(\"\\nB*x\")\n",
    "print(B*x) # x[j] is broadcast as if we had made the matrix a[i,j]=x[j]"
   ]
  },
  {
   "cell_type": "code",
   "execution_count": null,
   "metadata": {},
   "outputs": [],
   "source": [
    "\n",
    "A = np.zeros((4,4),dtype=np.int64)\n",
    "for i in range(4):\n",
    "    A[i,:] = x\n",
    "print(A)\n",
    "print(\"\\nB*A with A having elements of x manually broadcast across rows\")\n",
    "print(B*A)\n",
    "\n",
    "print(\"\\nx*B\") # since the * operation is elementwise order does not matter (unlike matrix multiplication)\n",
    "print(x*B)\n"
   ]
  },
  {
   "cell_type": "markdown",
   "metadata": {},
   "source": [
    "**Vector and matrix products**\n",
    "\n",
    "A common operation is computing the dot (or inner) product of two vectors\n",
    "\n",
    "$$x\\cdot y = x^T y = \\sum_i x_i y_i $$"
   ]
  },
  {
   "cell_type": "code",
   "execution_count": null,
   "metadata": {},
   "outputs": [],
   "source": [
    "x = np.random.random(10)\n",
    "y = np.random.random(10)\n",
    "total = 0.0\n",
    "for i in range(10):\n",
    "    total += x[i]*y[i]\n",
    "print(total)\n",
    "print(np.dot(x,y))\n",
    "print(x.dot(y))"
   ]
  },
  {
   "cell_type": "markdown",
   "metadata": {},
   "source": [
    "Python recently introduced the `@` (at) operator to denote the inner product of vectors/matrices, or matrix/vector multiplication.   If you prefer, you can use this instead of the `dot` function.\n",
    "\n",
    "Remember, for NumPy arrays (vectors, matrices, etc)\n",
    "* `*` means element-wise combination of arrays\n",
    "* `@` means inner (`dot`) product "
   ]
  },
  {
   "cell_type": "code",
   "execution_count": null,
   "metadata": {},
   "outputs": [],
   "source": [
    "x@y"
   ]
  },
  {
   "cell_type": "markdown",
   "metadata": {},
   "source": [
    "And similarly for matrices (matrix multiplication)\n",
    "\n",
    "$$a_{i j} = \\sum_k b_{i k} c_{k j}$$"
   ]
  },
  {
   "cell_type": "code",
   "execution_count": null,
   "metadata": {},
   "outputs": [],
   "source": [
    "b = np.random.random((5,3))\n",
    "c = np.random.random((3,2))\n",
    "print(b)\n",
    "print()\n",
    "print(c)\n",
    "print()\n",
    "a = np.dot(b,c)\n",
    "print(a)\n",
    "print()\n",
    "print(b@c)"
   ]
  },
  {
   "cell_type": "markdown",
   "metadata": {},
   "source": [
    "**Lots of other numerical and mathematical tools** in Numpy (http://docs.scipy.org/doc/numpy/reference/) and the rest of SciPy."
   ]
  },
  {
   "cell_type": "code",
   "execution_count": null,
   "metadata": {},
   "outputs": [],
   "source": []
  },
  {
   "cell_type": "markdown",
   "metadata": {},
   "source": [
    "### Why numpy?  \n",
    "\n",
    "Lots of good reasons\n",
    "* multidimensional data\n",
    "* lots of powerful numerical options\n",
    "* interfacing to third party packages\n",
    "* working with very large data\n",
    "* many numerical algorithms are hard to implement correctly and efficiently\n",
    "* concise expression of simple and many complex operations\n",
    "\n",
    "But perhaps reason number 1 is **speed**\n",
    "\n",
    "Look at the help on the %timeit and %%timeit magic commands (for Jupyter notebook)"
   ]
  },
  {
   "cell_type": "code",
   "execution_count": null,
   "metadata": {},
   "outputs": [],
   "source": [
    "?%timeit"
   ]
  },
  {
   "cell_type": "code",
   "execution_count": null,
   "metadata": {},
   "outputs": [],
   "source": [
    "# time making an array containing the first 10 million integers and then summing it using numpy\n",
    "%timeit -n 10 np.sum(np.arange(10000000))"
   ]
  },
  {
   "cell_type": "code",
   "execution_count": null,
   "metadata": {},
   "outputs": [],
   "source": [
    "# The same using a Python list\n",
    "%timeit -n 10 sum(list(range(10000000)))"
   ]
  },
  {
   "cell_type": "code",
   "execution_count": null,
   "metadata": {},
   "outputs": [],
   "source": [
    "# The same again using Python skipping making the Python list\n",
    "%timeit -n 10 sum(range(10000000))"
   ]
  },
  {
   "cell_type": "code",
   "execution_count": null,
   "metadata": {},
   "outputs": [],
   "source": [
    "%%timeit -n 1 # Note two percent symbols ... must be the first line in the cell\n",
    "# The same again using a for loop\n",
    "s = 0\n",
    "for i in range(10000000): s = s + i"
   ]
  },
  {
   "cell_type": "markdown",
   "metadata": {},
   "source": [
    "Observations\n",
    "* Numpy arrays are much faster and memory efficient than Python lists\n",
    "* Use builtin functions where possible --- faster and less code usually means less errors"
   ]
  },
  {
   "cell_type": "markdown",
   "metadata": {},
   "source": [
    "### Vectorizing functions\n",
    "\n",
    "Sometimes we need to operate on each element with some Python code but to get good performance we should try to avoid writing Python loops over elements in our vectors and matrices, and instead use vectorized algorithms where the loop is implemented by Numpy (rather than by you in Python). \n",
    "\n",
    "Here's a Python function that implements a step function (this is easy to do in Numpy but you can see that the function could be doing anything)."
   ]
  },
  {
   "cell_type": "code",
   "execution_count": null,
   "metadata": {},
   "outputs": [],
   "source": [
    "def Theta(x):\n",
    "    \" Scalar implementation of the Heaviside step function. \"\n",
    "    if x >= 0:\n",
    "        return 1\n",
    "    else:\n",
    "        return 0\n",
    "print(Theta(3.0), Theta(-1.0))"
   ]
  },
  {
   "cell_type": "code",
   "execution_count": null,
   "metadata": {},
   "outputs": [],
   "source": [
    "import matplotlib.pyplot as plt\n",
    "%matplotlib inline\n",
    "x = np.linspace(-3,3,49)\n",
    "y = np.array([Theta(value) for value in x]) # Note use of a Python list comprehension \n",
    "print(x)\n",
    "print(y)\n",
    "plt.plot(x,y);\n",
    "plt.show()"
   ]
  },
  {
   "cell_type": "code",
   "execution_count": null,
   "metadata": {},
   "outputs": [],
   "source": []
  },
  {
   "cell_type": "markdown",
   "metadata": {},
   "source": [
    "But if we try to apply it to an array it breaks since Numpy is confused about what to do with it"
   ]
  },
  {
   "cell_type": "code",
   "execution_count": null,
   "metadata": {},
   "outputs": [],
   "source": [
    "a = np.array([-3,-2,-1,0,1,2,3])\n",
    "# Theta(a)"
   ]
  },
  {
   "cell_type": "markdown",
   "metadata": {},
   "source": [
    "We could write a python loop (or a list comprehension like we did in the plot), but we know this will be slow\n",
    "* And it is also error prone since we have to write more code"
   ]
  },
  {
   "cell_type": "code",
   "execution_count": null,
   "metadata": {},
   "outputs": [],
   "source": [
    "result = np.copy(a)\n",
    "for i,value in enumerate(result):  # Do you remember what enumerate does?\n",
    "    result[i] = Theta(value)\n",
    "print(result)\n",
    "print([Theta(value) for value in a])"
   ]
  },
  {
   "cell_type": "markdown",
   "metadata": {},
   "source": [
    "The first step in converting a scalar algorithm to a vectorized algorithm is to make sure that the functions we write work with vector inputs.\n",
    "* We do this with the `np.vectorize` function"
   ]
  },
  {
   "cell_type": "code",
   "execution_count": null,
   "metadata": {},
   "outputs": [],
   "source": [
    "Theta_vectorized = np.vectorize(Theta)\n",
    "print(a)\n",
    "print(Theta_vectorized(a)) # We can apply the \"vectorized\" function directly to an array"
   ]
  },
  {
   "cell_type": "markdown",
   "metadata": {},
   "source": [
    "We can also implement the function to accept a vector input from the beginning (requires more effort but will probably give better performance):"
   ]
  },
  {
   "cell_type": "code",
   "execution_count": null,
   "metadata": {},
   "outputs": [],
   "source": [
    "def Theta_vector_aware(x):\n",
    "    \" Vector-aware implementation of the Heaviside step function \" \n",
    "    return 1 * (x >= 0)\n",
    "\n",
    "Theta_vector_aware(np.array([-3,-2,-1,0,1,2,3]))"
   ]
  },
  {
   "cell_type": "code",
   "execution_count": null,
   "metadata": {},
   "outputs": [],
   "source": [
    "(a > 0)*1  # Sneaky but standard trick for converting True/False into 1/0 ... works with Python bools/ints also"
   ]
  },
  {
   "cell_type": "code",
   "execution_count": null,
   "metadata": {},
   "outputs": [],
   "source": [
    "x = 99\n",
    "gt0 = x>0\n",
    "print(gt0, int(gt0))"
   ]
  },
  {
   "cell_type": "code",
   "execution_count": null,
   "metadata": {},
   "outputs": [],
   "source": [
    "bool(\"dsjflksajkfl\"), bool(\"\")"
   ]
  },
  {
   "cell_type": "code",
   "execution_count": null,
   "metadata": {},
   "outputs": [],
   "source": [
    "int(True), int(False)"
   ]
  },
  {
   "cell_type": "code",
   "execution_count": null,
   "metadata": {},
   "outputs": [],
   "source": [
    "# still works for scalars as well\n",
    "Theta_vector_aware(-1.2), Theta_vector_aware(2.6)"
   ]
  },
  {
   "cell_type": "markdown",
   "metadata": {},
   "source": [
    "Which is the fastest?"
   ]
  },
  {
   "cell_type": "code",
   "execution_count": null,
   "metadata": {},
   "outputs": [],
   "source": [
    "N = 1000000\n",
    "x = np.random.random(N) - 0.5\n"
   ]
  },
  {
   "cell_type": "code",
   "execution_count": null,
   "metadata": {},
   "outputs": [],
   "source": [
    "# Python loop appending to initially empty list\n",
    "result = []\n",
    "%timeit -n 10 -r 1 for i in range(N): result.append(Theta(x[i]))"
   ]
  },
  {
   "cell_type": "code",
   "execution_count": null,
   "metadata": {},
   "outputs": [],
   "source": [
    "# Python loop assigning into pre-allocated list\n",
    "result = list(x)\n",
    "%timeit -n 10 -r 1 for i in range(N): result[i] = Theta(x[i])"
   ]
  },
  {
   "cell_type": "code",
   "execution_count": null,
   "metadata": {},
   "outputs": [],
   "source": [
    "# Python loop assigning into pre-allocated Numpy array\n",
    "result = np.copy(x)\n",
    "%timeit -n 10 -r 1 for i in range(N): result[i] = Theta(x[i])"
   ]
  },
  {
   "cell_type": "code",
   "execution_count": null,
   "metadata": {},
   "outputs": [],
   "source": [
    "# Python list comprehension\n",
    "%timeit -n 10 -r 1 result = [Theta(value) for value in x]"
   ]
  },
  {
   "cell_type": "code",
   "execution_count": null,
   "metadata": {},
   "outputs": [],
   "source": [
    "# Vectorized Python function operating on array\n",
    "%timeit -n 10 -r 1 result = Theta_vectorized(x)"
   ]
  },
  {
   "cell_type": "code",
   "execution_count": null,
   "metadata": {},
   "outputs": [],
   "source": [
    "# Vector aware function operating on array\n",
    "%timeit -n 10 Theta_vector_aware(x)"
   ]
  },
  {
   "cell_type": "code",
   "execution_count": null,
   "metadata": {},
   "outputs": [],
   "source": [
    "# Numpy builtin step function\n",
    "%timeit -n 10 np.heaviside(x,1.0)"
   ]
  },
  {
   "cell_type": "markdown",
   "metadata": {},
   "source": [
    "On my laptop (while running in power save on battery) --- speed up is relative to Python append\n",
    "\n",
    "| Version | Time(ms) | Speedup |\n",
    "| :-- | :-- | :-- |\n",
    "| Python list append | 582 | 1.0 |\n",
    "| Python list insert | 547 | 1.06 |\n",
    "| Python array insert | 670 | 0.87 |\n",
    "| Python list comp.  | 452 | 1.29 |\n",
    "| Vectorized Python func. | 243 | 2.40 |\n",
    "| Vector aware func. | 2.35 | 248 |\n",
    "| Numpy builtin | 11.4 | 51.0 |"
   ]
  },
  {
   "cell_type": "code",
   "execution_count": null,
   "metadata": {},
   "outputs": [],
   "source": []
  },
  {
   "cell_type": "code",
   "execution_count": null,
   "metadata": {},
   "outputs": [],
   "source": []
  },
  {
   "cell_type": "markdown",
   "metadata": {},
   "source": [
    "## Algorithmic complexity (and a little more benchmarking)\n",
    "\n",
    "Since we are talking about the time calculations take this is a good opportunity to discuss algorithmic complexity --- i.e., how long calculations take as a function of the size of the input.\n",
    "\n",
    "If we are making adding two vectors of length `N` how do you expect the time taken to increase as we increase `N`?\n",
    "\n",
    "The Python code is something like\n",
    "```\n",
    "for i in range(N):\n",
    "    c[i] = a[i] + b[i]\n",
    "```\n",
    "\n",
    "How many times is the statement inside the for-loop executed?"
   ]
  },
  {
   "cell_type": "markdown",
   "metadata": {},
   "source": [
    "Aside: Introduce Python builtin function `eval` along with associated concerns.\n",
    "\n",
    "Let's measure the time as a function of `N` using Numpy instead of native Python"
   ]
  },
  {
   "cell_type": "code",
   "execution_count": null,
   "metadata": {},
   "outputs": [],
   "source": [
    "eval('1+2')"
   ]
  },
  {
   "cell_type": "code",
   "execution_count": null,
   "metadata": {},
   "outputs": [],
   "source": []
  },
  {
   "cell_type": "code",
   "execution_count": null,
   "metadata": {},
   "outputs": [],
   "source": [
    "import timeit\n",
    "?timeit.Timer.timeit"
   ]
  },
  {
   "cell_type": "code",
   "execution_count": null,
   "metadata": {},
   "outputs": [],
   "source": [
    "import timeit\n",
    "times = []\n",
    "Ns = []\n",
    "for m in range(24):\n",
    "    N = 2**m\n",
    "    timer = timeit.Timer(\"c = a+b\",\n",
    "                         setup=\"import numpy as np; N=%d; a=np.zeros(N); b=np.zeros(N)\"%(N))\n",
    "    timer.timeit(number=10) # Discard the initial measurement \n",
    "    times.append(timer.timeit(number=100))\n",
    "    Ns.append(N)\n",
    "print(times)\n",
    "print(Ns)"
   ]
  },
  {
   "cell_type": "code",
   "execution_count": null,
   "metadata": {},
   "outputs": [],
   "source": [
    "plt.plot(Ns,times)\n",
    "plt.show()"
   ]
  },
  {
   "cell_type": "markdown",
   "metadata": {},
   "source": [
    "This is clearly linear, with this behavior dominating for large N.  Computer scientists and mathematicians would say that the cost of this computation is $O(N)$  (read as big-oh N) or **order N**.  This means that for sufficiently large $N$ the cost of the calculation is $\\le C N$ for some constant $C$.  \n",
    "\n",
    "In other words, *if we double $N$ then the cost of the calculation is doubled* because $(2N)^1 = 2 N$ (for sufficiently large $N$)."
   ]
  },
  {
   "cell_type": "markdown",
   "metadata": {},
   "source": [
    "What about multiplying a vector by a matrix?\n",
    "$$\n",
    "y_i = \\sum_j a_{i j} x_j\n",
    "$$\n",
    "\n",
    "Or in Python\n",
    "```\n",
    "for i in range(N):\n",
    "    for j in range(N):\n",
    "        y[i] += a[i,j]*x[j]\n",
    "```\n",
    "How many times is the statement in the inner loop executed?\n",
    "\n",
    "Let's time it using the Numpy equivalent operation (`dot`)"
   ]
  },
  {
   "cell_type": "code",
   "execution_count": null,
   "metadata": {},
   "outputs": [],
   "source": [
    "import timeit\n",
    "times = []\n",
    "Ns = []\n",
    "for N in range(200,2200,200):\n",
    "    timer = timeit.Timer(\"y = np.dot(A,x)\",\n",
    "                         setup=\"import numpy as np; N=%d; A=np.zeros((N,N)); x=np.zeros(N)\"%(N))\n",
    "    timer.timeit(number=10) # Discard the initial measurement \n",
    "    times.append(timer.timeit(number=4000))\n",
    "    Ns.append(N)\n",
    "print(times)\n",
    "print(Ns)"
   ]
  },
  {
   "cell_type": "code",
   "execution_count": null,
   "metadata": {},
   "outputs": [],
   "source": [
    "plt.plot(Ns,times)\n",
    "plt.show()"
   ]
  },
  {
   "cell_type": "markdown",
   "metadata": {},
   "source": [
    "This is a quadratic function (though noise in your times may make this hard to see --- ideally you should run this on a completely idle computer).\n",
    "\n",
    "I.e., the cost of matrix-vector multiplication is $O(N^2)$.\n",
    "\n",
    "In other words, *if we double $N$ then the cost of the calculation is quadrupled*  because $(2N)^2 = 4 N^2$.\n",
    "\n",
    "What about matrix multiplication?\n",
    "\n",
    "$$\n",
    "c_{ij} = \\sum_k a_{i k} b_{k j}\n",
    "$$\n",
    "\n",
    "Or in Python with `c` initialized to zero\n",
    "```\n",
    "for i in range(N):\n",
    "    for j in range(N):\n",
    "        for k in range(N):\n",
    "            c[i,j] += a[i,k]*b[k,j]\n",
    "```\n",
    "How many times is the statement in the inner loop executed?\n",
    "\n",
    "Again, let's time the Numpy equivalent"
   ]
  },
  {
   "cell_type": "code",
   "execution_count": null,
   "metadata": {},
   "outputs": [],
   "source": [
    "import timeit\n",
    "times = []\n",
    "Ns = []\n",
    "for N in range(200,1200,100):\n",
    "    timer = timeit.Timer(\"C = np.dot(A,B)\",\n",
    "                         setup=\"import numpy as np; N=%d; A=np.zeros((N,N)); B=np.zeros((N,N))\"%(N))\n",
    "    timer.timeit(number=10) # Discard the initial measurement\n",
    "    times.append(timer.timeit(number=100))\n",
    "    Ns.append(N)\n",
    "print(times)\n",
    "print(Ns)"
   ]
  },
  {
   "cell_type": "code",
   "execution_count": null,
   "metadata": {},
   "outputs": [],
   "source": [
    "plt.plot(Ns,times)\n",
    "plt.show()"
   ]
  },
  {
   "cell_type": "markdown",
   "metadata": {},
   "source": [
    "This is a cubic function (though noise in your times may make this hard to see --- ideally you should run this on a completely idle computer).\n",
    "\n",
    "I.e., the cost of matrix-matrix multiplication is $O(N^3)$.\n",
    "\n",
    "In other words, *if we double $N$ then the cost of the calculation is octupled* because $(2N)^3 = 8 N^3$.\n",
    "\n",
    "Summary:\n",
    "\n",
    "| Operation     |  Order    |\n",
    "| ------------- | --------- |\n",
    "| Vector        |  $O(N)$   |\n",
    "| Matrix-vector |  $O(N^2)$ |\n",
    "| Matrix-matrix |  $O(N^3)$ |\n",
    "\n",
    "So you can see that some algorithms/operations can become very expensive even for apparently small $N$.\n",
    "\n",
    "Some problems can be solved with multiple algorithms that have different algorithmic complexities which can be data dependent.  For example sorting,\n",
    "\n",
    "| Algorithm | Worst case |\n",
    "| --- | --- |\n",
    "| Selection | $O(N^2)$  | \n",
    "| Bubble    | $O(N^2)$  | \n",
    "| Heap sort | $O(N\\log N)$  |\n",
    "| etc.      |  |\n",
    "\n"
   ]
  },
  {
   "cell_type": "markdown",
   "metadata": {},
   "source": [
    "**Exercise:** Time (using either `%timeit` or `timeit.Timer`) each of the implementations of the `Theta` function applied to a vector (Python loop, vectorized Python function, native Numpy function) for vectors of length up to `2**23`.\n"
   ]
  },
  {
   "cell_type": "markdown",
   "metadata": {},
   "source": [
    "## Further reading\n",
    "\n",
    "Reading on NumPy:\n",
    "* Chapter 2 of Numerical Python book\n",
    "* http://www.numpy.org\n",
    "* https://docs.scipy.org/doc/numpy/user/quickstart.html - Quickstart Tutorial for NumPy\n",
    "* https://docs.scipy.org/doc/numpy/user/numpy-for-matlab-users.html - A Numpy guide for MATLAB users.\n",
    "\n",
    "Reading on SciPy:\n",
    "* http://www.scipy.org - The official web page for the SciPy project\n",
    "* http://docs.scipy.org/doc/scipy/reference/tutorial/index.html - A tutorial on how to get started using SciPy. \n",
    "* https://github.com/scipy/scipy/ - The SciPy source code. \n"
   ]
  },
  {
   "cell_type": "markdown",
   "metadata": {},
   "source": [
    "## Acknowledgements\n",
    "\n",
    "Some content adapted from J.R. Johansson's Scientific Python Lectures available at [http://github.com/jrjohansson/scientific-python-lectures](http://github.com/jrjohansson/scientific-python-lectures)."
   ]
  }
 ],
 "metadata": {
  "kernelspec": {
   "display_name": "base",
   "language": "python",
   "name": "python3"
  },
  "language_info": {
   "codemirror_mode": {
    "name": "ipython",
    "version": 3
   },
   "file_extension": ".py",
   "mimetype": "text/x-python",
   "name": "python",
   "nbconvert_exporter": "python",
   "pygments_lexer": "ipython3",
   "version": "3.12.2"
  }
 },
 "nbformat": 4,
 "nbformat_minor": 4
}
